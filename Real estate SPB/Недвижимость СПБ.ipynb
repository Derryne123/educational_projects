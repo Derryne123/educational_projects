{
 "cells": [
  {
   "cell_type": "markdown",
   "metadata": {},
   "source": [
    "## Посмотрим  и изучим имеющиеся данные"
   ]
  },
  {
   "cell_type": "code",
   "execution_count": 1,
   "metadata": {},
   "outputs": [],
   "source": [
    "import pandas as pd"
   ]
  },
  {
   "cell_type": "code",
   "execution_count": 2,
   "metadata": {},
   "outputs": [],
   "source": [
    "data = pd.read_csv('/datasets/real_estate_data.csv', sep='\\t')\n",
    "pd.set_option('display.max_columns', None)"
   ]
  },
  {
   "cell_type": "code",
   "execution_count": 3,
   "metadata": {},
   "outputs": [
    {
     "name": "stdout",
     "output_type": "stream",
     "text": [
      "<class 'pandas.core.frame.DataFrame'>\n",
      "RangeIndex: 23699 entries, 0 to 23698\n",
      "Data columns (total 22 columns):\n",
      " #   Column                Non-Null Count  Dtype  \n",
      "---  ------                --------------  -----  \n",
      " 0   total_images          23699 non-null  int64  \n",
      " 1   last_price            23699 non-null  float64\n",
      " 2   total_area            23699 non-null  float64\n",
      " 3   first_day_exposition  23699 non-null  object \n",
      " 4   rooms                 23699 non-null  int64  \n",
      " 5   ceiling_height        14504 non-null  float64\n",
      " 6   floors_total          23613 non-null  float64\n",
      " 7   living_area           21796 non-null  float64\n",
      " 8   floor                 23699 non-null  int64  \n",
      " 9   is_apartment          2775 non-null   object \n",
      " 10  studio                23699 non-null  bool   \n",
      " 11  open_plan             23699 non-null  bool   \n",
      " 12  kitchen_area          21421 non-null  float64\n",
      " 13  balcony               12180 non-null  float64\n",
      " 14  locality_name         23650 non-null  object \n",
      " 15  airports_nearest      18157 non-null  float64\n",
      " 16  cityCenters_nearest   18180 non-null  float64\n",
      " 17  parks_around3000      18181 non-null  float64\n",
      " 18  parks_nearest         8079 non-null   float64\n",
      " 19  ponds_around3000      18181 non-null  float64\n",
      " 20  ponds_nearest         9110 non-null   float64\n",
      " 21  days_exposition       20518 non-null  float64\n",
      "dtypes: bool(2), float64(14), int64(3), object(3)\n",
      "memory usage: 3.7+ MB\n"
     ]
    }
   ],
   "source": [
    "data.info()"
   ]
  },
  {
   "cell_type": "code",
   "execution_count": 4,
   "metadata": {},
   "outputs": [
    {
     "data": {
      "text/html": [
       "<div>\n",
       "<style scoped>\n",
       "    .dataframe tbody tr th:only-of-type {\n",
       "        vertical-align: middle;\n",
       "    }\n",
       "\n",
       "    .dataframe tbody tr th {\n",
       "        vertical-align: top;\n",
       "    }\n",
       "\n",
       "    .dataframe thead th {\n",
       "        text-align: right;\n",
       "    }\n",
       "</style>\n",
       "<table border=\"1\" class=\"dataframe\">\n",
       "  <thead>\n",
       "    <tr style=\"text-align: right;\">\n",
       "      <th></th>\n",
       "      <th>total_images</th>\n",
       "      <th>last_price</th>\n",
       "      <th>total_area</th>\n",
       "      <th>first_day_exposition</th>\n",
       "      <th>rooms</th>\n",
       "      <th>ceiling_height</th>\n",
       "      <th>floors_total</th>\n",
       "      <th>living_area</th>\n",
       "      <th>floor</th>\n",
       "      <th>is_apartment</th>\n",
       "      <th>studio</th>\n",
       "      <th>open_plan</th>\n",
       "      <th>kitchen_area</th>\n",
       "      <th>balcony</th>\n",
       "      <th>locality_name</th>\n",
       "      <th>airports_nearest</th>\n",
       "      <th>cityCenters_nearest</th>\n",
       "      <th>parks_around3000</th>\n",
       "      <th>parks_nearest</th>\n",
       "      <th>ponds_around3000</th>\n",
       "      <th>ponds_nearest</th>\n",
       "      <th>days_exposition</th>\n",
       "    </tr>\n",
       "  </thead>\n",
       "  <tbody>\n",
       "    <tr>\n",
       "      <th>0</th>\n",
       "      <td>20</td>\n",
       "      <td>13000000.0</td>\n",
       "      <td>108.0</td>\n",
       "      <td>2019-03-07T00:00:00</td>\n",
       "      <td>3</td>\n",
       "      <td>2.70</td>\n",
       "      <td>16.0</td>\n",
       "      <td>51.0</td>\n",
       "      <td>8</td>\n",
       "      <td>NaN</td>\n",
       "      <td>False</td>\n",
       "      <td>False</td>\n",
       "      <td>25.0</td>\n",
       "      <td>NaN</td>\n",
       "      <td>Санкт-Петербург</td>\n",
       "      <td>18863.0</td>\n",
       "      <td>16028.0</td>\n",
       "      <td>1.0</td>\n",
       "      <td>482.0</td>\n",
       "      <td>2.0</td>\n",
       "      <td>755.0</td>\n",
       "      <td>NaN</td>\n",
       "    </tr>\n",
       "    <tr>\n",
       "      <th>1</th>\n",
       "      <td>7</td>\n",
       "      <td>3350000.0</td>\n",
       "      <td>40.4</td>\n",
       "      <td>2018-12-04T00:00:00</td>\n",
       "      <td>1</td>\n",
       "      <td>NaN</td>\n",
       "      <td>11.0</td>\n",
       "      <td>18.6</td>\n",
       "      <td>1</td>\n",
       "      <td>NaN</td>\n",
       "      <td>False</td>\n",
       "      <td>False</td>\n",
       "      <td>11.0</td>\n",
       "      <td>2.0</td>\n",
       "      <td>посёлок Шушары</td>\n",
       "      <td>12817.0</td>\n",
       "      <td>18603.0</td>\n",
       "      <td>0.0</td>\n",
       "      <td>NaN</td>\n",
       "      <td>0.0</td>\n",
       "      <td>NaN</td>\n",
       "      <td>81.0</td>\n",
       "    </tr>\n",
       "    <tr>\n",
       "      <th>2</th>\n",
       "      <td>10</td>\n",
       "      <td>5196000.0</td>\n",
       "      <td>56.0</td>\n",
       "      <td>2015-08-20T00:00:00</td>\n",
       "      <td>2</td>\n",
       "      <td>NaN</td>\n",
       "      <td>5.0</td>\n",
       "      <td>34.3</td>\n",
       "      <td>4</td>\n",
       "      <td>NaN</td>\n",
       "      <td>False</td>\n",
       "      <td>False</td>\n",
       "      <td>8.3</td>\n",
       "      <td>0.0</td>\n",
       "      <td>Санкт-Петербург</td>\n",
       "      <td>21741.0</td>\n",
       "      <td>13933.0</td>\n",
       "      <td>1.0</td>\n",
       "      <td>90.0</td>\n",
       "      <td>2.0</td>\n",
       "      <td>574.0</td>\n",
       "      <td>558.0</td>\n",
       "    </tr>\n",
       "    <tr>\n",
       "      <th>3</th>\n",
       "      <td>0</td>\n",
       "      <td>64900000.0</td>\n",
       "      <td>159.0</td>\n",
       "      <td>2015-07-24T00:00:00</td>\n",
       "      <td>3</td>\n",
       "      <td>NaN</td>\n",
       "      <td>14.0</td>\n",
       "      <td>NaN</td>\n",
       "      <td>9</td>\n",
       "      <td>NaN</td>\n",
       "      <td>False</td>\n",
       "      <td>False</td>\n",
       "      <td>NaN</td>\n",
       "      <td>0.0</td>\n",
       "      <td>Санкт-Петербург</td>\n",
       "      <td>28098.0</td>\n",
       "      <td>6800.0</td>\n",
       "      <td>2.0</td>\n",
       "      <td>84.0</td>\n",
       "      <td>3.0</td>\n",
       "      <td>234.0</td>\n",
       "      <td>424.0</td>\n",
       "    </tr>\n",
       "    <tr>\n",
       "      <th>4</th>\n",
       "      <td>2</td>\n",
       "      <td>10000000.0</td>\n",
       "      <td>100.0</td>\n",
       "      <td>2018-06-19T00:00:00</td>\n",
       "      <td>2</td>\n",
       "      <td>3.03</td>\n",
       "      <td>14.0</td>\n",
       "      <td>32.0</td>\n",
       "      <td>13</td>\n",
       "      <td>NaN</td>\n",
       "      <td>False</td>\n",
       "      <td>False</td>\n",
       "      <td>41.0</td>\n",
       "      <td>NaN</td>\n",
       "      <td>Санкт-Петербург</td>\n",
       "      <td>31856.0</td>\n",
       "      <td>8098.0</td>\n",
       "      <td>2.0</td>\n",
       "      <td>112.0</td>\n",
       "      <td>1.0</td>\n",
       "      <td>48.0</td>\n",
       "      <td>121.0</td>\n",
       "    </tr>\n",
       "  </tbody>\n",
       "</table>\n",
       "</div>"
      ],
      "text/plain": [
       "   total_images  last_price  total_area first_day_exposition  rooms  \\\n",
       "0            20  13000000.0       108.0  2019-03-07T00:00:00      3   \n",
       "1             7   3350000.0        40.4  2018-12-04T00:00:00      1   \n",
       "2            10   5196000.0        56.0  2015-08-20T00:00:00      2   \n",
       "3             0  64900000.0       159.0  2015-07-24T00:00:00      3   \n",
       "4             2  10000000.0       100.0  2018-06-19T00:00:00      2   \n",
       "\n",
       "   ceiling_height  floors_total  living_area  floor is_apartment  studio  \\\n",
       "0            2.70          16.0         51.0      8          NaN   False   \n",
       "1             NaN          11.0         18.6      1          NaN   False   \n",
       "2             NaN           5.0         34.3      4          NaN   False   \n",
       "3             NaN          14.0          NaN      9          NaN   False   \n",
       "4            3.03          14.0         32.0     13          NaN   False   \n",
       "\n",
       "   open_plan  kitchen_area  balcony    locality_name  airports_nearest  \\\n",
       "0      False          25.0      NaN  Санкт-Петербург           18863.0   \n",
       "1      False          11.0      2.0   посёлок Шушары           12817.0   \n",
       "2      False           8.3      0.0  Санкт-Петербург           21741.0   \n",
       "3      False           NaN      0.0  Санкт-Петербург           28098.0   \n",
       "4      False          41.0      NaN  Санкт-Петербург           31856.0   \n",
       "\n",
       "   cityCenters_nearest  parks_around3000  parks_nearest  ponds_around3000  \\\n",
       "0              16028.0               1.0          482.0               2.0   \n",
       "1              18603.0               0.0            NaN               0.0   \n",
       "2              13933.0               1.0           90.0               2.0   \n",
       "3               6800.0               2.0           84.0               3.0   \n",
       "4               8098.0               2.0          112.0               1.0   \n",
       "\n",
       "   ponds_nearest  days_exposition  \n",
       "0          755.0              NaN  \n",
       "1            NaN             81.0  \n",
       "2          574.0            558.0  \n",
       "3          234.0            424.0  \n",
       "4           48.0            121.0  "
      ]
     },
     "execution_count": 4,
     "metadata": {},
     "output_type": "execute_result"
    }
   ],
   "source": [
    "data.head()"
   ]
  },
  {
   "cell_type": "code",
   "execution_count": 5,
   "metadata": {
    "scrolled": true
   },
   "outputs": [
    {
     "data": {
      "image/png": "[encoded data removed]",
      "text/plain": [
       "<Figure size 1080x1800 with 20 Axes>"
      ]
     },
     "metadata": {
      "needs_background": "light"
     },
     "output_type": "display_data"
    }
   ],
   "source": [
    "data.hist(figsize=(15, 25));"
   ]
  },
  {
   "cell_type": "markdown",
   "metadata": {},
   "source": [
    "### вывод"
   ]
  },
  {
   "cell_type": "markdown",
   "metadata": {},
   "source": [
    "Есть пропуски в сдед. столбцах:\n",
    "\n",
    "ceiling_height, floors_total, living_area, kitchen_area, balcony, floors_total, is_apartment, locality_name,\n",
    "airports_nearest, cityCenters_nearest, parks_around3000, parks_nearest, ponds_around3000, ponds_nearest, days_exposition\n",
    "\n",
    "Явных дубликатов нет, неявные нужно проверить\n",
    "\n",
    "Поменять тип данных в след. столбцах:\n",
    "\n",
    "first_day_exposition, last_price, floors_total,days_exposition, is_apartment, balcony\n",
    "\n",
    "В столбце ceiling_height есть экземпляры с высотой потолков, более 10 местров"
   ]
  },
  {
   "cell_type": "markdown",
   "metadata": {},
   "source": [
    "### Предобработка данных"
   ]
  },
  {
   "cell_type": "markdown",
   "metadata": {},
   "source": [
    "### замена пропусков"
   ]
  },
  {
   "cell_type": "code",
   "execution_count": 6,
   "metadata": {},
   "outputs": [],
   "source": [
    "data['ceiling_height'] = data['ceiling_height'].fillna(data['ceiling_height'].median())\n",
    "data['living_area'] = data['living_area'].fillna(data['total_area'] - data['kitchen_area'])\n",
    "data['kitchen_area'] = data['kitchen_area'].fillna(data['total_area'] - data['living_area'])\n",
    "data['balcony'] = data['balcony'].fillna(0)\n",
    "data = data.dropna(subset=['floors_total']).reset_index(drop=True) "
   ]
  },
  {
   "cell_type": "markdown",
   "metadata": {},
   "source": [
    "Пропущены значения в стобцах:\n",
    "\n",
    "-ceiling_height (заменил на медианное значение)\n",
    "\n",
    "-floors_total (пропусков было не значительное количество, просто удалил)\n",
    "\n",
    "-living_area (где возможно из общей площади вычел площадь кухни, как раз получилась жилая площадь)\n",
    "\n",
    "-kitchen_area (аналогично жилой площади)\n",
    "\n",
    "-balcony (пропуски заменены на 0)"
   ]
  },
  {
   "cell_type": "markdown",
   "metadata": {},
   "source": [
    "### изменение типов данных"
   ]
  },
  {
   "cell_type": "code",
   "execution_count": 7,
   "metadata": {},
   "outputs": [],
   "source": [
    "#заменить тип данных:\n",
    "#first_day_exposition, last_price, floors_total,days_exposition, is_apartment, balcony\n",
    "data['first_day_exposition'] = pd.to_datetime(data['first_day_exposition'], format=\"%Y-%m-%d\")\n",
    "data['last_price'] = data['last_price'].astype('int')\n",
    "data['floors_total'] = data['floors_total'].astype('int')\n",
    "#data['days_exposition'] = data['days_exposition'].astype('int')\n",
    "data['is_apartment'] = data['is_apartment'].astype('bool')\n",
    "data['balcony'] = data['balcony'].astype('int')"
   ]
  },
  {
   "cell_type": "markdown",
   "metadata": {},
   "source": [
    "Заменить тип данных:\n",
    "\n",
    "-first_day_exposition (уместнее использовать в формате DateTime)\n",
    "\n",
    "-last_price (целочисленные значения в столбце, поэтому тип должен быть INT)\n",
    "\n",
    "-floors_total (целочисленные значения в столбце, поэтому тип должен быть INT)\n",
    "\n",
    "-days_exposition (целочисленные значения в столбце, поэтому тип должен быть INT)\n",
    "\n",
    "-is_apartment (логические значения в столбце, поэтому тип должен быть bool)\n",
    "\n",
    "-balcony (целочисленные значения в столбце, поэтому тип должен быть INT)"
   ]
  },
  {
   "cell_type": "code",
   "execution_count": 8,
   "metadata": {},
   "outputs": [],
   "source": [
    "data = data[data['ceiling_height'] < 10].reset_index(drop=True)"
   ]
  },
  {
   "cell_type": "code",
   "execution_count": 9,
   "metadata": {
    "scrolled": true
   },
   "outputs": [
    {
     "name": "stdout",
     "output_type": "stream",
     "text": [
      "<class 'pandas.core.frame.DataFrame'>\n",
      "RangeIndex: 23588 entries, 0 to 23587\n",
      "Data columns (total 22 columns):\n",
      " #   Column                Non-Null Count  Dtype         \n",
      "---  ------                --------------  -----         \n",
      " 0   total_images          23588 non-null  int64         \n",
      " 1   last_price            23588 non-null  int64         \n",
      " 2   total_area            23588 non-null  float64       \n",
      " 3   first_day_exposition  23588 non-null  datetime64[ns]\n",
      " 4   rooms                 23588 non-null  int64         \n",
      " 5   ceiling_height        23588 non-null  float64       \n",
      " 6   floors_total          23588 non-null  int64         \n",
      " 7   living_area           22157 non-null  float64       \n",
      " 8   floor                 23588 non-null  int64         \n",
      " 9   is_apartment          23588 non-null  bool          \n",
      " 10  studio                23588 non-null  bool          \n",
      " 11  open_plan             23588 non-null  bool          \n",
      " 12  kitchen_area          22157 non-null  float64       \n",
      " 13  balcony               23588 non-null  int64         \n",
      " 14  locality_name         23540 non-null  object        \n",
      " 15  airports_nearest      18065 non-null  float64       \n",
      " 16  cityCenters_nearest   18088 non-null  float64       \n",
      " 17  parks_around3000      18089 non-null  float64       \n",
      " 18  parks_nearest         8037 non-null   float64       \n",
      " 19  ponds_around3000      18089 non-null  float64       \n",
      " 20  ponds_nearest         9053 non-null   float64       \n",
      " 21  days_exposition       20422 non-null  float64       \n",
      "dtypes: bool(3), datetime64[ns](1), float64(11), int64(6), object(1)\n",
      "memory usage: 3.5+ MB\n"
     ]
    }
   ],
   "source": [
    "data.info()"
   ]
  },
  {
   "cell_type": "markdown",
   "metadata": {},
   "source": [
    "### удаление дубликатов"
   ]
  },
  {
   "cell_type": "code",
   "execution_count": 10,
   "metadata": {
    "scrolled": true
   },
   "outputs": [
    {
     "data": {
      "text/plain": [
       "0"
      ]
     },
     "execution_count": 10,
     "metadata": {},
     "output_type": "execute_result"
    }
   ],
   "source": [
    "data.duplicated().sum()"
   ]
  },
  {
   "cell_type": "code",
   "execution_count": 11,
   "metadata": {},
   "outputs": [],
   "source": [
    "data['locality_name'] = data['locality_name'].str.replace('посёлок', 'поселок')\n",
    "data['locality_name'] = data['locality_name'].str.replace('городской поселок', 'поселок')\n",
    "data['locality_name'] = data['locality_name'].str.replace('поселок городского типа', 'поселок')\n",
    "data['locality_name'] = data['locality_name'].str.replace('коттеджный поселок', 'поселок')\n",
    "data['locality_name'] = data['locality_name'].replace('Мурино', 'поселок Мурино')"
   ]
  },
  {
   "cell_type": "code",
   "execution_count": 12,
   "metadata": {},
   "outputs": [
    {
     "data": {
      "text/plain": [
       "array(['Санкт-Петербург', 'поселок Шушары', 'поселок Янино-1',\n",
       "       'поселок Парголово', 'поселок Мурино', 'Ломоносов', 'Сертолово',\n",
       "       'Петергоф', 'Пушкин', 'деревня Кудрово', 'Коммунар', 'Колпино',\n",
       "       'поселок Красный Бор', 'Гатчина', 'деревня Фёдоровское', 'Выборг',\n",
       "       'Кронштадт', 'Кировск', 'деревня Новое Девяткино',\n",
       "       'поселок Металлострой', 'поселок Лебяжье', 'поселок Сиверский',\n",
       "       'поселок Молодцово', 'поселок Кузьмоловский',\n",
       "       'садовое товарищество Новая Ропша', 'Павловск',\n",
       "       'деревня Пикколово', 'Всеволожск', 'Волхов', 'Кингисепп',\n",
       "       'Приозерск', 'Сестрорецк', 'деревня Куттузи', 'поселок Аннино',\n",
       "       'поселок Ефимовский', 'поселок Плодовое', 'деревня Заклинье',\n",
       "       'поселок Торковичи', 'поселок Первомайское', 'Красное Село',\n",
       "       'поселок Понтонный', 'Сясьстрой', 'деревня Старая',\n",
       "       'деревня Лесколово', 'поселок Новый Свет', 'Сланцы',\n",
       "       'село Путилово', 'Ивангород', 'Шлиссельбург', 'Никольское',\n",
       "       'Зеленогорск', 'Сосновый Бор', 'деревня Оржицы',\n",
       "       'деревня Кальтино', 'Кудрово', 'поселок Романовка',\n",
       "       'поселок Бугры', 'поселок Рощино', 'Кириши', 'Луга', 'Волосово',\n",
       "       'Отрадное', 'село Павлово', 'поселок Оредеж', 'село Копорье',\n",
       "       'поселок Молодёжное', 'Тихвин', 'поселок Победа', 'деревня Нурма',\n",
       "       'поселок Синявино', 'Тосно', 'поселок Стрельна', 'Бокситогорск',\n",
       "       'поселок Александровская', 'деревня Лопухинка', 'Пикалёво',\n",
       "       'поселок Терволово', 'поселок Советский', 'Подпорожье',\n",
       "       'поселок Петровское', 'поселок Токсово', 'поселок Сельцо',\n",
       "       'поселок Вырица', 'деревня Кипень', 'деревня Келози',\n",
       "       'деревня Вартемяги', 'поселок Тельмана', 'поселок Севастьяново',\n",
       "       'поселок Большая Ижора', nan, 'поселок Павлово',\n",
       "       'деревня Агалатово', 'поселок Новогорелово', 'поселок Лесогорский',\n",
       "       'деревня Лаголово', 'поселок Цвелодубово', 'поселок Рахья',\n",
       "       'деревня Белогорка', 'поселок Заводской', 'поселок Новоселье',\n",
       "       'деревня Большие Колпаны', 'деревня Горбунки', 'деревня Батово',\n",
       "       'деревня Заневка', 'деревня Иссад', 'Приморск',\n",
       "       'поселок Фёдоровское', 'деревня Мистолово', 'Новая Ладога',\n",
       "       'поселок Зимитицы', 'поселок Барышево', 'деревня Разметелево',\n",
       "       'поселок имени Свердлова', 'деревня Пеники', 'поселок Рябово',\n",
       "       'деревня Пудомяги', 'поселок станции Корнево', 'деревня Низино',\n",
       "       'деревня Бегуницы', 'поселок Поляны', 'поселок Мга',\n",
       "       'поселок Елизаветино', 'поселок Кузнечное', 'деревня Колтуши',\n",
       "       'поселок Запорожское', 'деревня Гостилицы',\n",
       "       'деревня Малое Карлино', 'поселок Мичуринское',\n",
       "       'поселок имени Морозова', 'поселок Песочный', 'поселок Сосново',\n",
       "       'деревня Аро', 'поселок Ильичёво', 'поселок Тайцы',\n",
       "       'деревня Малое Верево', 'деревня Извара', 'поселок станции Вещево',\n",
       "       'село Паша', 'деревня Калитино', 'поселок Ульяновка',\n",
       "       'деревня Чудской Бор', 'поселок Дубровка', 'деревня Мины',\n",
       "       'поселок Войсковицы', 'деревня Коркино', 'поселок Ропша',\n",
       "       'поселок Приладожский', 'поселок Щеглово', 'поселок Гаврилово',\n",
       "       'Лодейное Поле', 'деревня Рабитицы', 'поселок Никольский',\n",
       "       'деревня Кузьмолово', 'деревня Малые Колпаны',\n",
       "       'поселок Петро-Славянка', 'поселок Назия', 'поселок Репино',\n",
       "       'поселок Углово', 'поселок Старая Малукса',\n",
       "       'садовое товарищество Рахья', 'деревня Меньково',\n",
       "       'деревня Старые Бегуницы', 'поселок Сапёрный', 'поселок Семрино',\n",
       "       'поселок Глажево', 'поселок Кобринское', 'деревня Гарболово',\n",
       "       'деревня Юкки', 'поселок станции Приветнинское',\n",
       "       'деревня Мануйлово', 'деревня Пчева', 'поселок Цвылёво',\n",
       "       'поселок Мельниково', 'поселок Пудость', 'поселок Усть-Луга',\n",
       "       'Светогорск', 'Любань', 'поселок Селезнёво', 'Каменногорск',\n",
       "       'деревня Кривко', 'поселок Глебычево', 'деревня Парицы',\n",
       "       'поселок Жилпоселок', 'поселок Войскорово', 'село Никольское',\n",
       "       'поселок Стеклянный', 'поселок Важины', 'поселок Мыза-Ивановка',\n",
       "       'село Русско-Высоцкое', 'поселок Форносово', 'село Старая Ладога',\n",
       "       'поселок Житково', 'поселок Виллози', 'деревня Лампово',\n",
       "       'деревня Шпаньково', 'деревня Лаврики', 'поселок Сумино',\n",
       "       'поселок Возрождение', 'деревня Старосиверская',\n",
       "       'поселок Кикерино', 'деревня Старое Хинколово',\n",
       "       'поселок Пригородный', 'поселок Торфяное', 'поселок Будогощь',\n",
       "       'поселок Суходолье', 'поселок Красная Долина', 'деревня Хапо-Ое',\n",
       "       'поселок Дружная Горка', 'поселок Лисий Нос', 'деревня Яльгелево',\n",
       "       'село Рождествено', 'деревня Старополье', 'поселок Левашово',\n",
       "       'деревня Сяськелево', 'деревня Камышовка',\n",
       "       'садоводческое некоммерческое товарищество Лесная Поляна',\n",
       "       'деревня Хязельки', 'поселок Жилгородок', 'деревня Ялгино',\n",
       "       'поселок Новый Учхоз', 'поселок Гончарово', 'поселок Почап',\n",
       "       'поселок Сапёрное', 'поселок Платформа 69-й километр',\n",
       "       'поселок Каложицы', 'деревня Фалилеево', 'деревня Пельгора',\n",
       "       'деревня Торошковичи', 'поселок Белоостров', 'поселок Алексеевка',\n",
       "       'поселок Серебрянский', 'поселок Лукаши', 'деревня Щеглово',\n",
       "       'деревня Тарасово', 'поселок Кингисеппский',\n",
       "       'поселок при железнодорожной станции Вещево', 'поселок Ушаки',\n",
       "       'деревня Котлы', 'деревня Сижно', 'деревня Торосово',\n",
       "       'поселок Форт Красная Горка', 'деревня Новолисино',\n",
       "       'поселок станции Громово', 'деревня Глинка',\n",
       "       'деревня Старая Пустошь', 'поселок Коммунары', 'поселок Починок',\n",
       "       'поселок Вознесенье', 'деревня Разбегаево', 'поселок Гладкое',\n",
       "       'поселок при железнодорожной станции Приветнинское',\n",
       "       'поселок Тёсово-4', 'деревня Бор', 'поселок Коробицыно',\n",
       "       'деревня Большая Вруда', 'деревня Курковицы', 'поселок Кобралово',\n",
       "       'деревня Суоранда', 'поселок Кондратьево', 'поселок Счастье',\n",
       "       'поселок Любань', 'деревня Реброво', 'деревня Зимитицы',\n",
       "       'деревня Тойворово', 'поселок Семиозерье', 'поселок Лесное',\n",
       "       'поселок Совхозный', 'поселок Ленинское', 'поселок Суйда',\n",
       "       'деревня Нижние Осельки', 'поселок станции Свирь',\n",
       "       'поселок Перово', 'Высоцк', 'поселок Гарболово', 'село Шум',\n",
       "       'поселок Котельский', 'поселок станции Лужайка',\n",
       "       'деревня Большая Пустомержа', 'поселок Красносельское',\n",
       "       'деревня Вахнова Кара', 'деревня Пижма', 'поселок Кивеннапа Север',\n",
       "       'поселок Ромашки', 'деревня Каськово', 'деревня Куровицы',\n",
       "       'поселок Плоское', 'поселок Кирпичное', 'деревня Ям-Тесово',\n",
       "       'деревня Раздолье', 'деревня Терпилицы', 'поселок Шугозеро',\n",
       "       'деревня Ваганово', 'поселок Пушное', 'садовое товарищество Садко',\n",
       "       'поселок Усть-Ижора', 'деревня Выскатка', 'поселок Свирьстрой',\n",
       "       'поселок Громово', 'деревня Кисельня', 'деревня Трубников Бор',\n",
       "       'поселок Калитино', 'поселок Высокоключевой',\n",
       "       'садовое товарищество Приладожский',\n",
       "       'поселок Пансионат Зелёный Бор', 'деревня Ненимяки',\n",
       "       'деревня Снегирёвка', 'деревня Рапполово', 'деревня Пустынка',\n",
       "       'поселок Рабитицы', 'деревня Большой Сабск', 'деревня Русско',\n",
       "       'деревня Лупполово', 'деревня Большое Рейзино',\n",
       "       'деревня Малая Романовка', 'поселок Дружноселье', 'поселок Пчевжа',\n",
       "       'поселок Володарское', 'деревня Тихковицы',\n",
       "       'деревня Борисова Грива', 'поселок Дзержинского'], dtype=object)"
      ]
     },
     "execution_count": 12,
     "metadata": {},
     "output_type": "execute_result"
    }
   ],
   "source": [
    "data['locality_name'].unique()"
   ]
  },
  {
   "cell_type": "code",
   "execution_count": 13,
   "metadata": {
    "scrolled": true
   },
   "outputs": [
    {
     "data": {
      "text/html": [
       "<div>\n",
       "<style scoped>\n",
       "    .dataframe tbody tr th:only-of-type {\n",
       "        vertical-align: middle;\n",
       "    }\n",
       "\n",
       "    .dataframe tbody tr th {\n",
       "        vertical-align: top;\n",
       "    }\n",
       "\n",
       "    .dataframe thead th {\n",
       "        text-align: right;\n",
       "    }\n",
       "</style>\n",
       "<table border=\"1\" class=\"dataframe\">\n",
       "  <thead>\n",
       "    <tr style=\"text-align: right;\">\n",
       "      <th></th>\n",
       "      <th>total_images</th>\n",
       "      <th>last_price</th>\n",
       "      <th>total_area</th>\n",
       "      <th>first_day_exposition</th>\n",
       "      <th>rooms</th>\n",
       "      <th>ceiling_height</th>\n",
       "      <th>floors_total</th>\n",
       "      <th>living_area</th>\n",
       "      <th>floor</th>\n",
       "      <th>is_apartment</th>\n",
       "      <th>studio</th>\n",
       "      <th>open_plan</th>\n",
       "      <th>kitchen_area</th>\n",
       "      <th>balcony</th>\n",
       "      <th>locality_name</th>\n",
       "      <th>airports_nearest</th>\n",
       "      <th>cityCenters_nearest</th>\n",
       "      <th>parks_around3000</th>\n",
       "      <th>parks_nearest</th>\n",
       "      <th>ponds_around3000</th>\n",
       "      <th>ponds_nearest</th>\n",
       "      <th>days_exposition</th>\n",
       "    </tr>\n",
       "  </thead>\n",
       "  <tbody>\n",
       "    <tr>\n",
       "      <th>0</th>\n",
       "      <td>20</td>\n",
       "      <td>13000000</td>\n",
       "      <td>108.0</td>\n",
       "      <td>2019-03-07</td>\n",
       "      <td>3</td>\n",
       "      <td>2.70</td>\n",
       "      <td>16</td>\n",
       "      <td>51.0</td>\n",
       "      <td>8</td>\n",
       "      <td>True</td>\n",
       "      <td>False</td>\n",
       "      <td>False</td>\n",
       "      <td>25.0</td>\n",
       "      <td>0</td>\n",
       "      <td>Санкт-Петербург</td>\n",
       "      <td>18863.0</td>\n",
       "      <td>16028.0</td>\n",
       "      <td>1.0</td>\n",
       "      <td>482.0</td>\n",
       "      <td>2.0</td>\n",
       "      <td>755.0</td>\n",
       "      <td>NaN</td>\n",
       "    </tr>\n",
       "    <tr>\n",
       "      <th>1</th>\n",
       "      <td>7</td>\n",
       "      <td>3350000</td>\n",
       "      <td>40.4</td>\n",
       "      <td>2018-12-04</td>\n",
       "      <td>1</td>\n",
       "      <td>2.65</td>\n",
       "      <td>11</td>\n",
       "      <td>18.6</td>\n",
       "      <td>1</td>\n",
       "      <td>True</td>\n",
       "      <td>False</td>\n",
       "      <td>False</td>\n",
       "      <td>11.0</td>\n",
       "      <td>2</td>\n",
       "      <td>поселок Шушары</td>\n",
       "      <td>12817.0</td>\n",
       "      <td>18603.0</td>\n",
       "      <td>0.0</td>\n",
       "      <td>NaN</td>\n",
       "      <td>0.0</td>\n",
       "      <td>NaN</td>\n",
       "      <td>81.0</td>\n",
       "    </tr>\n",
       "    <tr>\n",
       "      <th>2</th>\n",
       "      <td>10</td>\n",
       "      <td>5196000</td>\n",
       "      <td>56.0</td>\n",
       "      <td>2015-08-20</td>\n",
       "      <td>2</td>\n",
       "      <td>2.65</td>\n",
       "      <td>5</td>\n",
       "      <td>34.3</td>\n",
       "      <td>4</td>\n",
       "      <td>True</td>\n",
       "      <td>False</td>\n",
       "      <td>False</td>\n",
       "      <td>8.3</td>\n",
       "      <td>0</td>\n",
       "      <td>Санкт-Петербург</td>\n",
       "      <td>21741.0</td>\n",
       "      <td>13933.0</td>\n",
       "      <td>1.0</td>\n",
       "      <td>90.0</td>\n",
       "      <td>2.0</td>\n",
       "      <td>574.0</td>\n",
       "      <td>558.0</td>\n",
       "    </tr>\n",
       "    <tr>\n",
       "      <th>3</th>\n",
       "      <td>0</td>\n",
       "      <td>64900000</td>\n",
       "      <td>159.0</td>\n",
       "      <td>2015-07-24</td>\n",
       "      <td>3</td>\n",
       "      <td>2.65</td>\n",
       "      <td>14</td>\n",
       "      <td>NaN</td>\n",
       "      <td>9</td>\n",
       "      <td>True</td>\n",
       "      <td>False</td>\n",
       "      <td>False</td>\n",
       "      <td>NaN</td>\n",
       "      <td>0</td>\n",
       "      <td>Санкт-Петербург</td>\n",
       "      <td>28098.0</td>\n",
       "      <td>6800.0</td>\n",
       "      <td>2.0</td>\n",
       "      <td>84.0</td>\n",
       "      <td>3.0</td>\n",
       "      <td>234.0</td>\n",
       "      <td>424.0</td>\n",
       "    </tr>\n",
       "    <tr>\n",
       "      <th>4</th>\n",
       "      <td>2</td>\n",
       "      <td>10000000</td>\n",
       "      <td>100.0</td>\n",
       "      <td>2018-06-19</td>\n",
       "      <td>2</td>\n",
       "      <td>3.03</td>\n",
       "      <td>14</td>\n",
       "      <td>32.0</td>\n",
       "      <td>13</td>\n",
       "      <td>True</td>\n",
       "      <td>False</td>\n",
       "      <td>False</td>\n",
       "      <td>41.0</td>\n",
       "      <td>0</td>\n",
       "      <td>Санкт-Петербург</td>\n",
       "      <td>31856.0</td>\n",
       "      <td>8098.0</td>\n",
       "      <td>2.0</td>\n",
       "      <td>112.0</td>\n",
       "      <td>1.0</td>\n",
       "      <td>48.0</td>\n",
       "      <td>121.0</td>\n",
       "    </tr>\n",
       "  </tbody>\n",
       "</table>\n",
       "</div>"
      ],
      "text/plain": [
       "   total_images  last_price  total_area first_day_exposition  rooms  \\\n",
       "0            20    13000000       108.0           2019-03-07      3   \n",
       "1             7     3350000        40.4           2018-12-04      1   \n",
       "2            10     5196000        56.0           2015-08-20      2   \n",
       "3             0    64900000       159.0           2015-07-24      3   \n",
       "4             2    10000000       100.0           2018-06-19      2   \n",
       "\n",
       "   ceiling_height  floors_total  living_area  floor  is_apartment  studio  \\\n",
       "0            2.70            16         51.0      8          True   False   \n",
       "1            2.65            11         18.6      1          True   False   \n",
       "2            2.65             5         34.3      4          True   False   \n",
       "3            2.65            14          NaN      9          True   False   \n",
       "4            3.03            14         32.0     13          True   False   \n",
       "\n",
       "   open_plan  kitchen_area  balcony    locality_name  airports_nearest  \\\n",
       "0      False          25.0        0  Санкт-Петербург           18863.0   \n",
       "1      False          11.0        2   поселок Шушары           12817.0   \n",
       "2      False           8.3        0  Санкт-Петербург           21741.0   \n",
       "3      False           NaN        0  Санкт-Петербург           28098.0   \n",
       "4      False          41.0        0  Санкт-Петербург           31856.0   \n",
       "\n",
       "   cityCenters_nearest  parks_around3000  parks_nearest  ponds_around3000  \\\n",
       "0              16028.0               1.0          482.0               2.0   \n",
       "1              18603.0               0.0            NaN               0.0   \n",
       "2              13933.0               1.0           90.0               2.0   \n",
       "3               6800.0               2.0           84.0               3.0   \n",
       "4               8098.0               2.0          112.0               1.0   \n",
       "\n",
       "   ponds_nearest  days_exposition  \n",
       "0          755.0              NaN  \n",
       "1            NaN             81.0  \n",
       "2          574.0            558.0  \n",
       "3          234.0            424.0  \n",
       "4           48.0            121.0  "
      ]
     },
     "execution_count": 13,
     "metadata": {},
     "output_type": "execute_result"
    }
   ],
   "source": [
    "data.head()"
   ]
  },
  {
   "cell_type": "markdown",
   "metadata": {},
   "source": [
    "Были не явные дубликаты (поселок-посёлок-городской поселок-поселок городского типа)\n",
    "\n",
    "Приведены к общему виду"
   ]
  },
  {
   "cell_type": "markdown",
   "metadata": {},
   "source": [
    "Аномалии в других столбцах: \n",
    "    \n",
    "стоимость квартир, есть около 180 вариантов с ценой более 40 млн, но они 'нормальные', на первый взгляд, в том плане, что есть и элитное жилье\n",
    "\n",
    "количество комнат, тот же самый принцип, есть 19 кв-тр, в которых более 8 комнат, но это оправданно\n",
    "    \n",
    "общая площадь - 226 кв, с S более 200 кв.м"
   ]
  },
  {
   "cell_type": "markdown",
   "metadata": {},
   "source": [
    "### новые столбцы"
   ]
  },
  {
   "cell_type": "code",
   "execution_count": 14,
   "metadata": {},
   "outputs": [],
   "source": [
    "#тип этажа квартиры (значения — «первый», «последний», «другой»)\n",
    "#расстояние до центра города в километрах (переведите из м в км и округлите до целых значений)"
   ]
  },
  {
   "cell_type": "code",
   "execution_count": 15,
   "metadata": {},
   "outputs": [],
   "source": [
    "#цена одного 1м²\n",
    "data['м²_price'] = round(data['last_price'] / data['total_area'])"
   ]
  },
  {
   "cell_type": "code",
   "execution_count": 16,
   "metadata": {},
   "outputs": [],
   "source": [
    "#день недели публикации объявления (0 — понедельник, 1 — вторник и так далее\n",
    "data['day_of_publication'] = pd.DatetimeIndex(data['first_day_exposition']).weekday"
   ]
  },
  {
   "cell_type": "code",
   "execution_count": 17,
   "metadata": {},
   "outputs": [],
   "source": [
    "#месяц публикации объявления\n",
    "data['month_of_publication'] = pd.DatetimeIndex(data['first_day_exposition']).month"
   ]
  },
  {
   "cell_type": "code",
   "execution_count": 18,
   "metadata": {},
   "outputs": [],
   "source": [
    "#год публикации объявления\n",
    "data['year_of_publication'] = pd.DatetimeIndex(data['first_day_exposition']).year"
   ]
  },
  {
   "cell_type": "code",
   "execution_count": 19,
   "metadata": {},
   "outputs": [],
   "source": [
    "#тип этажа квартиры (значения — «первый», «последний», «другой»)\n",
    "def type_floor(row):\n",
    "    last = row['floors_total']\n",
    "    floor = row['floor']\n",
    "    if floor == 1:\n",
    "        return 'первый'\n",
    "    if floor == last:\n",
    "        return 'последний'\n",
    "    return 'другое'\n",
    "data['type_of_floor'] = data.apply(type_floor, axis=1)"
   ]
  },
  {
   "cell_type": "code",
   "execution_count": 20,
   "metadata": {},
   "outputs": [],
   "source": [
    "#расстояние до центра города в километрах (переведите из м в км и округлите до целых значений) cityCenters_nearest\n",
    "data['too_centre'] = round(data['cityCenters_nearest']/1000)\n",
    "data['too_centre'] = data['too_centre'].fillna(0).astype('int')"
   ]
  },
  {
   "cell_type": "code",
   "execution_count": 21,
   "metadata": {},
   "outputs": [
    {
     "data": {
      "text/html": [
       "<div>\n",
       "<style scoped>\n",
       "    .dataframe tbody tr th:only-of-type {\n",
       "        vertical-align: middle;\n",
       "    }\n",
       "\n",
       "    .dataframe tbody tr th {\n",
       "        vertical-align: top;\n",
       "    }\n",
       "\n",
       "    .dataframe thead th {\n",
       "        text-align: right;\n",
       "    }\n",
       "</style>\n",
       "<table border=\"1\" class=\"dataframe\">\n",
       "  <thead>\n",
       "    <tr style=\"text-align: right;\">\n",
       "      <th></th>\n",
       "      <th>total_images</th>\n",
       "      <th>last_price</th>\n",
       "      <th>total_area</th>\n",
       "      <th>first_day_exposition</th>\n",
       "      <th>rooms</th>\n",
       "      <th>ceiling_height</th>\n",
       "      <th>floors_total</th>\n",
       "      <th>living_area</th>\n",
       "      <th>floor</th>\n",
       "      <th>is_apartment</th>\n",
       "      <th>studio</th>\n",
       "      <th>open_plan</th>\n",
       "      <th>kitchen_area</th>\n",
       "      <th>balcony</th>\n",
       "      <th>locality_name</th>\n",
       "      <th>airports_nearest</th>\n",
       "      <th>cityCenters_nearest</th>\n",
       "      <th>parks_around3000</th>\n",
       "      <th>parks_nearest</th>\n",
       "      <th>ponds_around3000</th>\n",
       "      <th>ponds_nearest</th>\n",
       "      <th>days_exposition</th>\n",
       "      <th>м²_price</th>\n",
       "      <th>day_of_publication</th>\n",
       "      <th>month_of_publication</th>\n",
       "      <th>year_of_publication</th>\n",
       "      <th>type_of_floor</th>\n",
       "      <th>too_centre</th>\n",
       "    </tr>\n",
       "  </thead>\n",
       "  <tbody>\n",
       "    <tr>\n",
       "      <th>0</th>\n",
       "      <td>20</td>\n",
       "      <td>13000000</td>\n",
       "      <td>108.0</td>\n",
       "      <td>2019-03-07</td>\n",
       "      <td>3</td>\n",
       "      <td>2.70</td>\n",
       "      <td>16</td>\n",
       "      <td>51.0</td>\n",
       "      <td>8</td>\n",
       "      <td>True</td>\n",
       "      <td>False</td>\n",
       "      <td>False</td>\n",
       "      <td>25.0</td>\n",
       "      <td>0</td>\n",
       "      <td>Санкт-Петербург</td>\n",
       "      <td>18863.0</td>\n",
       "      <td>16028.0</td>\n",
       "      <td>1.0</td>\n",
       "      <td>482.0</td>\n",
       "      <td>2.0</td>\n",
       "      <td>755.0</td>\n",
       "      <td>NaN</td>\n",
       "      <td>120370.0</td>\n",
       "      <td>3</td>\n",
       "      <td>3</td>\n",
       "      <td>2019</td>\n",
       "      <td>другое</td>\n",
       "      <td>16</td>\n",
       "    </tr>\n",
       "    <tr>\n",
       "      <th>1</th>\n",
       "      <td>7</td>\n",
       "      <td>3350000</td>\n",
       "      <td>40.4</td>\n",
       "      <td>2018-12-04</td>\n",
       "      <td>1</td>\n",
       "      <td>2.65</td>\n",
       "      <td>11</td>\n",
       "      <td>18.6</td>\n",
       "      <td>1</td>\n",
       "      <td>True</td>\n",
       "      <td>False</td>\n",
       "      <td>False</td>\n",
       "      <td>11.0</td>\n",
       "      <td>2</td>\n",
       "      <td>поселок Шушары</td>\n",
       "      <td>12817.0</td>\n",
       "      <td>18603.0</td>\n",
       "      <td>0.0</td>\n",
       "      <td>NaN</td>\n",
       "      <td>0.0</td>\n",
       "      <td>NaN</td>\n",
       "      <td>81.0</td>\n",
       "      <td>82921.0</td>\n",
       "      <td>1</td>\n",
       "      <td>12</td>\n",
       "      <td>2018</td>\n",
       "      <td>первый</td>\n",
       "      <td>19</td>\n",
       "    </tr>\n",
       "    <tr>\n",
       "      <th>2</th>\n",
       "      <td>10</td>\n",
       "      <td>5196000</td>\n",
       "      <td>56.0</td>\n",
       "      <td>2015-08-20</td>\n",
       "      <td>2</td>\n",
       "      <td>2.65</td>\n",
       "      <td>5</td>\n",
       "      <td>34.3</td>\n",
       "      <td>4</td>\n",
       "      <td>True</td>\n",
       "      <td>False</td>\n",
       "      <td>False</td>\n",
       "      <td>8.3</td>\n",
       "      <td>0</td>\n",
       "      <td>Санкт-Петербург</td>\n",
       "      <td>21741.0</td>\n",
       "      <td>13933.0</td>\n",
       "      <td>1.0</td>\n",
       "      <td>90.0</td>\n",
       "      <td>2.0</td>\n",
       "      <td>574.0</td>\n",
       "      <td>558.0</td>\n",
       "      <td>92786.0</td>\n",
       "      <td>3</td>\n",
       "      <td>8</td>\n",
       "      <td>2015</td>\n",
       "      <td>другое</td>\n",
       "      <td>14</td>\n",
       "    </tr>\n",
       "    <tr>\n",
       "      <th>3</th>\n",
       "      <td>0</td>\n",
       "      <td>64900000</td>\n",
       "      <td>159.0</td>\n",
       "      <td>2015-07-24</td>\n",
       "      <td>3</td>\n",
       "      <td>2.65</td>\n",
       "      <td>14</td>\n",
       "      <td>NaN</td>\n",
       "      <td>9</td>\n",
       "      <td>True</td>\n",
       "      <td>False</td>\n",
       "      <td>False</td>\n",
       "      <td>NaN</td>\n",
       "      <td>0</td>\n",
       "      <td>Санкт-Петербург</td>\n",
       "      <td>28098.0</td>\n",
       "      <td>6800.0</td>\n",
       "      <td>2.0</td>\n",
       "      <td>84.0</td>\n",
       "      <td>3.0</td>\n",
       "      <td>234.0</td>\n",
       "      <td>424.0</td>\n",
       "      <td>408176.0</td>\n",
       "      <td>4</td>\n",
       "      <td>7</td>\n",
       "      <td>2015</td>\n",
       "      <td>другое</td>\n",
       "      <td>7</td>\n",
       "    </tr>\n",
       "    <tr>\n",
       "      <th>4</th>\n",
       "      <td>2</td>\n",
       "      <td>10000000</td>\n",
       "      <td>100.0</td>\n",
       "      <td>2018-06-19</td>\n",
       "      <td>2</td>\n",
       "      <td>3.03</td>\n",
       "      <td>14</td>\n",
       "      <td>32.0</td>\n",
       "      <td>13</td>\n",
       "      <td>True</td>\n",
       "      <td>False</td>\n",
       "      <td>False</td>\n",
       "      <td>41.0</td>\n",
       "      <td>0</td>\n",
       "      <td>Санкт-Петербург</td>\n",
       "      <td>31856.0</td>\n",
       "      <td>8098.0</td>\n",
       "      <td>2.0</td>\n",
       "      <td>112.0</td>\n",
       "      <td>1.0</td>\n",
       "      <td>48.0</td>\n",
       "      <td>121.0</td>\n",
       "      <td>100000.0</td>\n",
       "      <td>1</td>\n",
       "      <td>6</td>\n",
       "      <td>2018</td>\n",
       "      <td>другое</td>\n",
       "      <td>8</td>\n",
       "    </tr>\n",
       "  </tbody>\n",
       "</table>\n",
       "</div>"
      ],
      "text/plain": [
       "   total_images  last_price  total_area first_day_exposition  rooms  \\\n",
       "0            20    13000000       108.0           2019-03-07      3   \n",
       "1             7     3350000        40.4           2018-12-04      1   \n",
       "2            10     5196000        56.0           2015-08-20      2   \n",
       "3             0    64900000       159.0           2015-07-24      3   \n",
       "4             2    10000000       100.0           2018-06-19      2   \n",
       "\n",
       "   ceiling_height  floors_total  living_area  floor  is_apartment  studio  \\\n",
       "0            2.70            16         51.0      8          True   False   \n",
       "1            2.65            11         18.6      1          True   False   \n",
       "2            2.65             5         34.3      4          True   False   \n",
       "3            2.65            14          NaN      9          True   False   \n",
       "4            3.03            14         32.0     13          True   False   \n",
       "\n",
       "   open_plan  kitchen_area  balcony    locality_name  airports_nearest  \\\n",
       "0      False          25.0        0  Санкт-Петербург           18863.0   \n",
       "1      False          11.0        2   поселок Шушары           12817.0   \n",
       "2      False           8.3        0  Санкт-Петербург           21741.0   \n",
       "3      False           NaN        0  Санкт-Петербург           28098.0   \n",
       "4      False          41.0        0  Санкт-Петербург           31856.0   \n",
       "\n",
       "   cityCenters_nearest  parks_around3000  parks_nearest  ponds_around3000  \\\n",
       "0              16028.0               1.0          482.0               2.0   \n",
       "1              18603.0               0.0            NaN               0.0   \n",
       "2              13933.0               1.0           90.0               2.0   \n",
       "3               6800.0               2.0           84.0               3.0   \n",
       "4               8098.0               2.0          112.0               1.0   \n",
       "\n",
       "   ponds_nearest  days_exposition  м²_price  day_of_publication  \\\n",
       "0          755.0              NaN  120370.0                   3   \n",
       "1            NaN             81.0   82921.0                   1   \n",
       "2          574.0            558.0   92786.0                   3   \n",
       "3          234.0            424.0  408176.0                   4   \n",
       "4           48.0            121.0  100000.0                   1   \n",
       "\n",
       "   month_of_publication  year_of_publication type_of_floor  too_centre  \n",
       "0                     3                 2019        другое          16  \n",
       "1                    12                 2018        первый          19  \n",
       "2                     8                 2015        другое          14  \n",
       "3                     7                 2015        другое           7  \n",
       "4                     6                 2018        другое           8  "
      ]
     },
     "execution_count": 21,
     "metadata": {},
     "output_type": "execute_result"
    }
   ],
   "source": [
    "data.head()"
   ]
  },
  {
   "cell_type": "markdown",
   "metadata": {},
   "source": [
    "## Исследовательский анализ данных"
   ]
  },
  {
   "cell_type": "code",
   "execution_count": 22,
   "metadata": {},
   "outputs": [
    {
     "data": {
      "text/plain": [
       "<AxesSubplot:ylabel='Frequency'>"
      ]
     },
     "execution_count": 22,
     "metadata": {},
     "output_type": "execute_result"
    },
    {
     "data": {
      "image/png": "[encoded data removed]",
      "text/plain": [
       "<Figure size 432x288 with 1 Axes>"
      ]
     },
     "metadata": {
      "needs_background": "light"
     },
     "output_type": "display_data"
    }
   ],
   "source": [
    "#общая площадь\n",
    "data.plot(\n",
    "    kind='hist', \n",
    "    y='total_area',\n",
    "    histtype='bar',\n",
    "    range=(10, 400),\n",
    "    bins=50,\n",
    "    label='Общая площадь',\n",
    "    grid=True,\n",
    "    legend=True\n",
    ")"
   ]
  },
  {
   "cell_type": "markdown",
   "metadata": {},
   "source": [
    "Больше всего квартир с площадью от 40 до 60 кв.м"
   ]
  },
  {
   "cell_type": "code",
   "execution_count": 23,
   "metadata": {},
   "outputs": [
    {
     "data": {
      "text/plain": [
       "<AxesSubplot:ylabel='Frequency'>"
      ]
     },
     "execution_count": 23,
     "metadata": {},
     "output_type": "execute_result"
    },
    {
     "data": {
      "image/png": "[encoded data removed]",
      "text/plain": [
       "<Figure size 432x288 with 1 Axes>"
      ]
     },
     "metadata": {
      "needs_background": "light"
     },
     "output_type": "display_data"
    }
   ],
   "source": [
    "#жилая площадь\n",
    "data.plot(\n",
    "    kind='hist', \n",
    "    y='living_area',\n",
    "    histtype='bar',\n",
    "    range=(0, 200),\n",
    "    bins=100,\n",
    "    label='Жилая площадь',\n",
    "    grid=True,\n",
    "    legend=True\n",
    ")"
   ]
  },
  {
   "cell_type": "markdown",
   "metadata": {},
   "source": [
    "На жилую часть квартир прихродиться два пика 17-20 кв.м и 28-30 кв.м"
   ]
  },
  {
   "cell_type": "code",
   "execution_count": 24,
   "metadata": {},
   "outputs": [
    {
     "data": {
      "text/plain": [
       "<AxesSubplot:ylabel='Frequency'>"
      ]
     },
     "execution_count": 24,
     "metadata": {},
     "output_type": "execute_result"
    },
    {
     "data": {
      "image/png": "[encoded data removed]",
      "text/plain": [
       "<Figure size 432x288 with 1 Axes>"
      ]
     },
     "metadata": {
      "needs_background": "light"
     },
     "output_type": "display_data"
    }
   ],
   "source": [
    "#площадь кухни\n",
    "data.plot(\n",
    "    kind='hist', \n",
    "    y='kitchen_area',\n",
    "    histtype='bar',\n",
    "    range=(0, 70),\n",
    "    bins=100,\n",
    "    label='Площадь кухни',\n",
    "    grid=True,\n",
    "    legend=True\n",
    ")"
   ]
  },
  {
   "cell_type": "markdown",
   "metadata": {},
   "source": [
    "Площадь большинства кухонь до 12 кв.м"
   ]
  },
  {
   "cell_type": "code",
   "execution_count": 25,
   "metadata": {},
   "outputs": [
    {
     "data": {
      "text/plain": [
       "<AxesSubplot:ylabel='Frequency'>"
      ]
     },
     "execution_count": 25,
     "metadata": {},
     "output_type": "execute_result"
    },
    {
     "data": {
      "image/png": "[encoded data removed]",
      "text/plain": [
       "<Figure size 432x288 with 1 Axes>"
      ]
     },
     "metadata": {
      "needs_background": "light"
     },
     "output_type": "display_data"
    }
   ],
   "source": [
    "#цена объекта\n",
    "data['last_price'] = data['last_price'] / 1000000\n",
    "data.plot(\n",
    "    kind='hist', \n",
    "    y='last_price',\n",
    "    histtype='bar',\n",
    "    range=(0,40),\n",
    "    bins=1000,\n",
    "    label='Цена',\n",
    "    grid=True,\n",
    "    legend=True\n",
    ")"
   ]
  },
  {
   "cell_type": "markdown",
   "metadata": {},
   "source": [
    "Цены на квартиры распределены нормально, больше всего квартир до 5 млн.руб"
   ]
  },
  {
   "cell_type": "code",
   "execution_count": 26,
   "metadata": {},
   "outputs": [
    {
     "data": {
      "text/plain": [
       "<AxesSubplot:ylabel='Frequency'>"
      ]
     },
     "execution_count": 26,
     "metadata": {},
     "output_type": "execute_result"
    },
    {
     "data": {
      "image/png": "[encoded data removed]",
      "text/plain": [
       "<Figure size 432x288 with 1 Axes>"
      ]
     },
     "metadata": {
      "needs_background": "light"
     },
     "output_type": "display_data"
    }
   ],
   "source": [
    "#количество комнат\n",
    "data.plot(\n",
    "    kind='hist', \n",
    "    y='rooms',\n",
    "    histtype='bar',\n",
    "    range=(0,10),\n",
    "    bins=100,\n",
    "    label='количество комнат',\n",
    "    grid=True,\n",
    "    legend=True\n",
    ")"
   ]
  },
  {
   "cell_type": "markdown",
   "metadata": {},
   "source": [
    "1-ых и 2-ых квартир больше всего"
   ]
  },
  {
   "cell_type": "code",
   "execution_count": 27,
   "metadata": {},
   "outputs": [
    {
     "data": {
      "text/plain": [
       "<AxesSubplot:ylabel='Frequency'>"
      ]
     },
     "execution_count": 27,
     "metadata": {},
     "output_type": "execute_result"
    },
    {
     "data": {
      "image/png": "[encoded data removed]",
      "text/plain": [
       "<Figure size 432x288 with 1 Axes>"
      ]
     },
     "metadata": {
      "needs_background": "light"
     },
     "output_type": "display_data"
    }
   ],
   "source": [
    "#высота потолков\n",
    "data.plot(\n",
    "    kind='hist', \n",
    "    y='ceiling_height',\n",
    "    histtype='bar',\n",
    "    range=(2,6),\n",
    "    bins=30,\n",
    "    label='высота потолков',\n",
    "    grid=True,\n",
    "    legend=True\n",
    ")"
   ]
  },
  {
   "cell_type": "markdown",
   "metadata": {},
   "source": [
    "2.6м- 2.7м самая встречаемая высота потолков "
   ]
  },
  {
   "cell_type": "code",
   "execution_count": 28,
   "metadata": {},
   "outputs": [
    {
     "data": {
      "text/plain": [
       "<AxesSubplot:ylabel='Frequency'>"
      ]
     },
     "execution_count": 28,
     "metadata": {},
     "output_type": "execute_result"
    },
    {
     "data": {
      "image/png": "[encoded data removed]",
      "text/plain": [
       "<Figure size 432x288 with 1 Axes>"
      ]
     },
     "metadata": {
      "needs_background": "light"
     },
     "output_type": "display_data"
    }
   ],
   "source": [
    "#этаж квартиры\n",
    "data.plot(\n",
    "    kind='hist', \n",
    "    y='floor',\n",
    "    histtype='bar',\n",
    "    range=(0,30),\n",
    "    bins=60,\n",
    "    label='этаж',\n",
    "    grid=True,\n",
    "    legend=True\n",
    ")"
   ]
  },
  {
   "cell_type": "markdown",
   "metadata": {},
   "source": [
    "Из представленных квартир больше всего находится до 5 этажа"
   ]
  },
  {
   "cell_type": "code",
   "execution_count": 29,
   "metadata": {},
   "outputs": [
    {
     "data": {
      "text/plain": [
       "<AxesSubplot:ylabel='Frequency'>"
      ]
     },
     "execution_count": 29,
     "metadata": {},
     "output_type": "execute_result"
    },
    {
     "data": {
      "image/png": "[encoded data removed]",
      "text/plain": [
       "<Figure size 432x288 with 1 Axes>"
      ]
     },
     "metadata": {
      "needs_background": "light"
     },
     "output_type": "display_data"
    }
   ],
   "source": [
    "#тип этажа квартиры («первый», «последний», «другой»\n",
    "def number_type(number):\n",
    "    if number == 'первый':\n",
    "        return(1)\n",
    "    if number == 'последний':\n",
    "        return(2)\n",
    "    return (0)\n",
    "data['type_number'] = data['type_of_floor'].apply(number_type)\n",
    "data.plot(\n",
    "    kind='hist', \n",
    "    y='type_number',\n",
    "    histtype='bar',\n",
    "    range=(0,2),\n",
    "    bins=60,\n",
    "    label='тип этаж',\n",
    "    grid=True,\n",
    "    legend=True\n",
    ")"
   ]
  },
  {
   "cell_type": "code",
   "execution_count": 30,
   "metadata": {},
   "outputs": [
    {
     "data": {
      "text/plain": [
       "<AxesSubplot:ylabel='Frequency'>"
      ]
     },
     "execution_count": 30,
     "metadata": {},
     "output_type": "execute_result"
    },
    {
     "data": {
      "image/png": "[encoded data removed]",
      "text/plain": [
       "<Figure size 432x288 with 1 Axes>"
      ]
     },
     "metadata": {
      "needs_background": "light"
     },
     "output_type": "display_data"
    }
   ],
   "source": [
    "#общее количество этажей в доме\n",
    "data.plot(\n",
    "    kind='hist', \n",
    "    y='floors_total',\n",
    "    histtype='bar',\n",
    "    range=(0,40),\n",
    "    bins=60,\n",
    "    label='количество этажей',\n",
    "    grid=True,\n",
    "    legend=True\n",
    ")"
   ]
  },
  {
   "cell_type": "markdown",
   "metadata": {},
   "source": [
    "Больше всего домов, в которых всего 5 этажей"
   ]
  },
  {
   "cell_type": "code",
   "execution_count": 31,
   "metadata": {},
   "outputs": [
    {
     "data": {
      "text/plain": [
       "<AxesSubplot:ylabel='Frequency'>"
      ]
     },
     "execution_count": 31,
     "metadata": {},
     "output_type": "execute_result"
    },
    {
     "data": {
      "image/png": "[encoded data removed]",
      "text/plain": [
       "<Figure size 432x288 with 1 Axes>"
      ]
     },
     "metadata": {
      "needs_background": "light"
     },
     "output_type": "display_data"
    }
   ],
   "source": [
    "#расстояние до центра города в метрах\n",
    "data.plot(\n",
    "    kind='hist', \n",
    "    y='cityCenters_nearest',\n",
    "    histtype='bar',\n",
    "    range=(0,55500),\n",
    "    bins=60,\n",
    "    label='до центра города (м)',\n",
    "    grid=True,\n",
    "    legend=True\n",
    ")"
   ]
  },
  {
   "cell_type": "markdown",
   "metadata": {},
   "source": [
    "Больше всего квартир находится от 12 до 18 тыс.м"
   ]
  },
  {
   "cell_type": "code",
   "execution_count": 32,
   "metadata": {},
   "outputs": [
    {
     "data": {
      "text/plain": [
       "<AxesSubplot:ylabel='Frequency'>"
      ]
     },
     "execution_count": 32,
     "metadata": {},
     "output_type": "execute_result"
    },
    {
     "data": {
      "image/png": "[encoded data removed]",
      "text/plain": [
       "<Figure size 432x288 with 1 Axes>"
      ]
     },
     "metadata": {
      "needs_background": "light"
     },
     "output_type": "display_data"
    }
   ],
   "source": [
    "#расстояние до ближайшего аэропорта\n",
    "data.plot(\n",
    "    kind='hist', \n",
    "    y='airports_nearest',\n",
    "    histtype='bar',\n",
    "    range=(0,80000),\n",
    "    bins=60,\n",
    "    label='до аэропорта (м)',\n",
    "    grid=True,\n",
    "    legend=True\n",
    ")"
   ]
  },
  {
   "cell_type": "markdown",
   "metadata": {},
   "source": [
    "Больше всего квартир находится от 15 до 25 тыс.м до аэропорта"
   ]
  },
  {
   "cell_type": "code",
   "execution_count": 33,
   "metadata": {},
   "outputs": [
    {
     "data": {
      "text/plain": [
       "<AxesSubplot:ylabel='Frequency'>"
      ]
     },
     "execution_count": 33,
     "metadata": {},
     "output_type": "execute_result"
    },
    {
     "data": {
      "image/png": "[encoded data removed]",
      "text/plain": [
       "<Figure size 432x288 with 1 Axes>"
      ]
     },
     "metadata": {
      "needs_background": "light"
     },
     "output_type": "display_data"
    }
   ],
   "source": [
    "#расстояние до ближайшего парка\n",
    "data.plot(\n",
    "    kind='hist', \n",
    "    y='parks_nearest',\n",
    "    histtype='bar',\n",
    "    range=(0,2000),\n",
    "    bins=60,\n",
    "    label='до парка (м)',\n",
    "    grid=True,\n",
    "    legend=True\n",
    ")"
   ]
  },
  {
   "cell_type": "markdown",
   "metadata": {},
   "source": [
    "у большинства квартир есть парк в радиусе 500м"
   ]
  },
  {
   "cell_type": "code",
   "execution_count": 34,
   "metadata": {},
   "outputs": [
    {
     "data": {
      "text/plain": [
       "<AxesSubplot:ylabel='Frequency'>"
      ]
     },
     "execution_count": 34,
     "metadata": {},
     "output_type": "execute_result"
    },
    {
     "data": {
      "image/png": "[encoded data removed]",
      "text/plain": [
       "<Figure size 432x288 with 1 Axes>"
      ]
     },
     "metadata": {
      "needs_background": "light"
     },
     "output_type": "display_data"
    }
   ],
   "source": [
    "#день публикации объявления\n",
    "data.plot(\n",
    "    kind='hist', \n",
    "    y='day_of_publication',\n",
    "    histtype='bar',\n",
    "    range=(0,7),\n",
    "    bins=60,\n",
    "    label='день публикации',\n",
    "    grid=True,\n",
    "    legend=True\n",
    ")"
   ]
  },
  {
   "cell_type": "markdown",
   "metadata": {},
   "source": [
    "Объявления выкладывают во вторник и четверг чаще всего"
   ]
  },
  {
   "cell_type": "code",
   "execution_count": 35,
   "metadata": {},
   "outputs": [
    {
     "data": {
      "text/plain": [
       "<AxesSubplot:ylabel='Frequency'>"
      ]
     },
     "execution_count": 35,
     "metadata": {},
     "output_type": "execute_result"
    },
    {
     "data": {
      "image/png": "[encoded data removed]",
      "text/plain": [
       "<Figure size 432x288 with 1 Axes>"
      ]
     },
     "metadata": {
      "needs_background": "light"
     },
     "output_type": "display_data"
    }
   ],
   "source": [
    "#месяц публикации объявления\n",
    "data.plot(\n",
    "    kind='hist', \n",
    "    y='day_of_publication',\n",
    "    histtype='bar',\n",
    "    range=(0,12),\n",
    "    bins=60,\n",
    "    label='месяц публикации',\n",
    "    grid=True,\n",
    "    legend=True\n",
    ")"
   ]
  },
  {
   "cell_type": "markdown",
   "metadata": {},
   "source": [
    "Все объявления выложены в первом полугодии"
   ]
  },
  {
   "cell_type": "code",
   "execution_count": 36,
   "metadata": {},
   "outputs": [
    {
     "name": "stdout",
     "output_type": "stream",
     "text": [
      "Медиана: 95.0\n",
      "Среднее: 181.0\n"
     ]
    },
    {
     "data": {
      "image/png": "[encoded data removed]",
      "text/plain": [
       "<Figure size 432x288 with 1 Axes>"
      ]
     },
     "metadata": {
      "needs_background": "light"
     },
     "output_type": "display_data"
    }
   ],
   "source": [
    "data['days_exposition'].hist(bins=100)\n",
    "print('Медиана:',data['days_exposition'].median().round())\n",
    "print('Среднее:',data['days_exposition'].mean().round())"
   ]
  },
  {
   "cell_type": "markdown",
   "metadata": {},
   "source": [
    "В среднем, для продажи квартиры понадобится около 180 дней\n",
    "\n",
    "аномально долгие выше 1100 дней\n",
    "\n",
    "быстрыми можно считать менее 90 дней"
   ]
  },
  {
   "cell_type": "markdown",
   "metadata": {},
   "source": [
    "\n",
    "Рассмотрим зависит ли цена от:\n",
    " - общей площади;\n",
    "- жилой площади;\n",
    "- площади кухни;\n",
    "- количества комнат;\n",
    "- этажа, на котором расположена квартира (первый, последний, другой);\n",
    "- даты размещения (день недели, месяц, год)."
   ]
  },
  {
   "cell_type": "code",
   "execution_count": 38,
   "metadata": {},
   "outputs": [
    {
     "name": "stdout",
     "output_type": "stream",
     "text": [
      "0.65\n"
     ]
    },
    {
     "data": {
      "image/png": "[encoded data removed]",
      "text/plain": [
       "<Figure size 360x360 with 1 Axes>"
      ]
     },
     "metadata": {
      "needs_background": "light"
     },
     "output_type": "display_data"
    }
   ],
   "source": [
    "#цена от общей площади\n",
    "data.plot(x='total_area', y='last_price', kind='scatter',alpha= 0.5, figsize=(5, 5),grid=True)\n",
    "print(data['last_price'].corr(data['total_area']).round(2))"
   ]
  },
  {
   "cell_type": "code",
   "execution_count": 39,
   "metadata": {},
   "outputs": [
    {
     "name": "stdout",
     "output_type": "stream",
     "text": [
      "0.57\n"
     ]
    },
    {
     "data": {
      "image/png": "[encoded data removed]",
      "text/plain": [
       "<Figure size 360x360 with 1 Axes>"
      ]
     },
     "metadata": {
      "needs_background": "light"
     },
     "output_type": "display_data"
    }
   ],
   "source": [
    "#цена от жилой площади\n",
    "data.plot(x='living_area', y='last_price', kind='scatter',alpha= 0.5, figsize=(5, 5),grid=True)\n",
    "print(data['last_price'].corr(data['living_area']).round(2))"
   ]
  },
  {
   "cell_type": "code",
   "execution_count": 40,
   "metadata": {},
   "outputs": [
    {
     "name": "stdout",
     "output_type": "stream",
     "text": [
      "0.49\n"
     ]
    },
    {
     "data": {
      "image/png": "[encoded data removed]",
      "text/plain": [
       "<Figure size 360x360 with 1 Axes>"
      ]
     },
     "metadata": {
      "needs_background": "light"
     },
     "output_type": "display_data"
    }
   ],
   "source": [
    "#цена от площади кухни\n",
    "data.plot(x='kitchen_area', y='last_price', kind='scatter',alpha= 0.5, figsize=(5, 5),grid=True)\n",
    "print(data['last_price'].corr(data['kitchen_area']).round(2))"
   ]
  },
  {
   "cell_type": "code",
   "execution_count": 41,
   "metadata": {
    "scrolled": true
   },
   "outputs": [
    {
     "name": "stdout",
     "output_type": "stream",
     "text": [
      "0.36\n"
     ]
    },
    {
     "data": {
      "image/png": "[encoded data removed]",
      "text/plain": [
       "<Figure size 360x360 with 1 Axes>"
      ]
     },
     "metadata": {
      "needs_background": "light"
     },
     "output_type": "display_data"
    }
   ],
   "source": [
    "#цена от количества комнат\n",
    "data.plot(x='rooms', y='last_price',kind='scatter',alpha= 0.5, figsize=(5, 5),grid=True)\n",
    "print(data['last_price'].corr(data['rooms']).round(2))"
   ]
  },
  {
   "cell_type": "code",
   "execution_count": 42,
   "metadata": {},
   "outputs": [
    {
     "name": "stdout",
     "output_type": "stream",
     "text": [
      "0.0022\n"
     ]
    },
    {
     "data": {
      "image/png": "[encoded data removed]",
      "text/plain": [
       "<Figure size 360x360 with 1 Axes>"
      ]
     },
     "metadata": {
      "needs_background": "light"
     },
     "output_type": "display_data"
    }
   ],
   "source": [
    "#цена от этажа, на котором расположена квартира\n",
    "data.plot(x='type_number', y='last_price',kind='scatter',alpha= 0.5, figsize=(5, 5),grid=True)\n",
    "print(data['last_price'].corr(data['type_number']).round(4))"
   ]
  },
  {
   "cell_type": "code",
   "execution_count": 43,
   "metadata": {},
   "outputs": [
    {
     "data": {
      "image/png": "[encoded data removed]",
      "text/plain": [
       "<Figure size 360x360 with 1 Axes>"
      ]
     },
     "metadata": {
      "needs_background": "light"
     },
     "output_type": "display_data"
    }
   ],
   "source": [
    "#цена от дня недели размещения\n",
    "data.plot(x='day_of_publication', y='last_price',kind='scatter',alpha= 0.5, figsize=(5, 5),grid=True);"
   ]
  },
  {
   "cell_type": "code",
   "execution_count": 44,
   "metadata": {},
   "outputs": [
    {
     "data": {
      "image/png": "[encoded data removed]",
      "text/plain": [
       "<Figure size 360x360 with 1 Axes>"
      ]
     },
     "metadata": {
      "needs_background": "light"
     },
     "output_type": "display_data"
    }
   ],
   "source": [
    "#цена от месяца размещения year_of_publication\n",
    "data.plot(x='month_of_publication', y='last_price',kind='scatter',alpha= 0.5, figsize=(5, 5),grid=True);"
   ]
  },
  {
   "cell_type": "code",
   "execution_count": 45,
   "metadata": {
    "scrolled": true
   },
   "outputs": [
    {
     "data": {
      "image/png": "[encoded data removed]",
      "text/plain": [
       "<Figure size 360x360 with 1 Axes>"
      ]
     },
     "metadata": {
      "needs_background": "light"
     },
     "output_type": "display_data"
    }
   ],
   "source": [
    "#цена от года размещения \n",
    "data.plot(x='year_of_publication', y='last_price',kind='scatter',alpha= 0.5, figsize=(5, 5),grid=True);"
   ]
  },
  {
   "cell_type": "markdown",
   "metadata": {},
   "source": [
    "Из рассматриваемых параметров, больше всего на цену влияет общая площадь квартиры"
   ]
  },
  {
   "cell_type": "code",
   "execution_count": 46,
   "metadata": {},
   "outputs": [],
   "source": [
    "#Посчитайте среднюю цену одного квадратного метра в 10 населённых пунктах с наибольшим числом объявлений. \n",
    "#Выделите населённые пункты с самой высокой и низкой стоимостью квадратного метра. \n",
    "#Эти данные можно найти по имени в столбце locality_name."
   ]
  },
  {
   "cell_type": "code",
   "execution_count": 47,
   "metadata": {},
   "outputs": [],
   "source": [
    "most_citizen = data.query(\n",
    "    'locality_name == [\"Санкт-Петербург\",\"поселок Мурино\",\"поселок Шушары\",\"Всеволожск\",\"Пушкин\",\"Колпино\",\"поселок Парголово\",\"Гатчина\",\"деревня Кудрово\",\"Выборг\"]'\n",
    ")"
   ]
  },
  {
   "cell_type": "code",
   "execution_count": 48,
   "metadata": {
    "scrolled": false
   },
   "outputs": [
    {
     "data": {
      "text/html": [
       "<div>\n",
       "<style scoped>\n",
       "    .dataframe tbody tr th:only-of-type {\n",
       "        vertical-align: middle;\n",
       "    }\n",
       "\n",
       "    .dataframe tbody tr th {\n",
       "        vertical-align: top;\n",
       "    }\n",
       "\n",
       "    .dataframe thead th {\n",
       "        text-align: right;\n",
       "    }\n",
       "</style>\n",
       "<table border=\"1\" class=\"dataframe\">\n",
       "  <thead>\n",
       "    <tr style=\"text-align: right;\">\n",
       "      <th></th>\n",
       "      <th>м²_price</th>\n",
       "    </tr>\n",
       "    <tr>\n",
       "      <th>locality_name</th>\n",
       "      <th></th>\n",
       "    </tr>\n",
       "  </thead>\n",
       "  <tbody>\n",
       "    <tr>\n",
       "      <th>Санкт-Петербург</th>\n",
       "      <td>114847.734331</td>\n",
       "    </tr>\n",
       "    <tr>\n",
       "      <th>Пушкин</th>\n",
       "      <td>103125.818428</td>\n",
       "    </tr>\n",
       "    <tr>\n",
       "      <th>деревня Кудрово</th>\n",
       "      <td>92473.588629</td>\n",
       "    </tr>\n",
       "    <tr>\n",
       "      <th>поселок Парголово</th>\n",
       "      <td>90175.886850</td>\n",
       "    </tr>\n",
       "    <tr>\n",
       "      <th>поселок Мурино</th>\n",
       "      <td>86018.109589</td>\n",
       "    </tr>\n",
       "    <tr>\n",
       "      <th>поселок Шушары</th>\n",
       "      <td>78551.359909</td>\n",
       "    </tr>\n",
       "    <tr>\n",
       "      <th>Колпино</th>\n",
       "      <td>75424.571006</td>\n",
       "    </tr>\n",
       "    <tr>\n",
       "      <th>Гатчина</th>\n",
       "      <td>68757.643791</td>\n",
       "    </tr>\n",
       "    <tr>\n",
       "      <th>Всеволожск</th>\n",
       "      <td>68654.474874</td>\n",
       "    </tr>\n",
       "    <tr>\n",
       "      <th>Выборг</th>\n",
       "      <td>58141.919831</td>\n",
       "    </tr>\n",
       "  </tbody>\n",
       "</table>\n",
       "</div>"
      ],
      "text/plain": [
       "                        м²_price\n",
       "locality_name                   \n",
       "Санкт-Петербург    114847.734331\n",
       "Пушкин             103125.818428\n",
       "деревня Кудрово     92473.588629\n",
       "поселок Парголово   90175.886850\n",
       "поселок Мурино      86018.109589\n",
       "поселок Шушары      78551.359909\n",
       "Колпино             75424.571006\n",
       "Гатчина             68757.643791\n",
       "Всеволожск          68654.474874\n",
       "Выборг              58141.919831"
      ]
     },
     "execution_count": 48,
     "metadata": {},
     "output_type": "execute_result"
    }
   ],
   "source": [
    "most_citizen = most_citizen.pivot_table(index='locality_name', values='м²_price', aggfunc='mean')\n",
    "most_citizen.sort_values('м²_price', ascending=False)"
   ]
  },
  {
   "cell_type": "markdown",
   "metadata": {},
   "source": [
    "Населённый пункт с самой высокой стоимостью квадратного метра - Санкт-Петербург\t(114848 р.)\n",
    "\n",
    "Населённый пункт с самой низкой стоимостью квадратного метра - Выборг\t(58142 р.)"
   ]
  },
  {
   "cell_type": "code",
   "execution_count": 49,
   "metadata": {},
   "outputs": [],
   "source": [
    "#Ранее вы посчитали расстояние до центра в километрах. \n",
    "#Теперь выделите квартиры в Санкт-Петербурге с помощью столбца locality_name и вычислите среднюю цену каждого километра. \n",
    "#Опишите, как стоимость объектов зависит от расстояния до центра города."
   ]
  },
  {
   "cell_type": "code",
   "execution_count": 50,
   "metadata": {
    "scrolled": true
   },
   "outputs": [
    {
     "data": {
      "text/html": [
       "<div>\n",
       "<style scoped>\n",
       "    .dataframe tbody tr th:only-of-type {\n",
       "        vertical-align: middle;\n",
       "    }\n",
       "\n",
       "    .dataframe tbody tr th {\n",
       "        vertical-align: top;\n",
       "    }\n",
       "\n",
       "    .dataframe thead th {\n",
       "        text-align: right;\n",
       "    }\n",
       "</style>\n",
       "<table border=\"1\" class=\"dataframe\">\n",
       "  <thead>\n",
       "    <tr style=\"text-align: right;\">\n",
       "      <th></th>\n",
       "      <th>last_price</th>\n",
       "    </tr>\n",
       "    <tr>\n",
       "      <th>too_centre</th>\n",
       "      <th></th>\n",
       "    </tr>\n",
       "  </thead>\n",
       "  <tbody>\n",
       "    <tr>\n",
       "      <th>0</th>\n",
       "      <td>20.707663</td>\n",
       "    </tr>\n",
       "    <tr>\n",
       "      <th>1</th>\n",
       "      <td>21.206721</td>\n",
       "    </tr>\n",
       "    <tr>\n",
       "      <th>2</th>\n",
       "      <td>17.788320</td>\n",
       "    </tr>\n",
       "    <tr>\n",
       "      <th>3</th>\n",
       "      <td>11.146436</td>\n",
       "    </tr>\n",
       "    <tr>\n",
       "      <th>4</th>\n",
       "      <td>13.309091</td>\n",
       "    </tr>\n",
       "    <tr>\n",
       "      <th>5</th>\n",
       "      <td>14.455996</td>\n",
       "    </tr>\n",
       "    <tr>\n",
       "      <th>6</th>\n",
       "      <td>15.338418</td>\n",
       "    </tr>\n",
       "    <tr>\n",
       "      <th>7</th>\n",
       "      <td>14.775153</td>\n",
       "    </tr>\n",
       "    <tr>\n",
       "      <th>8</th>\n",
       "      <td>9.961374</td>\n",
       "    </tr>\n",
       "    <tr>\n",
       "      <th>9</th>\n",
       "      <td>6.956583</td>\n",
       "    </tr>\n",
       "    <tr>\n",
       "      <th>10</th>\n",
       "      <td>6.502666</td>\n",
       "    </tr>\n",
       "    <tr>\n",
       "      <th>11</th>\n",
       "      <td>6.229672</td>\n",
       "    </tr>\n",
       "    <tr>\n",
       "      <th>12</th>\n",
       "      <td>5.834953</td>\n",
       "    </tr>\n",
       "    <tr>\n",
       "      <th>13</th>\n",
       "      <td>6.078957</td>\n",
       "    </tr>\n",
       "    <tr>\n",
       "      <th>14</th>\n",
       "      <td>5.626507</td>\n",
       "    </tr>\n",
       "    <tr>\n",
       "      <th>15</th>\n",
       "      <td>5.875795</td>\n",
       "    </tr>\n",
       "    <tr>\n",
       "      <th>16</th>\n",
       "      <td>5.374296</td>\n",
       "    </tr>\n",
       "    <tr>\n",
       "      <th>17</th>\n",
       "      <td>5.299496</td>\n",
       "    </tr>\n",
       "    <tr>\n",
       "      <th>18</th>\n",
       "      <td>5.091331</td>\n",
       "    </tr>\n",
       "    <tr>\n",
       "      <th>19</th>\n",
       "      <td>5.051410</td>\n",
       "    </tr>\n",
       "    <tr>\n",
       "      <th>20</th>\n",
       "      <td>5.905662</td>\n",
       "    </tr>\n",
       "    <tr>\n",
       "      <th>21</th>\n",
       "      <td>5.493469</td>\n",
       "    </tr>\n",
       "    <tr>\n",
       "      <th>22</th>\n",
       "      <td>5.415524</td>\n",
       "    </tr>\n",
       "    <tr>\n",
       "      <th>23</th>\n",
       "      <td>4.985376</td>\n",
       "    </tr>\n",
       "    <tr>\n",
       "      <th>24</th>\n",
       "      <td>3.854430</td>\n",
       "    </tr>\n",
       "    <tr>\n",
       "      <th>25</th>\n",
       "      <td>4.052840</td>\n",
       "    </tr>\n",
       "    <tr>\n",
       "      <th>26</th>\n",
       "      <td>4.014287</td>\n",
       "    </tr>\n",
       "    <tr>\n",
       "      <th>27</th>\n",
       "      <td>8.300000</td>\n",
       "    </tr>\n",
       "    <tr>\n",
       "      <th>28</th>\n",
       "      <td>5.026429</td>\n",
       "    </tr>\n",
       "    <tr>\n",
       "      <th>29</th>\n",
       "      <td>4.236667</td>\n",
       "    </tr>\n",
       "  </tbody>\n",
       "</table>\n",
       "</div>"
      ],
      "text/plain": [
       "            last_price\n",
       "too_centre            \n",
       "0            20.707663\n",
       "1            21.206721\n",
       "2            17.788320\n",
       "3            11.146436\n",
       "4            13.309091\n",
       "5            14.455996\n",
       "6            15.338418\n",
       "7            14.775153\n",
       "8             9.961374\n",
       "9             6.956583\n",
       "10            6.502666\n",
       "11            6.229672\n",
       "12            5.834953\n",
       "13            6.078957\n",
       "14            5.626507\n",
       "15            5.875795\n",
       "16            5.374296\n",
       "17            5.299496\n",
       "18            5.091331\n",
       "19            5.051410\n",
       "20            5.905662\n",
       "21            5.493469\n",
       "22            5.415524\n",
       "23            4.985376\n",
       "24            3.854430\n",
       "25            4.052840\n",
       "26            4.014287\n",
       "27            8.300000\n",
       "28            5.026429\n",
       "29            4.236667"
      ]
     },
     "execution_count": 50,
     "metadata": {},
     "output_type": "execute_result"
    }
   ],
   "source": [
    "km_price = data.query('locality_name == \"Санкт-Петербург\"')\n",
    "mean_price = km_price.pivot_table(index='too_centre', values='last_price', aggfunc='mean')\n",
    "mean_price\n"
   ]
  },
  {
   "cell_type": "markdown",
   "metadata": {},
   "source": [
    "В центре города самое дорогое жилье, чем дальше, тем цена становиться меньше"
   ]
  },
  {
   "cell_type": "markdown",
   "metadata": {},
   "source": [
    "## Общий вывод"
   ]
  },
  {
   "cell_type": "markdown",
   "metadata": {},
   "source": [
    "Больше всего квартир с площадью от 40 до 60 кв.м\n",
    "На жилую часть квартир прихродиться два пика 17-20 кв.м и 28-30 кв.м\n",
    "Площадь большинства кухонь до 12 кв.м\n",
    "Цены на квартиры распределены нормально, больше всего квартир до 5 млн.руб\n",
    "1-ых и 2-ых квартир больше всего\n",
    "2.6м- 2.7м самая встречаемая высота потолков \n",
    "Из представленных квартир больше всего находится до 5 этажа\n",
    "Больше всего домов, в которых всего 5 этажей\n",
    "\n",
    "расстояние до центра города: больше всего квартир находится от 12 до 18 тыс.м\n",
    "\n",
    "расстояние до ближайшего аэропорта: больше всего квартир находится от 15 до 25 тыс.м\n",
    "\n",
    "расстояние до ближайшего парка:у большинства квартир есть парк в радиусе 500м\n",
    "\n",
    "день и месяц публикации объявления: объявления чаще всего выкладывают во вторник и четверг\n",
    "\n",
    "Все объявления выложены в первом полугодии\n",
    "\n",
    "В центре города самое дорогое жилье, чем дальше, тем цена становиться меньше\n",
    "\n",
    "Населённый пункт с самой высокой стоимостью квадратного метра - Санкт-Петербург\t(114848 р.)\n",
    "\n",
    "Населённый пункт с самой низкой стоимостью квадратного метра - Выборг\t(58142 р.)\n",
    "\n",
    "Из рассматренных параметров, больше всего на цену влияет общая площадь квартиры\n",
    "\n",
    "В среднем, для продажи квартиры понадобится около 180 дней,аномально долгие выше 1100 дней, быстрыми можно считать менее 90 дней\n"
   ]
  },
  {
   "cell_type": "code",
   "execution_count": null,
   "metadata": {},
   "outputs": [],
   "source": []
  }
 ],
 "metadata": {
  "ExecuteTimeLog": [
   {
    "duration": 415,
    "start_time": "2022-09-23T07:38:57.838Z"
   },
   {
    "duration": 302,
    "start_time": "2022-09-23T07:39:43.111Z"
   },
   {
    "duration": 12,
    "start_time": "2022-09-23T07:39:59.129Z"
   },
   {
    "duration": 13,
    "start_time": "2022-09-23T07:40:18.208Z"
   },
   {
    "duration": 105,
    "start_time": "2022-09-23T07:40:46.982Z"
   },
   {
    "duration": 83,
    "start_time": "2022-09-23T07:44:16.944Z"
   },
   {
    "duration": 6,
    "start_time": "2022-09-23T07:44:19.505Z"
   },
   {
    "duration": 82,
    "start_time": "2022-09-23T07:44:24.078Z"
   },
   {
    "duration": 6,
    "start_time": "2022-09-23T07:44:25.633Z"
   },
   {
    "duration": 38,
    "start_time": "2022-09-23T07:44:28.823Z"
   },
   {
    "duration": 7,
    "start_time": "2022-09-23T07:44:34.408Z"
   },
   {
    "duration": 75,
    "start_time": "2022-09-23T07:45:16.229Z"
   },
   {
    "duration": 85,
    "start_time": "2022-09-23T07:46:30.230Z"
   },
   {
    "duration": 84,
    "start_time": "2022-09-23T07:46:39.736Z"
   },
   {
    "duration": 68,
    "start_time": "2022-09-23T07:47:00.364Z"
   },
   {
    "duration": 45,
    "start_time": "2022-09-23T07:47:20.161Z"
   },
   {
    "duration": 41,
    "start_time": "2022-09-23T07:47:46.608Z"
   },
   {
    "duration": 83,
    "start_time": "2022-09-23T07:48:39.815Z"
   },
   {
    "duration": 7,
    "start_time": "2022-09-23T07:48:42.073Z"
   },
   {
    "duration": 81,
    "start_time": "2022-09-23T07:48:45.651Z"
   },
   {
    "duration": 8,
    "start_time": "2022-09-23T07:48:46.317Z"
   },
   {
    "duration": 3,
    "start_time": "2022-09-23T07:49:27.792Z"
   },
   {
    "duration": 81,
    "start_time": "2022-09-23T07:49:27.936Z"
   },
   {
    "duration": 7,
    "start_time": "2022-09-23T07:49:28.069Z"
   },
   {
    "duration": 13,
    "start_time": "2022-09-23T07:49:41.506Z"
   },
   {
    "duration": 7,
    "start_time": "2022-09-23T07:49:47.201Z"
   },
   {
    "duration": 66,
    "start_time": "2022-09-23T07:50:05.830Z"
   },
   {
    "duration": 124,
    "start_time": "2022-09-23T07:53:46.457Z"
   },
   {
    "duration": 7,
    "start_time": "2022-09-23T07:53:47.268Z"
   },
   {
    "duration": 62,
    "start_time": "2022-09-23T07:54:00.901Z"
   },
   {
    "duration": 92,
    "start_time": "2022-09-23T07:54:17.398Z"
   },
   {
    "duration": 6,
    "start_time": "2022-09-23T07:54:18.874Z"
   },
   {
    "duration": 82,
    "start_time": "2022-09-23T07:54:29.133Z"
   },
   {
    "duration": 6,
    "start_time": "2022-09-23T07:54:29.830Z"
   },
   {
    "duration": 96,
    "start_time": "2022-09-23T07:54:39.146Z"
   },
   {
    "duration": 6,
    "start_time": "2022-09-23T07:54:39.739Z"
   },
   {
    "duration": 50,
    "start_time": "2022-09-23T07:54:44.867Z"
   },
   {
    "duration": 81,
    "start_time": "2022-09-23T07:56:53.212Z"
   },
   {
    "duration": 6,
    "start_time": "2022-09-23T07:56:53.785Z"
   },
   {
    "duration": 91,
    "start_time": "2022-09-23T07:56:59.910Z"
   },
   {
    "duration": 25,
    "start_time": "2022-09-23T07:57:00.510Z"
   },
   {
    "duration": 15,
    "start_time": "2022-09-23T07:57:43.433Z"
   },
   {
    "duration": 14,
    "start_time": "2022-09-23T07:59:25.329Z"
   },
   {
    "duration": 23,
    "start_time": "2022-09-23T07:59:27.423Z"
   },
   {
    "duration": 401,
    "start_time": "2022-09-24T06:58:46.964Z"
   },
   {
    "duration": 651,
    "start_time": "2022-09-24T06:58:47.367Z"
   },
   {
    "duration": 15,
    "start_time": "2022-09-24T06:58:48.020Z"
   },
   {
    "duration": 36,
    "start_time": "2022-09-24T06:58:48.036Z"
   },
   {
    "duration": 2599,
    "start_time": "2022-09-24T06:59:01.142Z"
   },
   {
    "duration": 2079,
    "start_time": "2022-09-24T06:59:45.044Z"
   },
   {
    "duration": 455,
    "start_time": "2022-10-11T06:31:21.052Z"
   },
   {
    "duration": 160,
    "start_time": "2022-10-11T06:31:21.509Z"
   },
   {
    "duration": 17,
    "start_time": "2022-10-11T06:31:21.670Z"
   },
   {
    "duration": 34,
    "start_time": "2022-10-11T06:31:21.689Z"
   },
   {
    "duration": 2604,
    "start_time": "2022-10-11T06:31:21.725Z"
   },
   {
    "duration": 101,
    "start_time": "2022-10-11T06:31:35.405Z"
   },
   {
    "duration": 18,
    "start_time": "2022-10-11T06:31:52.312Z"
   },
   {
    "duration": 57,
    "start_time": "2022-10-11T06:36:06.415Z"
   },
   {
    "duration": 56,
    "start_time": "2022-10-11T06:37:25.866Z"
   },
   {
    "duration": 28,
    "start_time": "2022-10-11T06:37:54.249Z"
   },
   {
    "duration": 15,
    "start_time": "2022-10-11T06:39:06.387Z"
   },
   {
    "duration": 7,
    "start_time": "2022-10-11T06:42:15.516Z"
   },
   {
    "duration": 6,
    "start_time": "2022-10-11T06:42:27.041Z"
   },
   {
    "duration": 8,
    "start_time": "2022-10-11T07:30:53.547Z"
   },
   {
    "duration": 9,
    "start_time": "2022-10-11T07:31:27.611Z"
   },
   {
    "duration": 9,
    "start_time": "2022-10-11T07:31:32.921Z"
   },
   {
    "duration": 7,
    "start_time": "2022-10-11T07:31:40.173Z"
   },
   {
    "duration": 9,
    "start_time": "2022-10-11T07:31:55.244Z"
   },
   {
    "duration": 6,
    "start_time": "2022-10-11T07:32:14.736Z"
   },
   {
    "duration": 43,
    "start_time": "2022-10-11T07:40:20.441Z"
   },
   {
    "duration": 47,
    "start_time": "2022-10-11T07:40:36.360Z"
   },
   {
    "duration": 13,
    "start_time": "2022-10-11T07:41:10.882Z"
   },
   {
    "duration": 16,
    "start_time": "2022-10-11T07:41:21.785Z"
   },
   {
    "duration": 16,
    "start_time": "2022-10-11T07:41:35.244Z"
   },
   {
    "duration": 44,
    "start_time": "2022-10-11T07:41:46.361Z"
   },
   {
    "duration": 19,
    "start_time": "2022-10-11T07:44:08.783Z"
   },
   {
    "duration": 26,
    "start_time": "2022-10-11T07:44:12.289Z"
   },
   {
    "duration": 32,
    "start_time": "2022-10-11T07:45:09.133Z"
   },
   {
    "duration": 12,
    "start_time": "2022-10-11T07:45:30.032Z"
   },
   {
    "duration": 8,
    "start_time": "2022-10-11T07:46:00.514Z"
   },
   {
    "duration": 5,
    "start_time": "2022-10-11T07:46:07.332Z"
   },
   {
    "duration": 10,
    "start_time": "2022-10-11T07:46:28.234Z"
   },
   {
    "duration": 6,
    "start_time": "2022-10-11T07:47:26.109Z"
   },
   {
    "duration": 72,
    "start_time": "2022-10-11T07:48:21.803Z"
   },
   {
    "duration": 31,
    "start_time": "2022-10-11T07:49:07.000Z"
   },
   {
    "duration": 8,
    "start_time": "2022-10-11T07:49:19.706Z"
   },
   {
    "duration": 7,
    "start_time": "2022-10-11T07:49:25.671Z"
   },
   {
    "duration": 20,
    "start_time": "2022-10-11T07:49:28.723Z"
   },
   {
    "duration": 19,
    "start_time": "2022-10-11T07:49:33.618Z"
   },
   {
    "duration": 23,
    "start_time": "2022-10-11T07:51:11.728Z"
   },
   {
    "duration": 59,
    "start_time": "2022-10-11T07:51:18.284Z"
   },
   {
    "duration": 5,
    "start_time": "2022-10-11T07:52:51.510Z"
   },
   {
    "duration": 45,
    "start_time": "2022-10-11T07:53:24.353Z"
   },
   {
    "duration": 7,
    "start_time": "2022-10-11T07:58:17.090Z"
   },
   {
    "duration": 17,
    "start_time": "2022-10-11T08:00:50.542Z"
   },
   {
    "duration": 54,
    "start_time": "2022-10-11T08:01:35.422Z"
   },
   {
    "duration": 15,
    "start_time": "2022-10-11T08:01:51.755Z"
   },
   {
    "duration": 85,
    "start_time": "2022-10-11T08:02:25.181Z"
   },
   {
    "duration": 55,
    "start_time": "2022-10-11T08:02:50.425Z"
   },
   {
    "duration": 37,
    "start_time": "2022-10-11T08:08:23.015Z"
   },
   {
    "duration": 15,
    "start_time": "2022-10-11T08:08:26.136Z"
   },
   {
    "duration": 83,
    "start_time": "2022-10-11T08:09:56.795Z"
   },
   {
    "duration": 68,
    "start_time": "2022-10-11T08:11:10.446Z"
   },
   {
    "duration": 3,
    "start_time": "2022-10-11T08:11:24.250Z"
   },
   {
    "duration": 5,
    "start_time": "2022-10-11T08:11:46.945Z"
   },
   {
    "duration": 6,
    "start_time": "2022-10-11T08:11:53.343Z"
   },
   {
    "duration": 7,
    "start_time": "2022-10-11T08:12:04.833Z"
   },
   {
    "duration": 9,
    "start_time": "2022-10-11T08:12:43.322Z"
   },
   {
    "duration": 7,
    "start_time": "2022-10-11T08:13:13.073Z"
   },
   {
    "duration": 6,
    "start_time": "2022-10-11T08:13:37.561Z"
   },
   {
    "duration": 10,
    "start_time": "2022-10-11T08:14:55.613Z"
   },
   {
    "duration": 9,
    "start_time": "2022-10-11T08:15:33.905Z"
   },
   {
    "duration": 7,
    "start_time": "2022-10-11T08:15:46.864Z"
   },
   {
    "duration": 7,
    "start_time": "2022-10-11T08:17:35.466Z"
   },
   {
    "duration": 13,
    "start_time": "2022-10-11T08:19:07.431Z"
   },
   {
    "duration": 17,
    "start_time": "2022-10-11T08:22:26.320Z"
   },
   {
    "duration": 11,
    "start_time": "2022-10-11T08:23:49.668Z"
   },
   {
    "duration": 11,
    "start_time": "2022-10-11T08:24:03.165Z"
   },
   {
    "duration": 25,
    "start_time": "2022-10-11T08:24:03.441Z"
   },
   {
    "duration": 19,
    "start_time": "2022-10-11T08:24:08.163Z"
   },
   {
    "duration": 470,
    "start_time": "2022-10-11T08:24:25.032Z"
   },
   {
    "duration": 149,
    "start_time": "2022-10-11T08:24:25.504Z"
   },
   {
    "duration": 19,
    "start_time": "2022-10-11T08:24:25.658Z"
   },
   {
    "duration": 57,
    "start_time": "2022-10-11T08:24:25.679Z"
   },
   {
    "duration": 2809,
    "start_time": "2022-10-11T08:24:25.738Z"
   },
   {
    "duration": 16,
    "start_time": "2022-10-11T08:24:28.550Z"
   },
   {
    "duration": 105,
    "start_time": "2022-10-11T08:24:28.568Z"
   },
   {
    "duration": 0,
    "start_time": "2022-10-11T08:24:28.674Z"
   },
   {
    "duration": 0,
    "start_time": "2022-10-11T08:24:28.676Z"
   },
   {
    "duration": 3,
    "start_time": "2022-10-11T08:24:46.482Z"
   },
   {
    "duration": 124,
    "start_time": "2022-10-11T08:24:46.628Z"
   },
   {
    "duration": 18,
    "start_time": "2022-10-11T08:24:46.754Z"
   },
   {
    "duration": 31,
    "start_time": "2022-10-11T08:24:46.920Z"
   },
   {
    "duration": 2746,
    "start_time": "2022-10-11T08:24:47.053Z"
   },
   {
    "duration": 33,
    "start_time": "2022-10-11T08:24:49.802Z"
   },
   {
    "duration": 45,
    "start_time": "2022-10-11T08:24:49.839Z"
   },
   {
    "duration": 0,
    "start_time": "2022-10-11T08:24:49.887Z"
   },
   {
    "duration": 0,
    "start_time": "2022-10-11T08:24:49.888Z"
   },
   {
    "duration": 33,
    "start_time": "2022-10-11T08:24:53.808Z"
   },
   {
    "duration": 145,
    "start_time": "2022-10-11T08:24:53.984Z"
   },
   {
    "duration": 24,
    "start_time": "2022-10-11T08:25:15.688Z"
   },
   {
    "duration": 42,
    "start_time": "2022-10-11T08:25:42.120Z"
   },
   {
    "duration": 36,
    "start_time": "2022-10-11T08:25:55.171Z"
   },
   {
    "duration": 29,
    "start_time": "2022-10-11T08:26:06.912Z"
   },
   {
    "duration": 15,
    "start_time": "2022-10-11T08:26:10.256Z"
   },
   {
    "duration": 19,
    "start_time": "2022-10-11T08:26:10.565Z"
   },
   {
    "duration": 34,
    "start_time": "2022-10-11T08:26:10.685Z"
   },
   {
    "duration": 7,
    "start_time": "2022-10-11T08:26:37.633Z"
   },
   {
    "duration": 21,
    "start_time": "2022-10-11T08:26:39.513Z"
   },
   {
    "duration": 15,
    "start_time": "2022-10-11T08:26:39.835Z"
   },
   {
    "duration": 5,
    "start_time": "2022-10-11T08:26:51.161Z"
   },
   {
    "duration": 15,
    "start_time": "2022-10-11T08:26:56.553Z"
   },
   {
    "duration": 25,
    "start_time": "2022-10-11T08:27:12.440Z"
   },
   {
    "duration": 5,
    "start_time": "2022-10-11T08:27:15.883Z"
   },
   {
    "duration": 22,
    "start_time": "2022-10-11T08:27:17.278Z"
   },
   {
    "duration": 5,
    "start_time": "2022-10-11T08:27:19.661Z"
   },
   {
    "duration": 33,
    "start_time": "2022-10-11T08:27:19.813Z"
   },
   {
    "duration": 3,
    "start_time": "2022-10-11T08:27:29.139Z"
   },
   {
    "duration": 14,
    "start_time": "2022-10-11T08:27:29.637Z"
   },
   {
    "duration": 6,
    "start_time": "2022-10-11T08:27:36.458Z"
   },
   {
    "duration": 23,
    "start_time": "2022-10-11T08:27:36.847Z"
   },
   {
    "duration": 3,
    "start_time": "2022-10-11T08:27:48.266Z"
   },
   {
    "duration": 157,
    "start_time": "2022-10-11T08:27:48.271Z"
   },
   {
    "duration": 22,
    "start_time": "2022-10-11T08:27:48.430Z"
   },
   {
    "duration": 40,
    "start_time": "2022-10-11T08:27:48.454Z"
   },
   {
    "duration": 2784,
    "start_time": "2022-10-11T08:27:48.497Z"
   },
   {
    "duration": 20,
    "start_time": "2022-10-11T08:27:51.284Z"
   },
   {
    "duration": 65,
    "start_time": "2022-10-11T08:27:51.305Z"
   },
   {
    "duration": 9,
    "start_time": "2022-10-11T08:27:51.372Z"
   },
   {
    "duration": 85,
    "start_time": "2022-10-11T08:27:51.383Z"
   },
   {
    "duration": 56,
    "start_time": "2022-10-11T08:28:45.866Z"
   },
   {
    "duration": 90,
    "start_time": "2022-10-11T08:29:06.537Z"
   },
   {
    "duration": 4,
    "start_time": "2022-10-11T08:29:18.419Z"
   },
   {
    "duration": 143,
    "start_time": "2022-10-11T08:29:18.427Z"
   },
   {
    "duration": 19,
    "start_time": "2022-10-11T08:29:18.572Z"
   },
   {
    "duration": 44,
    "start_time": "2022-10-11T08:29:18.601Z"
   },
   {
    "duration": 2623,
    "start_time": "2022-10-11T08:29:18.648Z"
   },
   {
    "duration": 3,
    "start_time": "2022-10-11T08:29:21.273Z"
   },
   {
    "duration": 88,
    "start_time": "2022-10-11T08:29:21.278Z"
   },
   {
    "duration": 4,
    "start_time": "2022-10-11T08:29:21.368Z"
   },
   {
    "duration": 48,
    "start_time": "2022-10-11T08:29:21.388Z"
   },
   {
    "duration": 21,
    "start_time": "2022-10-11T08:29:50.695Z"
   },
   {
    "duration": 8,
    "start_time": "2022-10-11T08:29:57.266Z"
   },
   {
    "duration": 14,
    "start_time": "2022-10-11T08:29:57.737Z"
   },
   {
    "duration": 6,
    "start_time": "2022-10-11T08:30:03.842Z"
   },
   {
    "duration": 11,
    "start_time": "2022-10-11T08:30:04.278Z"
   },
   {
    "duration": 17,
    "start_time": "2022-10-11T08:30:21.138Z"
   },
   {
    "duration": 23,
    "start_time": "2022-10-11T08:30:25.914Z"
   },
   {
    "duration": 16,
    "start_time": "2022-10-11T08:30:57.461Z"
   },
   {
    "duration": 15,
    "start_time": "2022-10-11T08:32:17.710Z"
   },
   {
    "duration": 133,
    "start_time": "2022-10-11T08:32:17.728Z"
   },
   {
    "duration": 14,
    "start_time": "2022-10-11T08:32:17.863Z"
   },
   {
    "duration": 57,
    "start_time": "2022-10-11T08:32:17.879Z"
   },
   {
    "duration": 2805,
    "start_time": "2022-10-11T08:32:17.938Z"
   },
   {
    "duration": 88,
    "start_time": "2022-10-11T08:32:20.746Z"
   },
   {
    "duration": 24,
    "start_time": "2022-10-11T08:32:20.841Z"
   },
   {
    "duration": 4,
    "start_time": "2022-10-11T08:32:20.868Z"
   },
   {
    "duration": 69,
    "start_time": "2022-10-11T08:32:20.876Z"
   },
   {
    "duration": 201,
    "start_time": "2022-10-11T08:32:56.219Z"
   },
   {
    "duration": 157,
    "start_time": "2022-10-11T08:33:05.048Z"
   },
   {
    "duration": 190,
    "start_time": "2022-10-11T08:33:24.426Z"
   },
   {
    "duration": 224,
    "start_time": "2022-10-11T08:33:39.528Z"
   },
   {
    "duration": 187,
    "start_time": "2022-10-11T08:33:47.449Z"
   },
   {
    "duration": 169,
    "start_time": "2022-10-11T08:33:58.556Z"
   },
   {
    "duration": 207,
    "start_time": "2022-10-11T08:34:02.400Z"
   },
   {
    "duration": 139,
    "start_time": "2022-10-11T08:34:08.546Z"
   },
   {
    "duration": 55,
    "start_time": "2022-10-11T08:34:46.943Z"
   },
   {
    "duration": 45,
    "start_time": "2022-10-11T08:35:06.640Z"
   },
   {
    "duration": 77,
    "start_time": "2022-10-11T08:35:13.571Z"
   },
   {
    "duration": 15,
    "start_time": "2022-10-11T08:59:34.586Z"
   },
   {
    "duration": 26,
    "start_time": "2022-10-11T08:59:42.876Z"
   },
   {
    "duration": 48,
    "start_time": "2022-10-11T08:59:54.036Z"
   },
   {
    "duration": 63,
    "start_time": "2022-10-11T09:00:03.678Z"
   },
   {
    "duration": 55,
    "start_time": "2022-10-11T09:00:07.622Z"
   },
   {
    "duration": 109,
    "start_time": "2022-10-11T09:00:11.804Z"
   },
   {
    "duration": 17,
    "start_time": "2022-10-11T09:00:35.618Z"
   },
   {
    "duration": 11,
    "start_time": "2022-10-11T09:02:19.172Z"
   },
   {
    "duration": 34,
    "start_time": "2022-10-11T09:02:20.591Z"
   },
   {
    "duration": 10,
    "start_time": "2022-10-11T09:03:13.625Z"
   },
   {
    "duration": 16,
    "start_time": "2022-10-11T09:03:15.536Z"
   },
   {
    "duration": 18,
    "start_time": "2022-10-11T09:03:37.810Z"
   },
   {
    "duration": 12,
    "start_time": "2022-10-11T09:03:38.129Z"
   },
   {
    "duration": 30,
    "start_time": "2022-10-11T09:03:38.496Z"
   },
   {
    "duration": 41,
    "start_time": "2022-10-11T09:03:49.628Z"
   },
   {
    "duration": 7,
    "start_time": "2022-10-11T09:04:28.579Z"
   },
   {
    "duration": 68,
    "start_time": "2022-10-11T09:04:49.967Z"
   },
   {
    "duration": 17,
    "start_time": "2022-10-11T09:05:08.521Z"
   },
   {
    "duration": 19,
    "start_time": "2022-10-11T09:05:13.353Z"
   },
   {
    "duration": 32,
    "start_time": "2022-10-11T09:05:17.117Z"
   },
   {
    "duration": 35,
    "start_time": "2022-10-11T09:05:32.175Z"
   },
   {
    "duration": 21,
    "start_time": "2022-10-11T09:05:39.716Z"
   },
   {
    "duration": 19,
    "start_time": "2022-10-11T09:05:46.176Z"
   },
   {
    "duration": 20,
    "start_time": "2022-10-11T09:06:49.387Z"
   },
   {
    "duration": 9,
    "start_time": "2022-10-11T09:06:49.946Z"
   },
   {
    "duration": 14,
    "start_time": "2022-10-11T09:06:50.252Z"
   },
   {
    "duration": 19,
    "start_time": "2022-10-11T09:06:50.419Z"
   },
   {
    "duration": 12,
    "start_time": "2022-10-11T09:07:14.445Z"
   },
   {
    "duration": 14,
    "start_time": "2022-10-11T09:07:18.438Z"
   },
   {
    "duration": 15,
    "start_time": "2022-10-11T09:07:46.013Z"
   },
   {
    "duration": 152,
    "start_time": "2022-10-11T09:07:46.035Z"
   },
   {
    "duration": 23,
    "start_time": "2022-10-11T09:07:46.190Z"
   },
   {
    "duration": 56,
    "start_time": "2022-10-11T09:07:46.215Z"
   },
   {
    "duration": 2710,
    "start_time": "2022-10-11T09:07:46.274Z"
   },
   {
    "duration": 16,
    "start_time": "2022-10-11T09:07:48.988Z"
   },
   {
    "duration": 50,
    "start_time": "2022-10-11T09:07:49.006Z"
   },
   {
    "duration": 15,
    "start_time": "2022-10-11T09:07:49.059Z"
   },
   {
    "duration": 22,
    "start_time": "2022-10-11T09:07:54.083Z"
   },
   {
    "duration": 25,
    "start_time": "2022-10-11T09:09:54.755Z"
   },
   {
    "duration": 27,
    "start_time": "2022-10-11T09:10:21.937Z"
   },
   {
    "duration": 5,
    "start_time": "2022-10-11T09:11:01.068Z"
   },
   {
    "duration": 13,
    "start_time": "2022-10-11T09:11:21.350Z"
   },
   {
    "duration": 12,
    "start_time": "2022-10-11T09:11:21.853Z"
   },
   {
    "duration": 7,
    "start_time": "2022-10-11T09:11:22.452Z"
   },
   {
    "duration": 10,
    "start_time": "2022-10-11T09:11:25.853Z"
   },
   {
    "duration": 18,
    "start_time": "2022-10-11T09:11:25.989Z"
   },
   {
    "duration": 7,
    "start_time": "2022-10-11T09:11:26.130Z"
   },
   {
    "duration": 28,
    "start_time": "2022-10-11T09:11:26.288Z"
   },
   {
    "duration": 11,
    "start_time": "2022-10-11T09:11:37.641Z"
   },
   {
    "duration": 6,
    "start_time": "2022-10-11T09:11:37.834Z"
   },
   {
    "duration": 6,
    "start_time": "2022-10-11T09:12:08.929Z"
   },
   {
    "duration": 11,
    "start_time": "2022-10-11T09:12:22.453Z"
   },
   {
    "duration": 34,
    "start_time": "2022-10-11T09:13:13.440Z"
   },
   {
    "duration": 6,
    "start_time": "2022-10-11T09:13:27.051Z"
   },
   {
    "duration": 2,
    "start_time": "2022-10-11T09:13:41.252Z"
   },
   {
    "duration": 155,
    "start_time": "2022-10-11T09:13:41.257Z"
   },
   {
    "duration": 22,
    "start_time": "2022-10-11T09:13:41.419Z"
   },
   {
    "duration": 53,
    "start_time": "2022-10-11T09:13:41.443Z"
   },
   {
    "duration": 2798,
    "start_time": "2022-10-11T09:13:41.499Z"
   },
   {
    "duration": 18,
    "start_time": "2022-10-11T09:13:44.299Z"
   },
   {
    "duration": 48,
    "start_time": "2022-10-11T09:13:44.321Z"
   },
   {
    "duration": 82,
    "start_time": "2022-10-11T09:13:44.370Z"
   },
   {
    "duration": 14,
    "start_time": "2022-10-11T09:14:34.169Z"
   },
   {
    "duration": 44,
    "start_time": "2022-10-11T09:15:04.309Z"
   },
   {
    "duration": 4,
    "start_time": "2022-10-11T11:28:04.065Z"
   },
   {
    "duration": 105,
    "start_time": "2022-10-11T11:28:04.071Z"
   },
   {
    "duration": 15,
    "start_time": "2022-10-11T11:28:04.179Z"
   },
   {
    "duration": 27,
    "start_time": "2022-10-11T11:28:04.197Z"
   },
   {
    "duration": 2128,
    "start_time": "2022-10-11T11:28:04.226Z"
   },
   {
    "duration": 12,
    "start_time": "2022-10-11T11:28:06.356Z"
   },
   {
    "duration": 25,
    "start_time": "2022-10-11T11:28:06.370Z"
   },
   {
    "duration": 20,
    "start_time": "2022-10-11T11:28:06.397Z"
   },
   {
    "duration": 24,
    "start_time": "2022-10-11T11:28:40.243Z"
   },
   {
    "duration": 14,
    "start_time": "2022-10-11T11:28:47.243Z"
   },
   {
    "duration": 10,
    "start_time": "2022-10-11T11:31:04.194Z"
   },
   {
    "duration": 6,
    "start_time": "2022-10-11T11:31:16.618Z"
   },
   {
    "duration": 5,
    "start_time": "2022-10-11T11:32:34.722Z"
   },
   {
    "duration": 39,
    "start_time": "2022-10-11T11:33:32.261Z"
   },
   {
    "duration": 76,
    "start_time": "2022-10-11T11:34:20.946Z"
   },
   {
    "duration": 12,
    "start_time": "2022-10-11T11:34:31.589Z"
   },
   {
    "duration": 15,
    "start_time": "2022-10-11T11:34:34.282Z"
   },
   {
    "duration": 12,
    "start_time": "2022-10-11T11:34:45.198Z"
   },
   {
    "duration": 15,
    "start_time": "2022-10-11T11:34:45.389Z"
   },
   {
    "duration": 15,
    "start_time": "2022-10-11T11:34:48.718Z"
   },
   {
    "duration": 9,
    "start_time": "2022-10-11T11:35:03.466Z"
   },
   {
    "duration": 5,
    "start_time": "2022-10-11T11:35:08.041Z"
   },
   {
    "duration": 15,
    "start_time": "2022-10-11T11:35:12.375Z"
   },
   {
    "duration": 6,
    "start_time": "2022-10-11T11:35:26.765Z"
   },
   {
    "duration": 13,
    "start_time": "2022-10-11T11:35:27.264Z"
   },
   {
    "duration": 14,
    "start_time": "2022-10-11T11:35:27.575Z"
   },
   {
    "duration": 2400,
    "start_time": "2022-10-11T11:35:52.586Z"
   },
   {
    "duration": 11,
    "start_time": "2022-10-11T11:35:54.990Z"
   },
   {
    "duration": 24,
    "start_time": "2022-10-11T11:35:55.003Z"
   },
   {
    "duration": 21,
    "start_time": "2022-10-11T11:35:55.030Z"
   },
   {
    "duration": 17,
    "start_time": "2022-10-11T11:40:34.002Z"
   },
   {
    "duration": 14,
    "start_time": "2022-10-11T11:40:38.151Z"
   },
   {
    "duration": 16,
    "start_time": "2022-10-11T11:40:51.109Z"
   },
   {
    "duration": 15,
    "start_time": "2022-10-11T11:40:52.255Z"
   },
   {
    "duration": 13,
    "start_time": "2022-10-11T11:41:08.138Z"
   },
   {
    "duration": 16,
    "start_time": "2022-10-11T11:42:05.577Z"
   },
   {
    "duration": 10,
    "start_time": "2022-10-11T11:43:20.674Z"
   },
   {
    "duration": 21,
    "start_time": "2022-10-11T11:43:42.862Z"
   },
   {
    "duration": 11,
    "start_time": "2022-10-11T11:45:18.029Z"
   },
   {
    "duration": 8,
    "start_time": "2022-10-11T11:45:41.502Z"
   },
   {
    "duration": 10,
    "start_time": "2022-10-11T11:59:01.674Z"
   },
   {
    "duration": 12,
    "start_time": "2022-10-11T11:59:07.401Z"
   },
   {
    "duration": 8,
    "start_time": "2022-10-11T11:59:13.808Z"
   },
   {
    "duration": 4,
    "start_time": "2022-10-11T11:59:37.747Z"
   },
   {
    "duration": 6,
    "start_time": "2022-10-11T11:59:53.268Z"
   },
   {
    "duration": 9,
    "start_time": "2022-10-11T12:00:14.190Z"
   },
   {
    "duration": 4,
    "start_time": "2022-10-11T12:00:39.544Z"
   },
   {
    "duration": 6,
    "start_time": "2022-10-11T12:00:49.256Z"
   },
   {
    "duration": 7,
    "start_time": "2022-10-11T12:01:07.120Z"
   },
   {
    "duration": 7,
    "start_time": "2022-10-11T12:01:34.806Z"
   },
   {
    "duration": 5,
    "start_time": "2022-10-11T12:01:45.675Z"
   },
   {
    "duration": 7,
    "start_time": "2022-10-11T12:01:58.972Z"
   },
   {
    "duration": 8,
    "start_time": "2022-10-11T12:02:20.354Z"
   },
   {
    "duration": 8,
    "start_time": "2022-10-11T12:02:42.383Z"
   },
   {
    "duration": 7,
    "start_time": "2022-10-11T12:02:48.138Z"
   },
   {
    "duration": 7,
    "start_time": "2022-10-11T12:06:16.347Z"
   },
   {
    "duration": 3,
    "start_time": "2022-10-11T12:06:19.657Z"
   },
   {
    "duration": 9,
    "start_time": "2022-10-11T12:11:47.632Z"
   },
   {
    "duration": 1328,
    "start_time": "2022-10-11T12:12:04.832Z"
   },
   {
    "duration": 43,
    "start_time": "2022-10-11T12:12:46.662Z"
   },
   {
    "duration": 15,
    "start_time": "2022-10-11T12:13:01.698Z"
   },
   {
    "duration": 21,
    "start_time": "2022-10-11T12:13:01.854Z"
   },
   {
    "duration": 14,
    "start_time": "2022-10-11T12:13:02.479Z"
   },
   {
    "duration": 26,
    "start_time": "2022-10-11T12:13:13.700Z"
   },
   {
    "duration": 15,
    "start_time": "2022-10-11T12:13:24.318Z"
   },
   {
    "duration": 21,
    "start_time": "2022-10-11T12:14:23.846Z"
   },
   {
    "duration": 19,
    "start_time": "2022-10-11T12:16:45.776Z"
   },
   {
    "duration": 8,
    "start_time": "2022-10-11T12:16:53.723Z"
   },
   {
    "duration": 8,
    "start_time": "2022-10-11T12:17:06.666Z"
   },
   {
    "duration": 19,
    "start_time": "2022-10-11T12:17:06.877Z"
   },
   {
    "duration": 17,
    "start_time": "2022-10-11T12:17:31.241Z"
   },
   {
    "duration": 7,
    "start_time": "2022-10-11T12:17:35.020Z"
   },
   {
    "duration": 27,
    "start_time": "2022-10-11T12:19:11.108Z"
   },
   {
    "duration": 15,
    "start_time": "2022-10-11T12:19:46.277Z"
   },
   {
    "duration": 16,
    "start_time": "2022-10-11T12:20:07.031Z"
   },
   {
    "duration": 28,
    "start_time": "2022-10-11T12:24:56.876Z"
   },
   {
    "duration": 8,
    "start_time": "2022-10-11T12:24:57.409Z"
   },
   {
    "duration": 30,
    "start_time": "2022-10-11T12:25:07.246Z"
   },
   {
    "duration": 7,
    "start_time": "2022-10-11T12:25:07.598Z"
   },
   {
    "duration": 8,
    "start_time": "2022-10-11T12:25:12.944Z"
   },
   {
    "duration": 17,
    "start_time": "2022-10-11T12:25:17.656Z"
   },
   {
    "duration": 8,
    "start_time": "2022-10-11T12:25:18.746Z"
   },
   {
    "duration": 3,
    "start_time": "2022-10-11T12:25:26.648Z"
   },
   {
    "duration": 8,
    "start_time": "2022-10-11T12:25:26.957Z"
   },
   {
    "duration": 18,
    "start_time": "2022-10-11T12:25:34.423Z"
   },
   {
    "duration": 23,
    "start_time": "2022-10-11T12:25:41.531Z"
   },
   {
    "duration": 3,
    "start_time": "2022-10-11T12:25:41.768Z"
   },
   {
    "duration": 9,
    "start_time": "2022-10-11T12:25:42.391Z"
   },
   {
    "duration": 19,
    "start_time": "2022-10-11T12:25:48.260Z"
   },
   {
    "duration": 11,
    "start_time": "2022-10-11T12:25:49.364Z"
   },
   {
    "duration": 46,
    "start_time": "2022-10-11T12:26:02.114Z"
   },
   {
    "duration": 8,
    "start_time": "2022-10-11T12:26:03.672Z"
   },
   {
    "duration": 7,
    "start_time": "2022-10-11T12:26:05.992Z"
   },
   {
    "duration": 7,
    "start_time": "2022-10-11T12:28:13.567Z"
   },
   {
    "duration": 6,
    "start_time": "2022-10-11T12:28:22.113Z"
   },
   {
    "duration": 23,
    "start_time": "2022-10-11T12:28:33.748Z"
   },
   {
    "duration": 45,
    "start_time": "2022-10-11T12:30:58.072Z"
   },
   {
    "duration": 7,
    "start_time": "2022-10-11T12:30:58.332Z"
   },
   {
    "duration": 44,
    "start_time": "2022-10-11T12:31:15.067Z"
   },
   {
    "duration": 7,
    "start_time": "2022-10-11T12:31:15.233Z"
   },
   {
    "duration": 48,
    "start_time": "2022-10-11T12:31:30.072Z"
   },
   {
    "duration": 11,
    "start_time": "2022-10-11T12:31:30.212Z"
   },
   {
    "duration": 16,
    "start_time": "2022-10-11T12:31:39.820Z"
   },
   {
    "duration": 7,
    "start_time": "2022-10-11T12:31:42.214Z"
   },
   {
    "duration": 16,
    "start_time": "2022-10-11T12:32:21.423Z"
   },
   {
    "duration": 7,
    "start_time": "2022-10-11T12:34:15.205Z"
   },
   {
    "duration": 9,
    "start_time": "2022-10-11T12:34:17.955Z"
   },
   {
    "duration": 7,
    "start_time": "2022-10-11T12:34:39.168Z"
   },
   {
    "duration": 7,
    "start_time": "2022-10-11T12:34:39.746Z"
   },
   {
    "duration": 7,
    "start_time": "2022-10-11T12:34:50.243Z"
   },
   {
    "duration": 8,
    "start_time": "2022-10-11T12:34:51.400Z"
   },
   {
    "duration": 8,
    "start_time": "2022-10-11T12:35:12.317Z"
   },
   {
    "duration": 5,
    "start_time": "2022-10-11T12:35:15.923Z"
   },
   {
    "duration": 7,
    "start_time": "2022-10-11T12:35:16.077Z"
   },
   {
    "duration": 6,
    "start_time": "2022-10-11T12:35:42.697Z"
   },
   {
    "duration": 3,
    "start_time": "2022-10-11T12:35:51.041Z"
   },
   {
    "duration": 99,
    "start_time": "2022-10-11T12:35:51.047Z"
   },
   {
    "duration": 17,
    "start_time": "2022-10-11T12:35:51.149Z"
   },
   {
    "duration": 40,
    "start_time": "2022-10-11T12:35:51.168Z"
   },
   {
    "duration": 2161,
    "start_time": "2022-10-11T12:35:51.210Z"
   },
   {
    "duration": 27,
    "start_time": "2022-10-11T12:35:53.373Z"
   },
   {
    "duration": 20,
    "start_time": "2022-10-11T12:35:53.402Z"
   },
   {
    "duration": 14,
    "start_time": "2022-10-11T12:35:53.424Z"
   },
   {
    "duration": 14,
    "start_time": "2022-10-11T12:35:56.400Z"
   },
   {
    "duration": 20,
    "start_time": "2022-10-11T12:35:56.601Z"
   },
   {
    "duration": 7,
    "start_time": "2022-10-11T12:35:57.306Z"
   },
   {
    "duration": 10,
    "start_time": "2022-10-11T12:36:04.443Z"
   },
   {
    "duration": 3,
    "start_time": "2022-10-11T12:36:23.699Z"
   },
   {
    "duration": 98,
    "start_time": "2022-10-11T12:36:23.844Z"
   },
   {
    "duration": 21,
    "start_time": "2022-10-11T12:36:23.983Z"
   },
   {
    "duration": 33,
    "start_time": "2022-10-11T12:36:24.132Z"
   },
   {
    "duration": 2632,
    "start_time": "2022-10-11T12:36:24.283Z"
   },
   {
    "duration": 15,
    "start_time": "2022-10-11T12:36:26.917Z"
   },
   {
    "duration": 30,
    "start_time": "2022-10-11T12:36:26.934Z"
   },
   {
    "duration": 23,
    "start_time": "2022-10-11T12:36:26.966Z"
   },
   {
    "duration": 20,
    "start_time": "2022-10-11T12:36:26.991Z"
   },
   {
    "duration": 19,
    "start_time": "2022-10-11T12:36:27.013Z"
   },
   {
    "duration": 8,
    "start_time": "2022-10-11T12:37:00.823Z"
   },
   {
    "duration": 8,
    "start_time": "2022-10-11T12:38:11.007Z"
   },
   {
    "duration": 7,
    "start_time": "2022-10-11T12:38:12.256Z"
   },
   {
    "duration": 7,
    "start_time": "2022-10-11T12:38:20.842Z"
   },
   {
    "duration": 7,
    "start_time": "2022-10-11T12:38:20.967Z"
   },
   {
    "duration": 14,
    "start_time": "2022-10-11T12:38:36.486Z"
   },
   {
    "duration": 16,
    "start_time": "2022-10-11T12:40:16.905Z"
   },
   {
    "duration": 7,
    "start_time": "2022-10-11T12:40:17.717Z"
   },
   {
    "duration": 48,
    "start_time": "2022-10-11T12:40:39.263Z"
   },
   {
    "duration": 8,
    "start_time": "2022-10-11T12:40:40.019Z"
   },
   {
    "duration": 10,
    "start_time": "2022-10-11T12:40:52.111Z"
   },
   {
    "duration": 8,
    "start_time": "2022-10-11T12:40:56.190Z"
   },
   {
    "duration": 45,
    "start_time": "2022-10-11T12:41:18.512Z"
   },
   {
    "duration": 7,
    "start_time": "2022-10-11T12:41:19.829Z"
   },
   {
    "duration": 8,
    "start_time": "2022-10-11T12:41:27.061Z"
   },
   {
    "duration": 7,
    "start_time": "2022-10-11T12:41:31.164Z"
   },
   {
    "duration": 72,
    "start_time": "2022-10-11T12:42:04.242Z"
   },
   {
    "duration": 9,
    "start_time": "2022-10-11T12:42:04.797Z"
   },
   {
    "duration": 42,
    "start_time": "2022-10-11T12:42:28.420Z"
   },
   {
    "duration": 7,
    "start_time": "2022-10-11T12:42:28.993Z"
   },
   {
    "duration": 9,
    "start_time": "2022-10-11T12:42:32.196Z"
   },
   {
    "duration": 42,
    "start_time": "2022-10-11T12:42:35.164Z"
   },
   {
    "duration": 6,
    "start_time": "2022-10-11T12:42:35.804Z"
   },
   {
    "duration": 41,
    "start_time": "2022-10-11T12:42:55.683Z"
   },
   {
    "duration": 8,
    "start_time": "2022-10-11T12:43:05.731Z"
   },
   {
    "duration": 3,
    "start_time": "2022-10-11T12:43:12.599Z"
   },
   {
    "duration": 117,
    "start_time": "2022-10-11T12:43:12.604Z"
   },
   {
    "duration": 16,
    "start_time": "2022-10-11T12:43:12.723Z"
   },
   {
    "duration": 32,
    "start_time": "2022-10-11T12:43:12.741Z"
   },
   {
    "duration": 2252,
    "start_time": "2022-10-11T12:43:12.775Z"
   },
   {
    "duration": 20,
    "start_time": "2022-10-11T12:43:15.030Z"
   },
   {
    "duration": 37,
    "start_time": "2022-10-11T12:43:15.052Z"
   },
   {
    "duration": 28,
    "start_time": "2022-10-11T12:43:15.091Z"
   },
   {
    "duration": 28,
    "start_time": "2022-10-11T12:43:15.122Z"
   },
   {
    "duration": 88,
    "start_time": "2022-10-11T12:43:15.153Z"
   },
   {
    "duration": 9,
    "start_time": "2022-10-11T12:43:15.244Z"
   },
   {
    "duration": 53,
    "start_time": "2022-10-11T12:44:13.673Z"
   },
   {
    "duration": 6,
    "start_time": "2022-10-11T12:44:14.174Z"
   },
   {
    "duration": 4,
    "start_time": "2022-10-11T12:44:30.170Z"
   },
   {
    "duration": 127,
    "start_time": "2022-10-11T12:44:30.176Z"
   },
   {
    "duration": 16,
    "start_time": "2022-10-11T12:44:30.305Z"
   },
   {
    "duration": 46,
    "start_time": "2022-10-11T12:44:30.323Z"
   },
   {
    "duration": 2219,
    "start_time": "2022-10-11T12:44:30.372Z"
   },
   {
    "duration": 17,
    "start_time": "2022-10-11T12:44:32.593Z"
   },
   {
    "duration": 17,
    "start_time": "2022-10-11T12:44:32.611Z"
   },
   {
    "duration": 34,
    "start_time": "2022-10-11T12:44:32.629Z"
   },
   {
    "duration": 25,
    "start_time": "2022-10-11T12:44:32.665Z"
   },
   {
    "duration": 57,
    "start_time": "2022-10-11T12:44:32.691Z"
   },
   {
    "duration": 6,
    "start_time": "2022-10-11T12:44:32.750Z"
   },
   {
    "duration": 52,
    "start_time": "2022-10-11T12:47:03.129Z"
   },
   {
    "duration": 7,
    "start_time": "2022-10-11T12:47:03.592Z"
   },
   {
    "duration": 10,
    "start_time": "2022-10-11T12:47:19.414Z"
   },
   {
    "duration": 8,
    "start_time": "2022-10-11T12:47:27.390Z"
   },
   {
    "duration": 55,
    "start_time": "2022-10-11T12:53:17.935Z"
   },
   {
    "duration": 7,
    "start_time": "2022-10-11T12:53:18.418Z"
   },
   {
    "duration": 53,
    "start_time": "2022-10-11T12:53:40.501Z"
   },
   {
    "duration": 6,
    "start_time": "2022-10-11T12:53:40.862Z"
   },
   {
    "duration": 8,
    "start_time": "2022-10-11T12:55:05.586Z"
   },
   {
    "duration": 7,
    "start_time": "2022-10-11T12:55:11.253Z"
   },
   {
    "duration": 1566,
    "start_time": "2022-10-11T13:06:13.996Z"
   },
   {
    "duration": 7,
    "start_time": "2022-10-11T13:06:23.057Z"
   },
   {
    "duration": 10,
    "start_time": "2022-10-11T13:13:11.845Z"
   },
   {
    "duration": 7,
    "start_time": "2022-10-11T13:13:12.326Z"
   },
   {
    "duration": 3,
    "start_time": "2022-10-11T13:13:26.866Z"
   },
   {
    "duration": 111,
    "start_time": "2022-10-11T13:13:26.871Z"
   },
   {
    "duration": 22,
    "start_time": "2022-10-11T13:13:26.984Z"
   },
   {
    "duration": 35,
    "start_time": "2022-10-11T13:13:27.008Z"
   },
   {
    "duration": 2092,
    "start_time": "2022-10-11T13:13:27.046Z"
   },
   {
    "duration": 15,
    "start_time": "2022-10-11T13:13:29.140Z"
   },
   {
    "duration": 15,
    "start_time": "2022-10-11T13:13:29.157Z"
   },
   {
    "duration": 17,
    "start_time": "2022-10-11T13:13:29.188Z"
   },
   {
    "duration": 20,
    "start_time": "2022-10-11T13:13:29.207Z"
   },
   {
    "duration": 76,
    "start_time": "2022-10-11T13:13:29.228Z"
   },
   {
    "duration": 7,
    "start_time": "2022-10-11T13:13:29.306Z"
   },
   {
    "duration": 8,
    "start_time": "2022-10-11T13:13:29.314Z"
   },
   {
    "duration": 6,
    "start_time": "2022-10-11T13:13:29.324Z"
   },
   {
    "duration": 16,
    "start_time": "2022-10-11T13:14:18.310Z"
   },
   {
    "duration": 9,
    "start_time": "2022-10-11T13:14:29.798Z"
   },
   {
    "duration": 6,
    "start_time": "2022-10-11T13:14:31.767Z"
   },
   {
    "duration": 4,
    "start_time": "2022-10-11T13:14:46.250Z"
   },
   {
    "duration": 6,
    "start_time": "2022-10-11T13:14:47.158Z"
   },
   {
    "duration": 4,
    "start_time": "2022-10-11T13:15:17.909Z"
   },
   {
    "duration": 2023,
    "start_time": "2022-10-11T13:15:59.478Z"
   },
   {
    "duration": 44,
    "start_time": "2022-10-11T13:16:20.087Z"
   },
   {
    "duration": 7,
    "start_time": "2022-10-11T13:16:29.315Z"
   },
   {
    "duration": 43,
    "start_time": "2022-10-11T13:16:30.103Z"
   },
   {
    "duration": 8,
    "start_time": "2022-10-11T13:17:33.450Z"
   },
   {
    "duration": 41,
    "start_time": "2022-10-11T13:17:34.391Z"
   },
   {
    "duration": 4,
    "start_time": "2022-10-11T13:17:52.967Z"
   },
   {
    "duration": 42,
    "start_time": "2022-10-11T13:17:53.211Z"
   },
   {
    "duration": 43,
    "start_time": "2022-10-11T13:18:22.183Z"
   },
   {
    "duration": 58,
    "start_time": "2022-10-11T13:18:31.840Z"
   },
   {
    "duration": 7,
    "start_time": "2022-10-11T13:18:45.891Z"
   },
   {
    "duration": 40,
    "start_time": "2022-10-11T13:19:00.103Z"
   },
   {
    "duration": 43,
    "start_time": "2022-10-11T13:19:27.605Z"
   },
   {
    "duration": 41,
    "start_time": "2022-10-11T13:19:57.224Z"
   },
   {
    "duration": 47,
    "start_time": "2022-10-11T13:20:06.354Z"
   },
   {
    "duration": 7,
    "start_time": "2022-10-11T13:21:01.987Z"
   },
   {
    "duration": 14,
    "start_time": "2022-10-11T13:21:02.209Z"
   },
   {
    "duration": 2,
    "start_time": "2022-10-11T13:21:14.215Z"
   },
   {
    "duration": 99,
    "start_time": "2022-10-11T13:21:14.220Z"
   },
   {
    "duration": 15,
    "start_time": "2022-10-11T13:21:14.321Z"
   },
   {
    "duration": 27,
    "start_time": "2022-10-11T13:21:14.338Z"
   },
   {
    "duration": 2670,
    "start_time": "2022-10-11T13:21:14.368Z"
   },
   {
    "duration": 14,
    "start_time": "2022-10-11T13:21:17.040Z"
   },
   {
    "duration": 16,
    "start_time": "2022-10-11T13:21:17.056Z"
   },
   {
    "duration": 19,
    "start_time": "2022-10-11T13:21:17.074Z"
   },
   {
    "duration": 13,
    "start_time": "2022-10-11T13:21:17.095Z"
   },
   {
    "duration": 19,
    "start_time": "2022-10-11T13:21:17.110Z"
   },
   {
    "duration": 81,
    "start_time": "2022-10-11T13:21:17.131Z"
   },
   {
    "duration": 7,
    "start_time": "2022-10-11T13:21:17.214Z"
   },
   {
    "duration": 17,
    "start_time": "2022-10-11T13:21:17.222Z"
   },
   {
    "duration": 8,
    "start_time": "2022-10-11T13:21:17.242Z"
   },
   {
    "duration": 67,
    "start_time": "2022-10-11T13:21:17.251Z"
   },
   {
    "duration": 13,
    "start_time": "2022-10-11T13:22:00.972Z"
   },
   {
    "duration": 26,
    "start_time": "2022-10-11T13:22:15.276Z"
   },
   {
    "duration": 7,
    "start_time": "2022-10-11T13:22:59.639Z"
   },
   {
    "duration": 17,
    "start_time": "2022-10-11T13:23:00.279Z"
   },
   {
    "duration": 2,
    "start_time": "2022-10-11T13:23:05.869Z"
   },
   {
    "duration": 111,
    "start_time": "2022-10-11T13:23:05.873Z"
   },
   {
    "duration": 15,
    "start_time": "2022-10-11T13:23:05.986Z"
   },
   {
    "duration": 28,
    "start_time": "2022-10-11T13:23:06.003Z"
   },
   {
    "duration": 2026,
    "start_time": "2022-10-11T13:23:06.034Z"
   },
   {
    "duration": 14,
    "start_time": "2022-10-11T13:23:08.062Z"
   },
   {
    "duration": 24,
    "start_time": "2022-10-11T13:23:08.078Z"
   },
   {
    "duration": 15,
    "start_time": "2022-10-11T13:23:08.104Z"
   },
   {
    "duration": 22,
    "start_time": "2022-10-11T13:23:08.121Z"
   },
   {
    "duration": 27,
    "start_time": "2022-10-11T13:23:08.144Z"
   },
   {
    "duration": 58,
    "start_time": "2022-10-11T13:23:08.172Z"
   },
   {
    "duration": 7,
    "start_time": "2022-10-11T13:23:08.232Z"
   },
   {
    "duration": 63,
    "start_time": "2022-10-11T13:23:08.241Z"
   },
   {
    "duration": 5,
    "start_time": "2022-10-11T13:25:41.172Z"
   },
   {
    "duration": 27,
    "start_time": "2022-10-11T13:26:11.170Z"
   },
   {
    "duration": 4,
    "start_time": "2022-10-11T13:26:19.049Z"
   },
   {
    "duration": 24,
    "start_time": "2022-10-11T13:26:55.508Z"
   },
   {
    "duration": 5,
    "start_time": "2022-10-11T13:27:14.909Z"
   },
   {
    "duration": 5,
    "start_time": "2022-10-11T13:27:33.172Z"
   },
   {
    "duration": 28,
    "start_time": "2022-10-11T13:28:06.845Z"
   },
   {
    "duration": 430,
    "start_time": "2022-10-12T07:15:08.686Z"
   },
   {
    "duration": 286,
    "start_time": "2022-10-12T07:15:09.119Z"
   },
   {
    "duration": 14,
    "start_time": "2022-10-12T07:15:09.407Z"
   },
   {
    "duration": 28,
    "start_time": "2022-10-12T07:15:09.422Z"
   },
   {
    "duration": 2164,
    "start_time": "2022-10-12T07:15:09.452Z"
   },
   {
    "duration": 19,
    "start_time": "2022-10-12T07:15:11.618Z"
   },
   {
    "duration": 13,
    "start_time": "2022-10-12T07:15:11.639Z"
   },
   {
    "duration": 9,
    "start_time": "2022-10-12T07:15:11.653Z"
   },
   {
    "duration": 14,
    "start_time": "2022-10-12T07:15:11.663Z"
   },
   {
    "duration": 39,
    "start_time": "2022-10-12T07:15:11.678Z"
   },
   {
    "duration": 51,
    "start_time": "2022-10-12T07:15:11.719Z"
   },
   {
    "duration": 6,
    "start_time": "2022-10-12T07:15:11.772Z"
   },
   {
    "duration": 44,
    "start_time": "2022-10-12T07:15:11.780Z"
   },
   {
    "duration": 4,
    "start_time": "2022-10-12T09:40:03.270Z"
   },
   {
    "duration": 21,
    "start_time": "2022-10-12T09:40:28.401Z"
   },
   {
    "duration": 4,
    "start_time": "2022-10-12T09:40:51.125Z"
   },
   {
    "duration": 22,
    "start_time": "2022-10-12T09:40:51.298Z"
   },
   {
    "duration": 6,
    "start_time": "2022-10-12T09:41:13.678Z"
   },
   {
    "duration": 6,
    "start_time": "2022-10-12T09:46:09.802Z"
   },
   {
    "duration": 23,
    "start_time": "2022-10-12T09:46:49.343Z"
   },
   {
    "duration": 4,
    "start_time": "2022-10-12T09:48:52.949Z"
   },
   {
    "duration": 4,
    "start_time": "2022-10-12T09:48:53.103Z"
   },
   {
    "duration": 5,
    "start_time": "2022-10-12T09:48:53.358Z"
   },
   {
    "duration": 4,
    "start_time": "2022-10-12T09:48:54.003Z"
   },
   {
    "duration": 2,
    "start_time": "2022-10-12T09:49:09.447Z"
   },
   {
    "duration": 7,
    "start_time": "2022-10-12T09:53:11.272Z"
   },
   {
    "duration": 6,
    "start_time": "2022-10-12T09:54:24.606Z"
   },
   {
    "duration": 23,
    "start_time": "2022-10-12T09:54:40.065Z"
   },
   {
    "duration": 3,
    "start_time": "2022-10-12T10:07:27.476Z"
   },
   {
    "duration": 837,
    "start_time": "2022-10-12T10:09:16.000Z"
   },
   {
    "duration": 4,
    "start_time": "2022-10-12T10:09:33.243Z"
   },
   {
    "duration": 285,
    "start_time": "2022-10-12T10:09:44.201Z"
   },
   {
    "duration": 83,
    "start_time": "2022-10-12T10:11:53.459Z"
   },
   {
    "duration": 824,
    "start_time": "2022-10-12T10:11:58.510Z"
   },
   {
    "duration": 481,
    "start_time": "2022-10-12T10:12:17.930Z"
   },
   {
    "duration": 13,
    "start_time": "2022-10-12T10:12:41.028Z"
   },
   {
    "duration": 336,
    "start_time": "2022-10-12T10:15:06.667Z"
   },
   {
    "duration": 278,
    "start_time": "2022-10-12T10:15:39.703Z"
   },
   {
    "duration": 11,
    "start_time": "2022-10-12T10:16:24.734Z"
   },
   {
    "duration": 30,
    "start_time": "2022-10-12T10:16:32.357Z"
   },
   {
    "duration": 9,
    "start_time": "2022-10-12T10:17:00.769Z"
   },
   {
    "duration": 23,
    "start_time": "2022-10-12T10:17:02.686Z"
   },
   {
    "duration": 247,
    "start_time": "2022-10-12T10:18:16.405Z"
   },
   {
    "duration": 277,
    "start_time": "2022-10-12T10:27:16.463Z"
   },
   {
    "duration": 219,
    "start_time": "2022-10-12T10:31:32.398Z"
   },
   {
    "duration": 252,
    "start_time": "2022-10-12T10:33:04.719Z"
   },
   {
    "duration": 277,
    "start_time": "2022-10-12T10:33:27.768Z"
   },
   {
    "duration": 4,
    "start_time": "2022-10-12T10:33:40.118Z"
   },
   {
    "duration": 4,
    "start_time": "2022-10-12T10:33:42.412Z"
   },
   {
    "duration": 7,
    "start_time": "2022-10-12T10:34:29.948Z"
   },
   {
    "duration": 288,
    "start_time": "2022-10-12T10:34:41.873Z"
   },
   {
    "duration": 29,
    "start_time": "2022-10-12T10:34:44.534Z"
   },
   {
    "duration": 6,
    "start_time": "2022-10-12T10:35:17.721Z"
   },
   {
    "duration": 343,
    "start_time": "2022-10-12T10:35:42.449Z"
   },
   {
    "duration": 3,
    "start_time": "2022-10-12T10:35:47.354Z"
   },
   {
    "duration": 24,
    "start_time": "2022-10-12T10:36:01.098Z"
   },
   {
    "duration": 14,
    "start_time": "2022-10-12T10:57:28.656Z"
   },
   {
    "duration": 9,
    "start_time": "2022-10-12T11:00:53.353Z"
   },
   {
    "duration": 4,
    "start_time": "2022-10-12T11:01:06.542Z"
   },
   {
    "duration": 4,
    "start_time": "2022-10-12T11:02:24.204Z"
   },
   {
    "duration": 29,
    "start_time": "2022-10-12T11:02:36.553Z"
   },
   {
    "duration": 5,
    "start_time": "2022-10-12T11:02:46.308Z"
   },
   {
    "duration": 31,
    "start_time": "2022-10-12T11:02:47.918Z"
   },
   {
    "duration": 6,
    "start_time": "2022-10-12T11:02:55.809Z"
   },
   {
    "duration": 31,
    "start_time": "2022-10-12T11:02:57.293Z"
   },
   {
    "duration": 5,
    "start_time": "2022-10-12T11:03:19.151Z"
   },
   {
    "duration": 28,
    "start_time": "2022-10-12T11:03:20.898Z"
   },
   {
    "duration": 16,
    "start_time": "2022-10-12T11:04:29.192Z"
   },
   {
    "duration": 5,
    "start_time": "2022-10-12T11:04:38.209Z"
   },
   {
    "duration": 25,
    "start_time": "2022-10-12T11:04:39.128Z"
   },
   {
    "duration": 5,
    "start_time": "2022-10-12T11:06:17.019Z"
   },
   {
    "duration": 23,
    "start_time": "2022-10-12T11:06:18.255Z"
   },
   {
    "duration": 4,
    "start_time": "2022-10-12T11:06:42.901Z"
   },
   {
    "duration": 23,
    "start_time": "2022-10-12T11:06:43.072Z"
   },
   {
    "duration": 23,
    "start_time": "2022-10-12T11:06:50.631Z"
   },
   {
    "duration": 15,
    "start_time": "2022-10-12T11:08:52.114Z"
   },
   {
    "duration": 7,
    "start_time": "2022-10-12T11:10:18.376Z"
   },
   {
    "duration": 5,
    "start_time": "2022-10-12T11:10:28.411Z"
   },
   {
    "duration": 14,
    "start_time": "2022-10-12T11:10:30.561Z"
   },
   {
    "duration": 24,
    "start_time": "2022-10-12T11:10:42.236Z"
   },
   {
    "duration": 4,
    "start_time": "2022-10-12T11:16:25.198Z"
   },
   {
    "duration": 101,
    "start_time": "2022-10-12T11:16:25.204Z"
   },
   {
    "duration": 14,
    "start_time": "2022-10-12T11:16:25.307Z"
   },
   {
    "duration": 22,
    "start_time": "2022-10-12T11:16:25.323Z"
   },
   {
    "duration": 1826,
    "start_time": "2022-10-12T11:16:25.347Z"
   },
   {
    "duration": 13,
    "start_time": "2022-10-12T11:16:27.175Z"
   },
   {
    "duration": 27,
    "start_time": "2022-10-12T11:16:27.190Z"
   },
   {
    "duration": 7,
    "start_time": "2022-10-12T11:16:27.218Z"
   },
   {
    "duration": 14,
    "start_time": "2022-10-12T11:16:27.227Z"
   },
   {
    "duration": 21,
    "start_time": "2022-10-12T11:16:27.242Z"
   },
   {
    "duration": 87,
    "start_time": "2022-10-12T11:16:27.265Z"
   },
   {
    "duration": 6,
    "start_time": "2022-10-12T11:16:27.354Z"
   },
   {
    "duration": 26,
    "start_time": "2022-10-12T11:16:27.361Z"
   },
   {
    "duration": 2,
    "start_time": "2022-10-12T11:16:27.389Z"
   },
   {
    "duration": 5,
    "start_time": "2022-10-12T11:16:27.409Z"
   },
   {
    "duration": 11,
    "start_time": "2022-10-12T11:16:27.416Z"
   },
   {
    "duration": 12,
    "start_time": "2022-10-12T11:16:27.429Z"
   },
   {
    "duration": 11,
    "start_time": "2022-10-12T11:16:27.442Z"
   },
   {
    "duration": 357,
    "start_time": "2022-10-12T11:16:27.454Z"
   },
   {
    "duration": 5,
    "start_time": "2022-10-12T11:16:27.813Z"
   },
   {
    "duration": 30,
    "start_time": "2022-10-12T11:16:27.820Z"
   },
   {
    "duration": 16,
    "start_time": "2022-10-12T11:19:21.228Z"
   },
   {
    "duration": 13,
    "start_time": "2022-10-12T11:19:21.677Z"
   },
   {
    "duration": 8,
    "start_time": "2022-10-12T11:19:23.479Z"
   },
   {
    "duration": 16,
    "start_time": "2022-10-12T11:19:23.761Z"
   },
   {
    "duration": 2,
    "start_time": "2022-10-12T11:19:30.092Z"
   },
   {
    "duration": 94,
    "start_time": "2022-10-12T11:19:30.096Z"
   },
   {
    "duration": 13,
    "start_time": "2022-10-12T11:19:30.192Z"
   },
   {
    "duration": 22,
    "start_time": "2022-10-12T11:19:30.206Z"
   },
   {
    "duration": 1829,
    "start_time": "2022-10-12T11:19:30.230Z"
   },
   {
    "duration": 15,
    "start_time": "2022-10-12T11:19:32.061Z"
   },
   {
    "duration": 12,
    "start_time": "2022-10-12T11:19:32.078Z"
   },
   {
    "duration": 25,
    "start_time": "2022-10-12T11:19:32.091Z"
   },
   {
    "duration": 13,
    "start_time": "2022-10-12T11:19:32.117Z"
   },
   {
    "duration": 18,
    "start_time": "2022-10-12T11:19:32.132Z"
   },
   {
    "duration": 74,
    "start_time": "2022-10-12T11:19:32.152Z"
   },
   {
    "duration": 7,
    "start_time": "2022-10-12T11:19:32.227Z"
   },
   {
    "duration": 23,
    "start_time": "2022-10-12T11:19:32.236Z"
   },
   {
    "duration": 2,
    "start_time": "2022-10-12T11:19:32.263Z"
   },
   {
    "duration": 11,
    "start_time": "2022-10-12T11:19:32.267Z"
   },
   {
    "duration": 6,
    "start_time": "2022-10-12T11:19:32.280Z"
   },
   {
    "duration": 25,
    "start_time": "2022-10-12T11:19:32.287Z"
   },
   {
    "duration": 6,
    "start_time": "2022-10-12T11:19:32.314Z"
   },
   {
    "duration": 296,
    "start_time": "2022-10-12T11:19:32.321Z"
   },
   {
    "duration": 7,
    "start_time": "2022-10-12T11:19:32.619Z"
   },
   {
    "duration": 36,
    "start_time": "2022-10-12T11:19:32.628Z"
   },
   {
    "duration": 13,
    "start_time": "2022-10-12T11:19:41.870Z"
   },
   {
    "duration": 43,
    "start_time": "2022-10-12T11:20:35.485Z"
   },
   {
    "duration": 17,
    "start_time": "2022-10-12T11:22:14.000Z"
   },
   {
    "duration": 14,
    "start_time": "2022-10-12T11:22:14.291Z"
   },
   {
    "duration": 9,
    "start_time": "2022-10-12T11:22:14.704Z"
   },
   {
    "duration": 14,
    "start_time": "2022-10-12T11:22:15.161Z"
   },
   {
    "duration": 22,
    "start_time": "2022-10-12T11:22:15.321Z"
   },
   {
    "duration": 49,
    "start_time": "2022-10-12T11:22:15.470Z"
   },
   {
    "duration": 6,
    "start_time": "2022-10-12T11:22:15.640Z"
   },
   {
    "duration": 21,
    "start_time": "2022-10-12T11:22:15.826Z"
   },
   {
    "duration": 2,
    "start_time": "2022-10-12T11:22:16.115Z"
   },
   {
    "duration": 4,
    "start_time": "2022-10-12T11:22:16.261Z"
   },
   {
    "duration": 3,
    "start_time": "2022-10-12T11:22:20.141Z"
   },
   {
    "duration": 87,
    "start_time": "2022-10-12T11:22:20.146Z"
   },
   {
    "duration": 13,
    "start_time": "2022-10-12T11:22:20.234Z"
   },
   {
    "duration": 22,
    "start_time": "2022-10-12T11:22:20.249Z"
   },
   {
    "duration": 1892,
    "start_time": "2022-10-12T11:22:20.273Z"
   },
   {
    "duration": 14,
    "start_time": "2022-10-12T11:22:22.166Z"
   },
   {
    "duration": 28,
    "start_time": "2022-10-12T11:22:22.181Z"
   },
   {
    "duration": 7,
    "start_time": "2022-10-12T11:22:22.211Z"
   },
   {
    "duration": 12,
    "start_time": "2022-10-12T11:22:22.220Z"
   },
   {
    "duration": 16,
    "start_time": "2022-10-12T11:22:22.234Z"
   },
   {
    "duration": 81,
    "start_time": "2022-10-12T11:22:22.252Z"
   },
   {
    "duration": 6,
    "start_time": "2022-10-12T11:22:22.334Z"
   },
   {
    "duration": 25,
    "start_time": "2022-10-12T11:22:22.341Z"
   },
   {
    "duration": 2,
    "start_time": "2022-10-12T11:22:22.368Z"
   },
   {
    "duration": 12,
    "start_time": "2022-10-12T11:22:22.372Z"
   },
   {
    "duration": 23,
    "start_time": "2022-10-12T11:22:22.386Z"
   },
   {
    "duration": 5,
    "start_time": "2022-10-12T11:22:22.410Z"
   },
   {
    "duration": 23,
    "start_time": "2022-10-12T11:22:22.416Z"
   },
   {
    "duration": 299,
    "start_time": "2022-10-12T11:22:22.440Z"
   },
   {
    "duration": 5,
    "start_time": "2022-10-12T11:22:22.741Z"
   },
   {
    "duration": 44,
    "start_time": "2022-10-12T11:22:22.747Z"
   },
   {
    "duration": 21,
    "start_time": "2022-10-12T11:22:28.517Z"
   },
   {
    "duration": 97,
    "start_time": "2022-10-12T12:56:09.433Z"
   },
   {
    "duration": 448,
    "start_time": "2022-10-12T12:56:34.955Z"
   },
   {
    "duration": 204,
    "start_time": "2022-10-12T12:57:02.724Z"
   },
   {
    "duration": 42,
    "start_time": "2022-10-12T13:00:26.455Z"
   },
   {
    "duration": 8,
    "start_time": "2022-10-12T13:00:53.183Z"
   },
   {
    "duration": 8,
    "start_time": "2022-10-12T13:00:59.594Z"
   },
   {
    "duration": 9,
    "start_time": "2022-10-12T13:01:40.490Z"
   },
   {
    "duration": 137,
    "start_time": "2022-10-12T13:01:50.907Z"
   },
   {
    "duration": 137,
    "start_time": "2022-10-12T13:03:02.718Z"
   },
   {
    "duration": 123,
    "start_time": "2022-10-12T13:03:19.432Z"
   },
   {
    "duration": 283,
    "start_time": "2022-10-12T13:03:26.481Z"
   },
   {
    "duration": 166,
    "start_time": "2022-10-12T13:03:35.546Z"
   },
   {
    "duration": 243,
    "start_time": "2022-10-12T13:04:25.509Z"
   },
   {
    "duration": 84,
    "start_time": "2022-10-12T13:05:15.839Z"
   },
   {
    "duration": 275,
    "start_time": "2022-10-12T13:05:25.265Z"
   },
   {
    "duration": 259,
    "start_time": "2022-10-12T13:05:48.207Z"
   },
   {
    "duration": 191,
    "start_time": "2022-10-12T13:07:40.221Z"
   },
   {
    "duration": 189,
    "start_time": "2022-10-12T13:07:51.078Z"
   },
   {
    "duration": 191,
    "start_time": "2022-10-12T13:08:30.453Z"
   },
   {
    "duration": 218,
    "start_time": "2022-10-12T13:09:06.576Z"
   },
   {
    "duration": 240,
    "start_time": "2022-10-12T13:09:18.217Z"
   },
   {
    "duration": 1571,
    "start_time": "2022-10-12T13:09:32.555Z"
   },
   {
    "duration": 422,
    "start_time": "2022-10-12T13:10:05.469Z"
   },
   {
    "duration": 245,
    "start_time": "2022-10-12T13:11:49.004Z"
   },
   {
    "duration": 333,
    "start_time": "2022-10-12T13:12:34.976Z"
   },
   {
    "duration": 256,
    "start_time": "2022-10-12T13:12:50.650Z"
   },
   {
    "duration": 268,
    "start_time": "2022-10-12T13:13:06.285Z"
   },
   {
    "duration": 258,
    "start_time": "2022-10-12T13:13:16.973Z"
   },
   {
    "duration": 223,
    "start_time": "2022-10-12T13:13:25.264Z"
   },
   {
    "duration": 68,
    "start_time": "2022-10-12T13:13:30.748Z"
   },
   {
    "duration": 207,
    "start_time": "2022-10-12T13:13:49.596Z"
   },
   {
    "duration": 259,
    "start_time": "2022-10-12T13:15:30.909Z"
   },
   {
    "duration": 266,
    "start_time": "2022-10-12T13:15:45.020Z"
   },
   {
    "duration": 256,
    "start_time": "2022-10-12T13:15:53.734Z"
   },
   {
    "duration": 469,
    "start_time": "2022-10-12T13:16:19.186Z"
   },
   {
    "duration": 268,
    "start_time": "2022-10-12T13:16:22.906Z"
   },
   {
    "duration": 253,
    "start_time": "2022-10-12T13:16:54.748Z"
   },
   {
    "duration": 270,
    "start_time": "2022-10-12T13:17:01.900Z"
   },
   {
    "duration": 253,
    "start_time": "2022-10-12T13:17:16.742Z"
   },
   {
    "duration": 263,
    "start_time": "2022-10-12T13:17:24.621Z"
   },
   {
    "duration": 290,
    "start_time": "2022-10-12T13:19:52.902Z"
   },
   {
    "duration": 274,
    "start_time": "2022-10-12T13:20:02.108Z"
   },
   {
    "duration": 248,
    "start_time": "2022-10-12T13:21:10.847Z"
   },
   {
    "duration": 270,
    "start_time": "2022-10-12T13:21:23.451Z"
   },
   {
    "duration": 170,
    "start_time": "2022-10-12T13:21:30.791Z"
   },
   {
    "duration": 176,
    "start_time": "2022-10-12T13:22:27.424Z"
   },
   {
    "duration": 161,
    "start_time": "2022-10-12T13:22:37.757Z"
   },
   {
    "duration": 168,
    "start_time": "2022-10-12T13:22:45.653Z"
   },
   {
    "duration": 261,
    "start_time": "2022-10-12T13:22:54.384Z"
   },
   {
    "duration": 17,
    "start_time": "2022-10-12T13:23:53.152Z"
   },
   {
    "duration": 23,
    "start_time": "2022-10-12T13:29:06.500Z"
   },
   {
    "duration": 218,
    "start_time": "2022-10-12T13:29:25.012Z"
   },
   {
    "duration": 452,
    "start_time": "2022-10-12T13:29:34.731Z"
   },
   {
    "duration": 237,
    "start_time": "2022-10-12T13:30:02.007Z"
   },
   {
    "duration": 1021,
    "start_time": "2022-10-12T13:31:33.265Z"
   },
   {
    "duration": 223,
    "start_time": "2022-10-12T13:31:51.358Z"
   },
   {
    "duration": 211,
    "start_time": "2022-10-12T13:31:59.701Z"
   },
   {
    "duration": 216,
    "start_time": "2022-10-12T13:33:23.901Z"
   },
   {
    "duration": 225,
    "start_time": "2022-10-12T13:33:30.148Z"
   },
   {
    "duration": 206,
    "start_time": "2022-10-12T13:33:43.563Z"
   },
   {
    "duration": 220,
    "start_time": "2022-10-12T13:33:49.707Z"
   },
   {
    "duration": 218,
    "start_time": "2022-10-12T13:33:56.182Z"
   },
   {
    "duration": 210,
    "start_time": "2022-10-12T13:34:16.865Z"
   },
   {
    "duration": 215,
    "start_time": "2022-10-12T13:34:31.383Z"
   },
   {
    "duration": 206,
    "start_time": "2022-10-12T13:37:09.182Z"
   },
   {
    "duration": 221,
    "start_time": "2022-10-12T13:37:15.584Z"
   },
   {
    "duration": 209,
    "start_time": "2022-10-12T13:37:23.827Z"
   },
   {
    "duration": 215,
    "start_time": "2022-10-12T13:37:27.652Z"
   },
   {
    "duration": 232,
    "start_time": "2022-10-12T13:38:47.384Z"
   },
   {
    "duration": 210,
    "start_time": "2022-10-12T13:38:56.621Z"
   },
   {
    "duration": 195,
    "start_time": "2022-10-12T13:39:02.296Z"
   },
   {
    "duration": 194,
    "start_time": "2022-10-12T13:39:07.315Z"
   },
   {
    "duration": 248,
    "start_time": "2022-10-12T13:39:14.520Z"
   },
   {
    "duration": 246,
    "start_time": "2022-10-12T13:39:19.295Z"
   },
   {
    "duration": 535,
    "start_time": "2022-10-12T13:39:26.036Z"
   },
   {
    "duration": 224,
    "start_time": "2022-10-12T13:41:53.122Z"
   },
   {
    "duration": 230,
    "start_time": "2022-10-12T13:42:00.439Z"
   },
   {
    "duration": 292,
    "start_time": "2022-10-12T13:42:34.426Z"
   },
   {
    "duration": 47,
    "start_time": "2022-10-13T08:53:10.133Z"
   },
   {
    "duration": 443,
    "start_time": "2022-10-13T08:53:15.022Z"
   },
   {
    "duration": 126,
    "start_time": "2022-10-13T08:53:15.469Z"
   },
   {
    "duration": 16,
    "start_time": "2022-10-13T08:53:15.596Z"
   },
   {
    "duration": 34,
    "start_time": "2022-10-13T08:53:15.614Z"
   },
   {
    "duration": 2766,
    "start_time": "2022-10-13T08:53:15.651Z"
   },
   {
    "duration": 21,
    "start_time": "2022-10-13T08:53:18.419Z"
   },
   {
    "duration": 15,
    "start_time": "2022-10-13T08:53:18.442Z"
   },
   {
    "duration": 10,
    "start_time": "2022-10-13T08:53:18.459Z"
   },
   {
    "duration": 21,
    "start_time": "2022-10-13T08:53:18.471Z"
   },
   {
    "duration": 40,
    "start_time": "2022-10-13T08:53:18.494Z"
   },
   {
    "duration": 53,
    "start_time": "2022-10-13T08:53:18.536Z"
   },
   {
    "duration": 7,
    "start_time": "2022-10-13T08:53:18.591Z"
   },
   {
    "duration": 43,
    "start_time": "2022-10-13T08:53:18.600Z"
   },
   {
    "duration": 3,
    "start_time": "2022-10-13T08:53:18.647Z"
   },
   {
    "duration": 7,
    "start_time": "2022-10-13T08:53:18.651Z"
   },
   {
    "duration": 8,
    "start_time": "2022-10-13T08:53:18.659Z"
   },
   {
    "duration": 6,
    "start_time": "2022-10-13T08:53:18.669Z"
   },
   {
    "duration": 20,
    "start_time": "2022-10-13T08:53:18.689Z"
   },
   {
    "duration": 287,
    "start_time": "2022-10-13T08:53:18.711Z"
   },
   {
    "duration": 6,
    "start_time": "2022-10-13T08:53:18.999Z"
   },
   {
    "duration": 39,
    "start_time": "2022-10-13T08:53:19.007Z"
   },
   {
    "duration": 248,
    "start_time": "2022-10-13T08:53:19.047Z"
   },
   {
    "duration": 365,
    "start_time": "2022-10-13T08:53:19.297Z"
   },
   {
    "duration": 305,
    "start_time": "2022-10-13T08:53:19.663Z"
   },
   {
    "duration": 322,
    "start_time": "2022-10-13T08:53:19.969Z"
   },
   {
    "duration": 299,
    "start_time": "2022-10-13T08:53:20.293Z"
   },
   {
    "duration": 197,
    "start_time": "2022-10-13T08:53:20.594Z"
   },
   {
    "duration": 234,
    "start_time": "2022-10-13T08:53:20.793Z"
   },
   {
    "duration": 352,
    "start_time": "2022-10-13T08:53:21.029Z"
   },
   {
    "duration": 252,
    "start_time": "2022-10-13T08:53:21.383Z"
   },
   {
    "duration": 230,
    "start_time": "2022-10-13T08:53:21.636Z"
   },
   {
    "duration": 241,
    "start_time": "2022-10-13T08:53:21.867Z"
   },
   {
    "duration": 245,
    "start_time": "2022-10-13T08:53:22.109Z"
   },
   {
    "duration": 246,
    "start_time": "2022-10-13T08:53:22.355Z"
   },
   {
    "duration": 338,
    "start_time": "2022-10-13T08:53:22.602Z"
   },
   {
    "duration": 170,
    "start_time": "2022-10-13T08:53:22.942Z"
   },
   {
    "duration": 197,
    "start_time": "2022-10-13T08:53:56.093Z"
   },
   {
    "duration": 225,
    "start_time": "2022-10-13T08:54:21.103Z"
   },
   {
    "duration": 222,
    "start_time": "2022-10-13T08:54:25.704Z"
   },
   {
    "duration": 236,
    "start_time": "2022-10-13T08:56:55.006Z"
   },
   {
    "duration": 269,
    "start_time": "2022-10-13T08:58:28.654Z"
   },
   {
    "duration": 245,
    "start_time": "2022-10-13T08:59:15.906Z"
   },
   {
    "duration": 381,
    "start_time": "2022-10-13T08:59:40.705Z"
   },
   {
    "duration": 241,
    "start_time": "2022-10-13T08:59:46.595Z"
   },
   {
    "duration": 241,
    "start_time": "2022-10-13T08:59:55.886Z"
   },
   {
    "duration": 269,
    "start_time": "2022-10-13T09:00:06.527Z"
   },
   {
    "duration": 243,
    "start_time": "2022-10-13T09:00:12.166Z"
   },
   {
    "duration": 126,
    "start_time": "2022-10-13T09:00:51.545Z"
   },
   {
    "duration": 250,
    "start_time": "2022-10-13T09:00:57.004Z"
   },
   {
    "duration": 1457,
    "start_time": "2022-10-13T09:01:58.576Z"
   },
   {
    "duration": 439,
    "start_time": "2022-10-13T09:02:34.130Z"
   },
   {
    "duration": 39,
    "start_time": "2022-10-13T09:05:08.359Z"
   },
   {
    "duration": 251,
    "start_time": "2022-10-13T09:10:54.128Z"
   },
   {
    "duration": 23,
    "start_time": "2022-10-13T09:21:50.027Z"
   },
   {
    "duration": 72,
    "start_time": "2022-10-13T09:24:27.521Z"
   },
   {
    "duration": 11,
    "start_time": "2022-10-13T09:38:39.552Z"
   },
   {
    "duration": 9,
    "start_time": "2022-10-13T09:38:57.081Z"
   },
   {
    "duration": 16,
    "start_time": "2022-10-13T09:39:13.177Z"
   },
   {
    "duration": 13,
    "start_time": "2022-10-13T09:39:26.426Z"
   },
   {
    "duration": 17,
    "start_time": "2022-10-13T09:40:45.848Z"
   },
   {
    "duration": 6,
    "start_time": "2022-10-13T09:41:04.244Z"
   },
   {
    "duration": 11,
    "start_time": "2022-10-13T09:41:16.960Z"
   },
   {
    "duration": 2,
    "start_time": "2022-10-13T09:41:24.802Z"
   },
   {
    "duration": 92,
    "start_time": "2022-10-13T09:41:24.806Z"
   },
   {
    "duration": 14,
    "start_time": "2022-10-13T09:41:24.899Z"
   },
   {
    "duration": 28,
    "start_time": "2022-10-13T09:41:24.915Z"
   },
   {
    "duration": 2150,
    "start_time": "2022-10-13T09:41:24.945Z"
   },
   {
    "duration": 13,
    "start_time": "2022-10-13T09:41:27.097Z"
   },
   {
    "duration": 22,
    "start_time": "2022-10-13T09:41:27.112Z"
   },
   {
    "duration": 6,
    "start_time": "2022-10-13T09:41:27.136Z"
   },
   {
    "duration": 17,
    "start_time": "2022-10-13T09:41:27.144Z"
   },
   {
    "duration": 19,
    "start_time": "2022-10-13T09:41:27.163Z"
   },
   {
    "duration": 74,
    "start_time": "2022-10-13T09:41:27.183Z"
   },
   {
    "duration": 6,
    "start_time": "2022-10-13T09:41:27.258Z"
   },
   {
    "duration": 28,
    "start_time": "2022-10-13T09:41:27.265Z"
   },
   {
    "duration": 2,
    "start_time": "2022-10-13T09:41:27.296Z"
   },
   {
    "duration": 8,
    "start_time": "2022-10-13T09:41:27.299Z"
   },
   {
    "duration": 25,
    "start_time": "2022-10-13T09:41:27.309Z"
   },
   {
    "duration": 5,
    "start_time": "2022-10-13T09:41:27.336Z"
   },
   {
    "duration": 9,
    "start_time": "2022-10-13T09:41:27.342Z"
   },
   {
    "duration": 278,
    "start_time": "2022-10-13T09:41:27.353Z"
   },
   {
    "duration": 5,
    "start_time": "2022-10-13T09:41:27.633Z"
   },
   {
    "duration": 26,
    "start_time": "2022-10-13T09:41:27.640Z"
   },
   {
    "duration": 252,
    "start_time": "2022-10-13T09:41:27.668Z"
   },
   {
    "duration": 313,
    "start_time": "2022-10-13T09:41:27.922Z"
   },
   {
    "duration": 286,
    "start_time": "2022-10-13T09:41:28.237Z"
   },
   {
    "duration": 503,
    "start_time": "2022-10-13T09:41:28.524Z"
   },
   {
    "duration": 293,
    "start_time": "2022-10-13T09:41:29.028Z"
   },
   {
    "duration": 196,
    "start_time": "2022-10-13T09:41:29.323Z"
   },
   {
    "duration": 261,
    "start_time": "2022-10-13T09:41:29.521Z"
   },
   {
    "duration": 268,
    "start_time": "2022-10-13T09:41:29.784Z"
   },
   {
    "duration": 248,
    "start_time": "2022-10-13T09:41:30.054Z"
   },
   {
    "duration": 253,
    "start_time": "2022-10-13T09:41:30.303Z"
   },
   {
    "duration": 282,
    "start_time": "2022-10-13T09:41:30.557Z"
   },
   {
    "duration": 254,
    "start_time": "2022-10-13T09:41:30.841Z"
   },
   {
    "duration": 242,
    "start_time": "2022-10-13T09:41:31.097Z"
   },
   {
    "duration": 243,
    "start_time": "2022-10-13T09:41:31.340Z"
   },
   {
    "duration": 260,
    "start_time": "2022-10-13T09:41:31.586Z"
   },
   {
    "duration": 2,
    "start_time": "2022-10-13T09:41:31.848Z"
   },
   {
    "duration": 30,
    "start_time": "2022-10-13T09:41:31.851Z"
   },
   {
    "duration": 12,
    "start_time": "2022-10-13T09:41:31.883Z"
   },
   {
    "duration": 18,
    "start_time": "2022-10-13T09:41:44.876Z"
   },
   {
    "duration": 16,
    "start_time": "2022-10-13T09:43:16.778Z"
   },
   {
    "duration": 14,
    "start_time": "2022-10-13T09:52:42.740Z"
   },
   {
    "duration": 3,
    "start_time": "2022-10-13T09:58:21.284Z"
   },
   {
    "duration": 9,
    "start_time": "2022-10-13T09:58:28.940Z"
   },
   {
    "duration": 16,
    "start_time": "2022-10-13T09:59:04.428Z"
   },
   {
    "duration": 4,
    "start_time": "2022-10-13T10:00:02.092Z"
   },
   {
    "duration": 14,
    "start_time": "2022-10-13T10:00:08.858Z"
   },
   {
    "duration": 23,
    "start_time": "2022-10-13T10:03:50.128Z"
   },
   {
    "duration": 5,
    "start_time": "2022-10-13T10:04:00.387Z"
   },
   {
    "duration": 6,
    "start_time": "2022-10-13T10:05:36.349Z"
   },
   {
    "duration": 199,
    "start_time": "2022-10-13T10:12:46.588Z"
   },
   {
    "duration": 4,
    "start_time": "2022-10-13T10:18:58.359Z"
   },
   {
    "duration": 102,
    "start_time": "2022-10-13T10:19:02.854Z"
   },
   {
    "duration": 11,
    "start_time": "2022-10-13T10:19:12.226Z"
   },
   {
    "duration": 0,
    "start_time": "2022-10-13T10:19:13.412Z"
   },
   {
    "duration": 0,
    "start_time": "2022-10-13T10:19:13.413Z"
   },
   {
    "duration": 0,
    "start_time": "2022-10-13T10:19:13.416Z"
   },
   {
    "duration": 0,
    "start_time": "2022-10-13T10:19:13.419Z"
   },
   {
    "duration": 0,
    "start_time": "2022-10-13T10:19:13.422Z"
   },
   {
    "duration": 0,
    "start_time": "2022-10-13T10:19:13.424Z"
   },
   {
    "duration": 0,
    "start_time": "2022-10-13T10:19:13.428Z"
   },
   {
    "duration": 0,
    "start_time": "2022-10-13T10:19:13.430Z"
   },
   {
    "duration": 0,
    "start_time": "2022-10-13T10:19:13.431Z"
   },
   {
    "duration": 0,
    "start_time": "2022-10-13T10:19:13.433Z"
   },
   {
    "duration": 0,
    "start_time": "2022-10-13T10:19:13.434Z"
   },
   {
    "duration": 0,
    "start_time": "2022-10-13T10:19:13.436Z"
   },
   {
    "duration": 0,
    "start_time": "2022-10-13T10:19:13.437Z"
   },
   {
    "duration": 0,
    "start_time": "2022-10-13T10:19:13.438Z"
   },
   {
    "duration": 0,
    "start_time": "2022-10-13T10:19:13.439Z"
   },
   {
    "duration": 0,
    "start_time": "2022-10-13T10:19:13.440Z"
   },
   {
    "duration": 0,
    "start_time": "2022-10-13T10:19:13.441Z"
   },
   {
    "duration": 0,
    "start_time": "2022-10-13T10:19:13.442Z"
   },
   {
    "duration": 0,
    "start_time": "2022-10-13T10:19:13.443Z"
   },
   {
    "duration": 0,
    "start_time": "2022-10-13T10:19:13.444Z"
   },
   {
    "duration": 0,
    "start_time": "2022-10-13T10:19:13.445Z"
   },
   {
    "duration": 0,
    "start_time": "2022-10-13T10:19:13.446Z"
   },
   {
    "duration": 0,
    "start_time": "2022-10-13T10:19:13.447Z"
   },
   {
    "duration": 0,
    "start_time": "2022-10-13T10:19:13.448Z"
   },
   {
    "duration": 0,
    "start_time": "2022-10-13T10:19:13.448Z"
   },
   {
    "duration": 0,
    "start_time": "2022-10-13T10:19:13.449Z"
   },
   {
    "duration": 0,
    "start_time": "2022-10-13T10:19:13.450Z"
   },
   {
    "duration": 0,
    "start_time": "2022-10-13T10:19:13.451Z"
   },
   {
    "duration": 0,
    "start_time": "2022-10-13T10:19:13.452Z"
   },
   {
    "duration": 0,
    "start_time": "2022-10-13T10:19:13.454Z"
   },
   {
    "duration": 0,
    "start_time": "2022-10-13T10:19:13.455Z"
   },
   {
    "duration": 0,
    "start_time": "2022-10-13T10:19:13.456Z"
   },
   {
    "duration": 0,
    "start_time": "2022-10-13T10:19:13.456Z"
   },
   {
    "duration": 0,
    "start_time": "2022-10-13T10:19:13.458Z"
   },
   {
    "duration": 0,
    "start_time": "2022-10-13T10:19:13.458Z"
   },
   {
    "duration": 0,
    "start_time": "2022-10-13T10:19:13.459Z"
   },
   {
    "duration": 0,
    "start_time": "2022-10-13T10:19:13.460Z"
   },
   {
    "duration": 0,
    "start_time": "2022-10-13T10:19:13.461Z"
   },
   {
    "duration": 3,
    "start_time": "2022-10-13T10:19:22.759Z"
   },
   {
    "duration": 89,
    "start_time": "2022-10-13T10:19:22.763Z"
   },
   {
    "duration": 15,
    "start_time": "2022-10-13T10:19:22.853Z"
   },
   {
    "duration": 25,
    "start_time": "2022-10-13T10:19:22.869Z"
   },
   {
    "duration": 1887,
    "start_time": "2022-10-13T10:19:22.896Z"
   },
   {
    "duration": 13,
    "start_time": "2022-10-13T10:19:24.785Z"
   },
   {
    "duration": 13,
    "start_time": "2022-10-13T10:19:24.800Z"
   },
   {
    "duration": 21,
    "start_time": "2022-10-13T10:19:24.815Z"
   },
   {
    "duration": 17,
    "start_time": "2022-10-13T10:19:24.839Z"
   },
   {
    "duration": 22,
    "start_time": "2022-10-13T10:19:24.859Z"
   },
   {
    "duration": 77,
    "start_time": "2022-10-13T10:19:24.882Z"
   },
   {
    "duration": 7,
    "start_time": "2022-10-13T10:19:24.961Z"
   },
   {
    "duration": 31,
    "start_time": "2022-10-13T10:19:24.969Z"
   },
   {
    "duration": 2,
    "start_time": "2022-10-13T10:19:25.002Z"
   },
   {
    "duration": 10,
    "start_time": "2022-10-13T10:19:25.006Z"
   },
   {
    "duration": 7,
    "start_time": "2022-10-13T10:19:25.032Z"
   },
   {
    "duration": 13,
    "start_time": "2022-10-13T10:19:25.041Z"
   },
   {
    "duration": 7,
    "start_time": "2022-10-13T10:19:25.056Z"
   },
   {
    "duration": 291,
    "start_time": "2022-10-13T10:19:25.065Z"
   },
   {
    "duration": 5,
    "start_time": "2022-10-13T10:19:25.358Z"
   },
   {
    "duration": 30,
    "start_time": "2022-10-13T10:19:25.364Z"
   },
   {
    "duration": 244,
    "start_time": "2022-10-13T10:19:25.395Z"
   },
   {
    "duration": 283,
    "start_time": "2022-10-13T10:19:25.641Z"
   },
   {
    "duration": 1857,
    "start_time": "2022-10-13T10:19:25.927Z"
   },
   {
    "duration": 304,
    "start_time": "2022-10-13T10:19:27.785Z"
   },
   {
    "duration": 301,
    "start_time": "2022-10-13T10:19:28.091Z"
   },
   {
    "duration": 209,
    "start_time": "2022-10-13T10:19:28.393Z"
   },
   {
    "duration": 256,
    "start_time": "2022-10-13T10:19:28.604Z"
   },
   {
    "duration": 255,
    "start_time": "2022-10-13T10:19:28.861Z"
   },
   {
    "duration": 251,
    "start_time": "2022-10-13T10:19:29.118Z"
   },
   {
    "duration": 232,
    "start_time": "2022-10-13T10:19:29.371Z"
   },
   {
    "duration": 280,
    "start_time": "2022-10-13T10:19:29.605Z"
   },
   {
    "duration": 236,
    "start_time": "2022-10-13T10:19:29.887Z"
   },
   {
    "duration": 257,
    "start_time": "2022-10-13T10:19:30.125Z"
   },
   {
    "duration": 242,
    "start_time": "2022-10-13T10:19:30.384Z"
   },
   {
    "duration": 262,
    "start_time": "2022-10-13T10:19:30.632Z"
   },
   {
    "duration": 3,
    "start_time": "2022-10-13T10:19:30.895Z"
   },
   {
    "duration": 1673,
    "start_time": "2022-10-13T10:19:30.900Z"
   },
   {
    "duration": 0,
    "start_time": "2022-10-13T10:19:32.574Z"
   },
   {
    "duration": 206,
    "start_time": "2022-10-13T10:19:43.664Z"
   },
   {
    "duration": 189,
    "start_time": "2022-10-13T10:19:59.976Z"
   },
   {
    "duration": 169,
    "start_time": "2022-10-13T10:20:17.943Z"
   },
   {
    "duration": 171,
    "start_time": "2022-10-13T10:20:22.965Z"
   },
   {
    "duration": 174,
    "start_time": "2022-10-13T10:20:53.252Z"
   },
   {
    "duration": 169,
    "start_time": "2022-10-13T10:21:03.889Z"
   },
   {
    "duration": 216,
    "start_time": "2022-10-13T10:21:54.650Z"
   },
   {
    "duration": 242,
    "start_time": "2022-10-13T10:22:11.399Z"
   },
   {
    "duration": 278,
    "start_time": "2022-10-13T10:22:17.370Z"
   },
   {
    "duration": 210,
    "start_time": "2022-10-13T10:22:41.549Z"
   },
   {
    "duration": 213,
    "start_time": "2022-10-13T10:22:50.211Z"
   },
   {
    "duration": 210,
    "start_time": "2022-10-13T10:23:06.968Z"
   },
   {
    "duration": 194,
    "start_time": "2022-10-13T10:31:12.573Z"
   },
   {
    "duration": 203,
    "start_time": "2022-10-13T10:31:37.557Z"
   },
   {
    "duration": 182,
    "start_time": "2022-10-13T10:32:03.615Z"
   },
   {
    "duration": 180,
    "start_time": "2022-10-13T10:32:19.444Z"
   },
   {
    "duration": 179,
    "start_time": "2022-10-13T10:32:23.128Z"
   },
   {
    "duration": 196,
    "start_time": "2022-10-13T10:33:45.512Z"
   },
   {
    "duration": 175,
    "start_time": "2022-10-13T10:34:20.554Z"
   },
   {
    "duration": 180,
    "start_time": "2022-10-13T10:35:24.832Z"
   },
   {
    "duration": 254,
    "start_time": "2022-10-13T10:35:56.392Z"
   },
   {
    "duration": 201,
    "start_time": "2022-10-13T10:36:03.453Z"
   },
   {
    "duration": 493,
    "start_time": "2022-10-13T10:37:17.898Z"
   },
   {
    "duration": 215,
    "start_time": "2022-10-13T10:38:20.550Z"
   },
   {
    "duration": 201,
    "start_time": "2022-10-13T10:38:32.089Z"
   },
   {
    "duration": 185,
    "start_time": "2022-10-13T10:41:02.318Z"
   },
   {
    "duration": 180,
    "start_time": "2022-10-13T10:41:07.228Z"
   },
   {
    "duration": 212,
    "start_time": "2022-10-13T10:41:51.310Z"
   },
   {
    "duration": 190,
    "start_time": "2022-10-13T10:42:10.315Z"
   },
   {
    "duration": 2,
    "start_time": "2022-10-13T10:52:28.047Z"
   },
   {
    "duration": 3,
    "start_time": "2022-10-13T10:55:12.223Z"
   },
   {
    "duration": 5,
    "start_time": "2022-10-13T10:55:18.816Z"
   },
   {
    "duration": 3,
    "start_time": "2022-10-13T10:55:33.281Z"
   },
   {
    "duration": 3,
    "start_time": "2022-10-13T10:55:38.339Z"
   },
   {
    "duration": 3,
    "start_time": "2022-10-13T10:55:39.992Z"
   },
   {
    "duration": 87,
    "start_time": "2022-10-13T10:55:39.997Z"
   },
   {
    "duration": 14,
    "start_time": "2022-10-13T10:55:40.086Z"
   },
   {
    "duration": 36,
    "start_time": "2022-10-13T10:55:40.103Z"
   },
   {
    "duration": 1950,
    "start_time": "2022-10-13T10:55:40.141Z"
   },
   {
    "duration": 13,
    "start_time": "2022-10-13T10:55:42.093Z"
   },
   {
    "duration": 39,
    "start_time": "2022-10-13T10:55:42.107Z"
   },
   {
    "duration": 21,
    "start_time": "2022-10-13T10:55:42.148Z"
   },
   {
    "duration": 18,
    "start_time": "2022-10-13T10:55:42.170Z"
   },
   {
    "duration": 23,
    "start_time": "2022-10-13T10:55:42.190Z"
   },
   {
    "duration": 61,
    "start_time": "2022-10-13T10:55:42.215Z"
   },
   {
    "duration": 6,
    "start_time": "2022-10-13T10:55:42.278Z"
   },
   {
    "duration": 26,
    "start_time": "2022-10-13T10:55:42.285Z"
   },
   {
    "duration": 22,
    "start_time": "2022-10-13T10:55:42.312Z"
   },
   {
    "duration": 8,
    "start_time": "2022-10-13T10:55:42.336Z"
   },
   {
    "duration": 9,
    "start_time": "2022-10-13T10:55:42.345Z"
   },
   {
    "duration": 6,
    "start_time": "2022-10-13T10:55:42.356Z"
   },
   {
    "duration": 5,
    "start_time": "2022-10-13T10:55:42.363Z"
   },
   {
    "duration": 286,
    "start_time": "2022-10-13T10:55:42.370Z"
   },
   {
    "duration": 5,
    "start_time": "2022-10-13T10:55:42.658Z"
   },
   {
    "duration": 23,
    "start_time": "2022-10-13T10:55:42.665Z"
   },
   {
    "duration": 233,
    "start_time": "2022-10-13T10:55:42.690Z"
   },
   {
    "duration": 299,
    "start_time": "2022-10-13T10:55:42.925Z"
   },
   {
    "duration": 294,
    "start_time": "2022-10-13T10:55:43.226Z"
   },
   {
    "duration": 303,
    "start_time": "2022-10-13T10:55:43.522Z"
   },
   {
    "duration": 290,
    "start_time": "2022-10-13T10:55:43.827Z"
   },
   {
    "duration": 217,
    "start_time": "2022-10-13T10:55:44.119Z"
   },
   {
    "duration": 231,
    "start_time": "2022-10-13T10:55:44.339Z"
   },
   {
    "duration": 267,
    "start_time": "2022-10-13T10:55:44.572Z"
   },
   {
    "duration": 263,
    "start_time": "2022-10-13T10:55:44.841Z"
   },
   {
    "duration": 248,
    "start_time": "2022-10-13T10:55:45.106Z"
   },
   {
    "duration": 271,
    "start_time": "2022-10-13T10:55:45.355Z"
   },
   {
    "duration": 239,
    "start_time": "2022-10-13T10:55:45.628Z"
   },
   {
    "duration": 242,
    "start_time": "2022-10-13T10:55:45.869Z"
   },
   {
    "duration": 321,
    "start_time": "2022-10-13T10:55:46.113Z"
   },
   {
    "duration": 252,
    "start_time": "2022-10-13T10:55:46.436Z"
   },
   {
    "duration": 2,
    "start_time": "2022-10-13T10:55:46.690Z"
   },
   {
    "duration": 189,
    "start_time": "2022-10-13T10:55:46.694Z"
   },
   {
    "duration": 194,
    "start_time": "2022-10-13T10:55:46.885Z"
   },
   {
    "duration": 175,
    "start_time": "2022-10-13T10:55:47.081Z"
   },
   {
    "duration": 204,
    "start_time": "2022-10-13T10:55:47.258Z"
   },
   {
    "duration": 208,
    "start_time": "2022-10-13T10:55:47.463Z"
   },
   {
    "duration": 196,
    "start_time": "2022-10-13T10:55:47.673Z"
   },
   {
    "duration": 193,
    "start_time": "2022-10-13T10:55:47.870Z"
   },
   {
    "duration": 192,
    "start_time": "2022-10-13T10:55:48.065Z"
   },
   {
    "duration": 3,
    "start_time": "2022-10-13T10:55:48.258Z"
   },
   {
    "duration": 7,
    "start_time": "2022-10-13T10:55:48.262Z"
   },
   {
    "duration": 40,
    "start_time": "2022-10-13T10:57:59.651Z"
   },
   {
    "duration": 55,
    "start_time": "2022-10-13T10:58:06.430Z"
   },
   {
    "duration": 42,
    "start_time": "2022-10-13T10:59:07.087Z"
   },
   {
    "duration": 86,
    "start_time": "2022-10-13T10:59:41.751Z"
   },
   {
    "duration": 30,
    "start_time": "2022-10-13T11:00:09.793Z"
   },
   {
    "duration": 23,
    "start_time": "2022-10-13T11:00:16.654Z"
   },
   {
    "duration": 148,
    "start_time": "2022-10-13T11:14:16.228Z"
   },
   {
    "duration": 9,
    "start_time": "2022-10-13T11:14:26.156Z"
   },
   {
    "duration": 47,
    "start_time": "2022-10-13T11:14:34.198Z"
   },
   {
    "duration": 49,
    "start_time": "2022-10-13T11:16:43.849Z"
   },
   {
    "duration": 275,
    "start_time": "2022-10-13T11:17:09.217Z"
   },
   {
    "duration": 131,
    "start_time": "2022-10-13T11:17:16.993Z"
   },
   {
    "duration": 66,
    "start_time": "2022-10-13T11:17:22.041Z"
   },
   {
    "duration": 138,
    "start_time": "2022-10-13T11:17:59.966Z"
   },
   {
    "duration": 359,
    "start_time": "2022-10-13T11:18:07.625Z"
   },
   {
    "duration": 47,
    "start_time": "2022-10-13T11:18:28.292Z"
   },
   {
    "duration": 62,
    "start_time": "2022-10-13T11:18:44.010Z"
   },
   {
    "duration": 43,
    "start_time": "2022-10-13T11:18:57.557Z"
   },
   {
    "duration": 7,
    "start_time": "2022-10-13T11:19:42.652Z"
   },
   {
    "duration": 22,
    "start_time": "2022-10-13T11:22:48.948Z"
   },
   {
    "duration": 48,
    "start_time": "2022-10-13T11:23:04.980Z"
   },
   {
    "duration": 39,
    "start_time": "2022-10-13T11:23:37.307Z"
   },
   {
    "duration": 21,
    "start_time": "2022-10-13T11:24:40.471Z"
   },
   {
    "duration": 14,
    "start_time": "2022-10-13T11:27:43.398Z"
   },
   {
    "duration": 8,
    "start_time": "2022-10-13T11:30:28.192Z"
   },
   {
    "duration": 16,
    "start_time": "2022-10-13T11:31:47.259Z"
   },
   {
    "duration": 12,
    "start_time": "2022-10-13T11:32:08.606Z"
   },
   {
    "duration": 11,
    "start_time": "2022-10-13T11:32:28.015Z"
   },
   {
    "duration": 10,
    "start_time": "2022-10-13T11:33:08.637Z"
   },
   {
    "duration": 16,
    "start_time": "2022-10-13T11:33:08.967Z"
   },
   {
    "duration": 45,
    "start_time": "2022-10-13T11:39:03.781Z"
   },
   {
    "duration": 8,
    "start_time": "2022-10-13T11:39:15.133Z"
   },
   {
    "duration": 39,
    "start_time": "2022-10-13T11:39:20.288Z"
   },
   {
    "duration": 15,
    "start_time": "2022-10-13T11:41:34.911Z"
   },
   {
    "duration": 21,
    "start_time": "2022-10-13T11:41:55.986Z"
   },
   {
    "duration": 19,
    "start_time": "2022-10-13T11:42:22.092Z"
   },
   {
    "duration": 15,
    "start_time": "2022-10-13T11:44:29.684Z"
   },
   {
    "duration": 20,
    "start_time": "2022-10-13T11:44:36.031Z"
   },
   {
    "duration": 14,
    "start_time": "2022-10-13T11:45:01.042Z"
   },
   {
    "duration": 25,
    "start_time": "2022-10-13T11:45:11.262Z"
   },
   {
    "duration": 24,
    "start_time": "2022-10-13T11:45:17.306Z"
   },
   {
    "duration": 27,
    "start_time": "2022-10-13T11:45:27.556Z"
   },
   {
    "duration": 159,
    "start_time": "2022-10-13T11:46:18.193Z"
   },
   {
    "duration": 169,
    "start_time": "2022-10-13T11:46:30.376Z"
   },
   {
    "duration": 255,
    "start_time": "2022-10-13T11:46:49.286Z"
   },
   {
    "duration": 20,
    "start_time": "2022-10-13T11:51:53.177Z"
   },
   {
    "duration": 16,
    "start_time": "2022-10-13T12:32:16.620Z"
   },
   {
    "duration": 315,
    "start_time": "2022-10-13T13:07:39.025Z"
   },
   {
    "duration": 239,
    "start_time": "2022-10-13T13:18:32.648Z"
   },
   {
    "duration": 376,
    "start_time": "2022-10-13T13:35:20.272Z"
   },
   {
    "duration": 81,
    "start_time": "2022-10-13T13:35:20.650Z"
   },
   {
    "duration": 15,
    "start_time": "2022-10-13T13:35:20.732Z"
   },
   {
    "duration": 32,
    "start_time": "2022-10-13T13:35:20.748Z"
   },
   {
    "duration": 2247,
    "start_time": "2022-10-13T13:35:20.782Z"
   },
   {
    "duration": 19,
    "start_time": "2022-10-13T13:35:23.031Z"
   },
   {
    "duration": 14,
    "start_time": "2022-10-13T13:35:23.051Z"
   },
   {
    "duration": 10,
    "start_time": "2022-10-13T13:35:23.066Z"
   },
   {
    "duration": 13,
    "start_time": "2022-10-13T13:35:23.078Z"
   },
   {
    "duration": 48,
    "start_time": "2022-10-13T13:35:23.093Z"
   },
   {
    "duration": 53,
    "start_time": "2022-10-13T13:35:23.143Z"
   },
   {
    "duration": 6,
    "start_time": "2022-10-13T13:35:23.198Z"
   },
   {
    "duration": 46,
    "start_time": "2022-10-13T13:35:23.205Z"
   },
   {
    "duration": 2,
    "start_time": "2022-10-13T13:35:23.254Z"
   },
   {
    "duration": 11,
    "start_time": "2022-10-13T13:35:23.258Z"
   },
   {
    "duration": 9,
    "start_time": "2022-10-13T13:35:23.270Z"
   },
   {
    "duration": 5,
    "start_time": "2022-10-13T13:35:23.280Z"
   },
   {
    "duration": 5,
    "start_time": "2022-10-13T13:35:23.287Z"
   },
   {
    "duration": 285,
    "start_time": "2022-10-13T13:35:23.294Z"
   },
   {
    "duration": 5,
    "start_time": "2022-10-13T13:35:23.581Z"
   },
   {
    "duration": 29,
    "start_time": "2022-10-13T13:35:23.588Z"
   },
   {
    "duration": 239,
    "start_time": "2022-10-13T13:35:23.619Z"
   },
   {
    "duration": 400,
    "start_time": "2022-10-13T13:35:23.860Z"
   },
   {
    "duration": 306,
    "start_time": "2022-10-13T13:35:24.263Z"
   },
   {
    "duration": 309,
    "start_time": "2022-10-13T13:35:24.571Z"
   },
   {
    "duration": 303,
    "start_time": "2022-10-13T13:35:24.882Z"
   },
   {
    "duration": 251,
    "start_time": "2022-10-13T13:35:25.187Z"
   },
   {
    "duration": 271,
    "start_time": "2022-10-13T13:35:25.440Z"
   },
   {
    "duration": 360,
    "start_time": "2022-10-13T13:35:25.713Z"
   },
   {
    "duration": 299,
    "start_time": "2022-10-13T13:35:26.075Z"
   },
   {
    "duration": 289,
    "start_time": "2022-10-13T13:35:26.376Z"
   },
   {
    "duration": 253,
    "start_time": "2022-10-13T13:35:26.667Z"
   },
   {
    "duration": 252,
    "start_time": "2022-10-13T13:35:26.923Z"
   },
   {
    "duration": 289,
    "start_time": "2022-10-13T13:35:27.177Z"
   },
   {
    "duration": 296,
    "start_time": "2022-10-13T13:35:27.467Z"
   },
   {
    "duration": 362,
    "start_time": "2022-10-13T13:35:27.766Z"
   },
   {
    "duration": 3,
    "start_time": "2022-10-13T13:35:28.133Z"
   },
   {
    "duration": 203,
    "start_time": "2022-10-13T13:35:28.137Z"
   },
   {
    "duration": 199,
    "start_time": "2022-10-13T13:35:28.342Z"
   },
   {
    "duration": 182,
    "start_time": "2022-10-13T13:35:28.543Z"
   },
   {
    "duration": 202,
    "start_time": "2022-10-13T13:35:28.734Z"
   },
   {
    "duration": 201,
    "start_time": "2022-10-13T13:35:28.938Z"
   },
   {
    "duration": 201,
    "start_time": "2022-10-13T13:35:29.141Z"
   },
   {
    "duration": 194,
    "start_time": "2022-10-13T13:35:29.343Z"
   },
   {
    "duration": 211,
    "start_time": "2022-10-13T13:35:29.538Z"
   },
   {
    "duration": 3,
    "start_time": "2022-10-13T13:35:29.751Z"
   },
   {
    "duration": 18,
    "start_time": "2022-10-13T13:35:29.756Z"
   },
   {
    "duration": 17,
    "start_time": "2022-10-13T13:35:29.776Z"
   },
   {
    "duration": 2,
    "start_time": "2022-10-13T13:35:29.796Z"
   },
   {
    "duration": 42,
    "start_time": "2022-10-13T13:35:29.800Z"
   },
   {
    "duration": 427,
    "start_time": "2022-10-13T14:20:38.099Z"
   },
   {
    "duration": 88,
    "start_time": "2022-10-13T14:20:38.528Z"
   },
   {
    "duration": 15,
    "start_time": "2022-10-13T14:20:38.618Z"
   },
   {
    "duration": 33,
    "start_time": "2022-10-13T14:20:38.635Z"
   },
   {
    "duration": 2467,
    "start_time": "2022-10-13T14:20:38.670Z"
   },
   {
    "duration": 19,
    "start_time": "2022-10-13T14:20:41.139Z"
   },
   {
    "duration": 17,
    "start_time": "2022-10-13T14:20:41.160Z"
   },
   {
    "duration": 25,
    "start_time": "2022-10-13T14:20:41.178Z"
   },
   {
    "duration": 27,
    "start_time": "2022-10-13T14:20:41.204Z"
   },
   {
    "duration": 18,
    "start_time": "2022-10-13T14:20:41.233Z"
   },
   {
    "duration": 71,
    "start_time": "2022-10-13T14:20:41.253Z"
   },
   {
    "duration": 6,
    "start_time": "2022-10-13T14:20:41.326Z"
   },
   {
    "duration": 31,
    "start_time": "2022-10-13T14:20:41.333Z"
   },
   {
    "duration": 3,
    "start_time": "2022-10-13T14:20:41.368Z"
   },
   {
    "duration": 16,
    "start_time": "2022-10-13T14:20:41.372Z"
   },
   {
    "duration": 11,
    "start_time": "2022-10-13T14:20:41.389Z"
   },
   {
    "duration": 18,
    "start_time": "2022-10-13T14:20:41.402Z"
   },
   {
    "duration": 6,
    "start_time": "2022-10-13T14:20:41.422Z"
   },
   {
    "duration": 326,
    "start_time": "2022-10-13T14:20:41.429Z"
   },
   {
    "duration": 6,
    "start_time": "2022-10-13T14:20:41.758Z"
   },
   {
    "duration": 33,
    "start_time": "2022-10-13T14:20:41.766Z"
   },
   {
    "duration": 262,
    "start_time": "2022-10-13T14:20:41.801Z"
   },
   {
    "duration": 388,
    "start_time": "2022-10-13T14:20:42.065Z"
   },
   {
    "duration": 324,
    "start_time": "2022-10-13T14:20:42.455Z"
   },
   {
    "duration": 323,
    "start_time": "2022-10-13T14:20:42.782Z"
   },
   {
    "duration": 322,
    "start_time": "2022-10-13T14:20:43.107Z"
   },
   {
    "duration": 238,
    "start_time": "2022-10-13T14:20:43.432Z"
   },
   {
    "duration": 262,
    "start_time": "2022-10-13T14:20:43.672Z"
   },
   {
    "duration": 366,
    "start_time": "2022-10-13T14:20:43.936Z"
   },
   {
    "duration": 253,
    "start_time": "2022-10-13T14:20:44.304Z"
   },
   {
    "duration": 245,
    "start_time": "2022-10-13T14:20:44.559Z"
   },
   {
    "duration": 269,
    "start_time": "2022-10-13T14:20:44.806Z"
   },
   {
    "duration": 268,
    "start_time": "2022-10-13T14:20:45.076Z"
   },
   {
    "duration": 267,
    "start_time": "2022-10-13T14:20:45.346Z"
   },
   {
    "duration": 256,
    "start_time": "2022-10-13T14:20:45.614Z"
   },
   {
    "duration": 370,
    "start_time": "2022-10-13T14:20:45.872Z"
   },
   {
    "duration": 3,
    "start_time": "2022-10-13T14:20:46.243Z"
   },
   {
    "duration": 206,
    "start_time": "2022-10-13T14:20:46.247Z"
   },
   {
    "duration": 193,
    "start_time": "2022-10-13T14:20:46.454Z"
   },
   {
    "duration": 200,
    "start_time": "2022-10-13T14:20:46.649Z"
   },
   {
    "duration": 207,
    "start_time": "2022-10-13T14:20:46.853Z"
   },
   {
    "duration": 209,
    "start_time": "2022-10-13T14:20:47.062Z"
   },
   {
    "duration": 205,
    "start_time": "2022-10-13T14:20:47.273Z"
   },
   {
    "duration": 197,
    "start_time": "2022-10-13T14:20:47.480Z"
   },
   {
    "duration": 209,
    "start_time": "2022-10-13T14:20:47.679Z"
   },
   {
    "duration": 2,
    "start_time": "2022-10-13T14:20:47.890Z"
   },
   {
    "duration": 26,
    "start_time": "2022-10-13T14:20:47.894Z"
   },
   {
    "duration": 19,
    "start_time": "2022-10-13T14:20:47.922Z"
   },
   {
    "duration": 10,
    "start_time": "2022-10-13T14:20:47.943Z"
   },
   {
    "duration": 23,
    "start_time": "2022-10-13T14:20:47.955Z"
   },
   {
    "duration": 16,
    "start_time": "2022-10-13T14:36:33.299Z"
   },
   {
    "duration": 92,
    "start_time": "2022-10-13T14:36:36.870Z"
   },
   {
    "duration": 15,
    "start_time": "2022-10-13T16:06:59.937Z"
   },
   {
    "duration": 95,
    "start_time": "2022-10-13T16:07:03.084Z"
   },
   {
    "duration": 402,
    "start_time": "2022-10-13T16:07:54.641Z"
   },
   {
    "duration": 84,
    "start_time": "2022-10-13T16:07:55.045Z"
   },
   {
    "duration": 16,
    "start_time": "2022-10-13T16:07:55.130Z"
   },
   {
    "duration": 48,
    "start_time": "2022-10-13T16:07:55.147Z"
   },
   {
    "duration": 2360,
    "start_time": "2022-10-13T16:07:55.198Z"
   },
   {
    "duration": 19,
    "start_time": "2022-10-13T16:07:57.560Z"
   },
   {
    "duration": 57,
    "start_time": "2022-10-13T16:07:57.581Z"
   },
   {
    "duration": 40,
    "start_time": "2022-10-13T16:07:57.640Z"
   },
   {
    "duration": 15,
    "start_time": "2022-10-13T16:07:57.682Z"
   },
   {
    "duration": 31,
    "start_time": "2022-10-13T16:07:57.699Z"
   },
   {
    "duration": 51,
    "start_time": "2022-10-13T16:07:57.732Z"
   },
   {
    "duration": 6,
    "start_time": "2022-10-13T16:07:57.785Z"
   },
   {
    "duration": 49,
    "start_time": "2022-10-13T16:07:57.793Z"
   },
   {
    "duration": 89,
    "start_time": "2022-10-13T16:07:57.846Z"
   },
   {
    "duration": 3,
    "start_time": "2022-10-13T16:07:57.937Z"
   },
   {
    "duration": 33,
    "start_time": "2022-10-13T16:07:57.942Z"
   },
   {
    "duration": 25,
    "start_time": "2022-10-13T16:07:57.977Z"
   },
   {
    "duration": 20,
    "start_time": "2022-10-13T16:07:58.004Z"
   },
   {
    "duration": 19,
    "start_time": "2022-10-13T16:07:58.026Z"
   },
   {
    "duration": 307,
    "start_time": "2022-10-13T16:07:58.046Z"
   },
   {
    "duration": 6,
    "start_time": "2022-10-13T16:07:58.354Z"
   },
   {
    "duration": 48,
    "start_time": "2022-10-13T16:07:58.362Z"
   },
   {
    "duration": 243,
    "start_time": "2022-10-13T16:07:58.412Z"
   },
   {
    "duration": 452,
    "start_time": "2022-10-13T16:07:58.656Z"
   },
   {
    "duration": 316,
    "start_time": "2022-10-13T16:07:59.110Z"
   },
   {
    "duration": 319,
    "start_time": "2022-10-13T16:07:59.428Z"
   },
   {
    "duration": 308,
    "start_time": "2022-10-13T16:07:59.748Z"
   },
   {
    "duration": 230,
    "start_time": "2022-10-13T16:08:00.058Z"
   },
   {
    "duration": 264,
    "start_time": "2022-10-13T16:08:00.290Z"
   },
   {
    "duration": 379,
    "start_time": "2022-10-13T16:08:00.555Z"
   },
   {
    "duration": 268,
    "start_time": "2022-10-13T16:08:00.936Z"
   },
   {
    "duration": 260,
    "start_time": "2022-10-13T16:08:01.206Z"
   },
   {
    "duration": 285,
    "start_time": "2022-10-13T16:08:01.468Z"
   },
   {
    "duration": 272,
    "start_time": "2022-10-13T16:08:01.755Z"
   },
   {
    "duration": 270,
    "start_time": "2022-10-13T16:08:02.029Z"
   },
   {
    "duration": 268,
    "start_time": "2022-10-13T16:08:02.300Z"
   },
   {
    "duration": 390,
    "start_time": "2022-10-13T16:08:02.570Z"
   },
   {
    "duration": 3,
    "start_time": "2022-10-13T16:08:02.961Z"
   },
   {
    "duration": 211,
    "start_time": "2022-10-13T16:08:02.966Z"
   },
   {
    "duration": 202,
    "start_time": "2022-10-13T16:08:03.178Z"
   },
   {
    "duration": 196,
    "start_time": "2022-10-13T16:08:03.384Z"
   },
   {
    "duration": 214,
    "start_time": "2022-10-13T16:08:03.581Z"
   },
   {
    "duration": 227,
    "start_time": "2022-10-13T16:08:03.797Z"
   },
   {
    "duration": 220,
    "start_time": "2022-10-13T16:08:04.026Z"
   },
   {
    "duration": 206,
    "start_time": "2022-10-13T16:08:04.248Z"
   },
   {
    "duration": 218,
    "start_time": "2022-10-13T16:08:04.456Z"
   },
   {
    "duration": 2,
    "start_time": "2022-10-13T16:08:04.676Z"
   },
   {
    "duration": 21,
    "start_time": "2022-10-13T16:08:04.680Z"
   },
   {
    "duration": 22,
    "start_time": "2022-10-13T16:08:04.703Z"
   },
   {
    "duration": 2,
    "start_time": "2022-10-13T16:08:04.727Z"
   },
   {
    "duration": 25,
    "start_time": "2022-10-13T16:08:04.731Z"
   },
   {
    "duration": 7,
    "start_time": "2022-10-13T16:09:16.414Z"
   },
   {
    "duration": 5,
    "start_time": "2022-10-13T16:09:23.330Z"
   },
   {
    "duration": 48,
    "start_time": "2022-10-14T08:35:03.103Z"
   },
   {
    "duration": 6,
    "start_time": "2022-10-14T08:35:10.312Z"
   },
   {
    "duration": 469,
    "start_time": "2022-10-14T08:35:13.110Z"
   },
   {
    "duration": 138,
    "start_time": "2022-10-14T08:35:13.581Z"
   },
   {
    "duration": 20,
    "start_time": "2022-10-14T08:35:13.721Z"
   },
   {
    "duration": 48,
    "start_time": "2022-10-14T08:35:13.742Z"
   },
   {
    "duration": 2637,
    "start_time": "2022-10-14T08:35:13.792Z"
   },
   {
    "duration": 25,
    "start_time": "2022-10-14T08:35:16.431Z"
   },
   {
    "duration": 20,
    "start_time": "2022-10-14T08:35:16.458Z"
   },
   {
    "duration": 20,
    "start_time": "2022-10-14T08:35:16.480Z"
   },
   {
    "duration": 19,
    "start_time": "2022-10-14T08:35:16.502Z"
   },
   {
    "duration": 28,
    "start_time": "2022-10-14T08:35:16.523Z"
   },
   {
    "duration": 87,
    "start_time": "2022-10-14T08:35:16.552Z"
   },
   {
    "duration": 7,
    "start_time": "2022-10-14T08:35:16.641Z"
   },
   {
    "duration": 45,
    "start_time": "2022-10-14T08:35:16.651Z"
   },
   {
    "duration": 3,
    "start_time": "2022-10-14T08:35:16.699Z"
   },
   {
    "duration": 31,
    "start_time": "2022-10-14T08:35:16.704Z"
   },
   {
    "duration": 6,
    "start_time": "2022-10-14T08:35:16.737Z"
   },
   {
    "duration": 12,
    "start_time": "2022-10-14T08:35:16.745Z"
   },
   {
    "duration": 13,
    "start_time": "2022-10-14T08:35:16.759Z"
   },
   {
    "duration": 297,
    "start_time": "2022-10-14T08:35:16.773Z"
   },
   {
    "duration": 7,
    "start_time": "2022-10-14T08:35:17.072Z"
   },
   {
    "duration": 32,
    "start_time": "2022-10-14T08:35:17.081Z"
   },
   {
    "duration": 283,
    "start_time": "2022-10-14T08:35:17.115Z"
   },
   {
    "duration": 378,
    "start_time": "2022-10-14T08:35:17.400Z"
   },
   {
    "duration": 309,
    "start_time": "2022-10-14T08:35:17.780Z"
   },
   {
    "duration": 356,
    "start_time": "2022-10-14T08:35:18.091Z"
   },
   {
    "duration": 345,
    "start_time": "2022-10-14T08:35:18.451Z"
   },
   {
    "duration": 215,
    "start_time": "2022-10-14T08:35:18.799Z"
   },
   {
    "duration": 245,
    "start_time": "2022-10-14T08:35:19.016Z"
   },
   {
    "duration": 393,
    "start_time": "2022-10-14T08:35:19.262Z"
   },
   {
    "duration": 304,
    "start_time": "2022-10-14T08:35:19.657Z"
   },
   {
    "duration": 297,
    "start_time": "2022-10-14T08:35:19.963Z"
   },
   {
    "duration": 282,
    "start_time": "2022-10-14T08:35:20.261Z"
   },
   {
    "duration": 257,
    "start_time": "2022-10-14T08:35:20.545Z"
   },
   {
    "duration": 274,
    "start_time": "2022-10-14T08:35:20.803Z"
   },
   {
    "duration": 382,
    "start_time": "2022-10-14T08:35:21.079Z"
   },
   {
    "duration": 279,
    "start_time": "2022-10-14T08:35:21.463Z"
   },
   {
    "duration": 3,
    "start_time": "2022-10-14T08:35:21.744Z"
   },
   {
    "duration": 231,
    "start_time": "2022-10-14T08:35:21.749Z"
   },
   {
    "duration": 201,
    "start_time": "2022-10-14T08:35:21.982Z"
   },
   {
    "duration": 204,
    "start_time": "2022-10-14T08:35:22.185Z"
   },
   {
    "duration": 243,
    "start_time": "2022-10-14T08:35:22.394Z"
   },
   {
    "duration": 223,
    "start_time": "2022-10-14T08:35:22.639Z"
   },
   {
    "duration": 228,
    "start_time": "2022-10-14T08:35:22.864Z"
   },
   {
    "duration": 208,
    "start_time": "2022-10-14T08:35:23.093Z"
   },
   {
    "duration": 220,
    "start_time": "2022-10-14T08:35:23.302Z"
   },
   {
    "duration": 10,
    "start_time": "2022-10-14T08:35:23.524Z"
   },
   {
    "duration": 28,
    "start_time": "2022-10-14T08:35:23.536Z"
   },
   {
    "duration": 25,
    "start_time": "2022-10-14T08:35:23.567Z"
   },
   {
    "duration": 4,
    "start_time": "2022-10-14T08:35:23.594Z"
   },
   {
    "duration": 45,
    "start_time": "2022-10-14T08:35:23.601Z"
   },
   {
    "duration": 3,
    "start_time": "2022-10-14T08:35:27.014Z"
   },
   {
    "duration": 26,
    "start_time": "2022-10-14T08:35:38.436Z"
   },
   {
    "duration": 84,
    "start_time": "2022-10-14T08:35:58.344Z"
   },
   {
    "duration": 18,
    "start_time": "2022-10-14T08:35:59.574Z"
   },
   {
    "duration": 35,
    "start_time": "2022-10-14T08:36:00.310Z"
   },
   {
    "duration": 2286,
    "start_time": "2022-10-14T08:36:00.858Z"
   },
   {
    "duration": 14,
    "start_time": "2022-10-14T08:36:03.146Z"
   },
   {
    "duration": 449,
    "start_time": "2022-10-16T13:53:41.789Z"
   },
   {
    "duration": 138,
    "start_time": "2022-10-16T13:53:42.244Z"
   },
   {
    "duration": 17,
    "start_time": "2022-10-16T13:53:42.384Z"
   },
   {
    "duration": 51,
    "start_time": "2022-10-16T13:53:42.403Z"
   },
   {
    "duration": 2761,
    "start_time": "2022-10-16T13:53:42.456Z"
   },
   {
    "duration": 27,
    "start_time": "2022-10-16T13:53:45.219Z"
   },
   {
    "duration": 20,
    "start_time": "2022-10-16T13:53:45.248Z"
   },
   {
    "duration": 13,
    "start_time": "2022-10-16T13:53:45.270Z"
   },
   {
    "duration": 15,
    "start_time": "2022-10-16T13:53:45.285Z"
   },
   {
    "duration": 20,
    "start_time": "2022-10-16T13:53:45.302Z"
   },
   {
    "duration": 81,
    "start_time": "2022-10-16T13:53:45.324Z"
   },
   {
    "duration": 7,
    "start_time": "2022-10-16T13:53:45.407Z"
   },
   {
    "duration": 48,
    "start_time": "2022-10-16T13:53:45.417Z"
   },
   {
    "duration": 5,
    "start_time": "2022-10-16T13:53:45.469Z"
   },
   {
    "duration": 10,
    "start_time": "2022-10-16T13:53:45.476Z"
   },
   {
    "duration": 13,
    "start_time": "2022-10-16T13:53:45.489Z"
   },
   {
    "duration": 8,
    "start_time": "2022-10-16T13:53:45.504Z"
   },
   {
    "duration": 10,
    "start_time": "2022-10-16T13:53:45.514Z"
   },
   {
    "duration": 353,
    "start_time": "2022-10-16T13:53:45.525Z"
   },
   {
    "duration": 6,
    "start_time": "2022-10-16T13:53:45.880Z"
   },
   {
    "duration": 28,
    "start_time": "2022-10-16T13:53:45.887Z"
   },
   {
    "duration": 255,
    "start_time": "2022-10-16T13:53:45.917Z"
   },
   {
    "duration": 406,
    "start_time": "2022-10-16T13:53:46.174Z"
   },
   {
    "duration": 308,
    "start_time": "2022-10-16T13:53:46.582Z"
   },
   {
    "duration": 331,
    "start_time": "2022-10-16T13:53:46.892Z"
   },
   {
    "duration": 363,
    "start_time": "2022-10-16T13:53:47.225Z"
   },
   {
    "duration": 218,
    "start_time": "2022-10-16T13:53:47.591Z"
   },
   {
    "duration": 261,
    "start_time": "2022-10-16T13:53:47.811Z"
   },
   {
    "duration": 386,
    "start_time": "2022-10-16T13:53:48.073Z"
   },
   {
    "duration": 268,
    "start_time": "2022-10-16T13:53:48.460Z"
   },
   {
    "duration": 246,
    "start_time": "2022-10-16T13:53:48.730Z"
   },
   {
    "duration": 250,
    "start_time": "2022-10-16T13:53:48.978Z"
   },
   {
    "duration": 249,
    "start_time": "2022-10-16T13:53:49.230Z"
   },
   {
    "duration": 266,
    "start_time": "2022-10-16T13:53:49.481Z"
   },
   {
    "duration": 377,
    "start_time": "2022-10-16T13:53:49.754Z"
   },
   {
    "duration": 253,
    "start_time": "2022-10-16T13:53:50.133Z"
   },
   {
    "duration": 3,
    "start_time": "2022-10-16T13:53:50.388Z"
   },
   {
    "duration": 204,
    "start_time": "2022-10-16T13:53:50.393Z"
   },
   {
    "duration": 204,
    "start_time": "2022-10-16T13:53:50.599Z"
   },
   {
    "duration": 196,
    "start_time": "2022-10-16T13:53:50.805Z"
   },
   {
    "duration": 207,
    "start_time": "2022-10-16T13:53:51.004Z"
   },
   {
    "duration": 214,
    "start_time": "2022-10-16T13:53:51.212Z"
   },
   {
    "duration": 256,
    "start_time": "2022-10-16T13:53:51.428Z"
   },
   {
    "duration": 231,
    "start_time": "2022-10-16T13:53:51.686Z"
   },
   {
    "duration": 200,
    "start_time": "2022-10-16T13:53:51.919Z"
   },
   {
    "duration": 2,
    "start_time": "2022-10-16T13:53:52.121Z"
   },
   {
    "duration": 15,
    "start_time": "2022-10-16T13:53:52.125Z"
   },
   {
    "duration": 22,
    "start_time": "2022-10-16T13:53:52.142Z"
   },
   {
    "duration": 2,
    "start_time": "2022-10-16T13:53:52.166Z"
   },
   {
    "duration": 30,
    "start_time": "2022-10-16T13:53:52.170Z"
   },
   {
    "duration": 3031,
    "start_time": "2022-10-16T14:06:41.055Z"
   },
   {
    "duration": 16,
    "start_time": "2022-10-16T14:09:38.719Z"
   },
   {
    "duration": 3,
    "start_time": "2022-10-16T14:10:55.580Z"
   },
   {
    "duration": 86,
    "start_time": "2022-10-16T14:10:55.585Z"
   },
   {
    "duration": 15,
    "start_time": "2022-10-16T14:10:55.673Z"
   },
   {
    "duration": 22,
    "start_time": "2022-10-16T14:10:55.690Z"
   },
   {
    "duration": 2144,
    "start_time": "2022-10-16T14:10:55.714Z"
   },
   {
    "duration": 13,
    "start_time": "2022-10-16T14:10:57.860Z"
   },
   {
    "duration": 99,
    "start_time": "2022-10-16T14:10:57.875Z"
   },
   {
    "duration": 0,
    "start_time": "2022-10-16T14:10:57.976Z"
   },
   {
    "duration": 0,
    "start_time": "2022-10-16T14:10:57.977Z"
   },
   {
    "duration": 0,
    "start_time": "2022-10-16T14:10:57.978Z"
   },
   {
    "duration": 0,
    "start_time": "2022-10-16T14:10:57.979Z"
   },
   {
    "duration": 0,
    "start_time": "2022-10-16T14:10:57.980Z"
   },
   {
    "duration": 0,
    "start_time": "2022-10-16T14:10:57.981Z"
   },
   {
    "duration": 25,
    "start_time": "2022-10-16T14:11:59.245Z"
   },
   {
    "duration": 31,
    "start_time": "2022-10-16T14:12:11.439Z"
   },
   {
    "duration": 3,
    "start_time": "2022-10-16T14:12:11.472Z"
   },
   {
    "duration": 14,
    "start_time": "2022-10-16T14:12:11.477Z"
   },
   {
    "duration": 13,
    "start_time": "2022-10-16T14:12:11.495Z"
   },
   {
    "duration": 10,
    "start_time": "2022-10-16T14:12:11.511Z"
   },
   {
    "duration": 11,
    "start_time": "2022-10-16T14:12:11.523Z"
   },
   {
    "duration": 372,
    "start_time": "2022-10-16T14:12:11.557Z"
   },
   {
    "duration": 5,
    "start_time": "2022-10-16T14:12:11.931Z"
   },
   {
    "duration": 31,
    "start_time": "2022-10-16T14:12:11.938Z"
   },
   {
    "duration": 420,
    "start_time": "2022-10-16T14:12:11.972Z"
   },
   {
    "duration": 330,
    "start_time": "2022-10-16T14:12:12.394Z"
   },
   {
    "duration": 295,
    "start_time": "2022-10-16T14:12:12.726Z"
   },
   {
    "duration": 313,
    "start_time": "2022-10-16T14:12:13.024Z"
   },
   {
    "duration": 310,
    "start_time": "2022-10-16T14:12:13.339Z"
   },
   {
    "duration": 207,
    "start_time": "2022-10-16T14:12:13.653Z"
   },
   {
    "duration": 406,
    "start_time": "2022-10-16T14:12:13.862Z"
   },
   {
    "duration": 275,
    "start_time": "2022-10-16T14:12:14.269Z"
   },
   {
    "duration": 264,
    "start_time": "2022-10-16T14:12:14.545Z"
   },
   {
    "duration": 269,
    "start_time": "2022-10-16T14:12:14.811Z"
   },
   {
    "duration": 278,
    "start_time": "2022-10-16T14:12:15.082Z"
   },
   {
    "duration": 261,
    "start_time": "2022-10-16T14:12:15.362Z"
   },
   {
    "duration": 304,
    "start_time": "2022-10-16T14:12:15.625Z"
   },
   {
    "duration": 279,
    "start_time": "2022-10-16T14:12:15.931Z"
   },
   {
    "duration": 278,
    "start_time": "2022-10-16T14:12:16.212Z"
   },
   {
    "duration": 2,
    "start_time": "2022-10-16T14:12:16.492Z"
   },
   {
    "duration": 212,
    "start_time": "2022-10-16T14:12:16.496Z"
   },
   {
    "duration": 198,
    "start_time": "2022-10-16T14:12:16.709Z"
   },
   {
    "duration": 396,
    "start_time": "2022-10-16T14:12:16.911Z"
   },
   {
    "duration": 217,
    "start_time": "2022-10-16T14:12:17.308Z"
   },
   {
    "duration": 214,
    "start_time": "2022-10-16T14:12:17.528Z"
   },
   {
    "duration": 212,
    "start_time": "2022-10-16T14:12:17.744Z"
   },
   {
    "duration": 207,
    "start_time": "2022-10-16T14:12:17.957Z"
   },
   {
    "duration": 200,
    "start_time": "2022-10-16T14:12:18.165Z"
   },
   {
    "duration": 2,
    "start_time": "2022-10-16T14:12:18.367Z"
   },
   {
    "duration": 20,
    "start_time": "2022-10-16T14:12:18.371Z"
   },
   {
    "duration": 20,
    "start_time": "2022-10-16T14:12:18.393Z"
   },
   {
    "duration": 5,
    "start_time": "2022-10-16T14:12:18.414Z"
   },
   {
    "duration": 45,
    "start_time": "2022-10-16T14:12:18.421Z"
   },
   {
    "duration": 3,
    "start_time": "2022-10-16T14:12:20.647Z"
   },
   {
    "duration": 83,
    "start_time": "2022-10-16T14:12:20.652Z"
   },
   {
    "duration": 21,
    "start_time": "2022-10-16T14:12:20.737Z"
   },
   {
    "duration": 30,
    "start_time": "2022-10-16T14:12:20.760Z"
   },
   {
    "duration": 2102,
    "start_time": "2022-10-16T14:12:20.792Z"
   },
   {
    "duration": 14,
    "start_time": "2022-10-16T14:12:22.895Z"
   },
   {
    "duration": 13,
    "start_time": "2022-10-16T14:12:22.911Z"
   },
   {
    "duration": 30,
    "start_time": "2022-10-16T14:12:22.926Z"
   },
   {
    "duration": 15,
    "start_time": "2022-10-16T14:12:22.958Z"
   },
   {
    "duration": 19,
    "start_time": "2022-10-16T14:12:22.975Z"
   },
   {
    "duration": 79,
    "start_time": "2022-10-16T14:12:22.996Z"
   },
   {
    "duration": 7,
    "start_time": "2022-10-16T14:12:23.077Z"
   },
   {
    "duration": 50,
    "start_time": "2022-10-16T14:12:23.087Z"
   },
   {
    "duration": 11,
    "start_time": "2022-10-16T14:12:23.140Z"
   },
   {
    "duration": 14,
    "start_time": "2022-10-16T14:12:23.153Z"
   },
   {
    "duration": 13,
    "start_time": "2022-10-16T14:12:23.169Z"
   },
   {
    "duration": 6,
    "start_time": "2022-10-16T14:12:23.184Z"
   },
   {
    "duration": 9,
    "start_time": "2022-10-16T14:12:23.192Z"
   },
   {
    "duration": 551,
    "start_time": "2022-10-16T14:12:23.203Z"
   },
   {
    "duration": 6,
    "start_time": "2022-10-16T14:12:23.756Z"
   },
   {
    "duration": 34,
    "start_time": "2022-10-16T14:12:23.763Z"
   },
   {
    "duration": 242,
    "start_time": "2022-10-16T14:12:23.799Z"
   },
   {
    "duration": 303,
    "start_time": "2022-10-16T14:12:24.043Z"
   },
   {
    "duration": 312,
    "start_time": "2022-10-16T14:12:24.348Z"
   },
   {
    "duration": 323,
    "start_time": "2022-10-16T14:12:24.662Z"
   },
   {
    "duration": 322,
    "start_time": "2022-10-16T14:12:24.987Z"
   },
   {
    "duration": 217,
    "start_time": "2022-10-16T14:12:25.311Z"
   },
   {
    "duration": 257,
    "start_time": "2022-10-16T14:12:25.530Z"
   },
   {
    "duration": 256,
    "start_time": "2022-10-16T14:12:25.789Z"
   },
   {
    "duration": 263,
    "start_time": "2022-10-16T14:12:26.047Z"
   },
   {
    "duration": 246,
    "start_time": "2022-10-16T14:12:26.311Z"
   },
   {
    "duration": 489,
    "start_time": "2022-10-16T14:12:26.559Z"
   },
   {
    "duration": 259,
    "start_time": "2022-10-16T14:12:27.049Z"
   },
   {
    "duration": 262,
    "start_time": "2022-10-16T14:12:27.310Z"
   },
   {
    "duration": 244,
    "start_time": "2022-10-16T14:12:27.573Z"
   },
   {
    "duration": 246,
    "start_time": "2022-10-16T14:12:27.818Z"
   },
   {
    "duration": 2,
    "start_time": "2022-10-16T14:12:28.066Z"
   },
   {
    "duration": 204,
    "start_time": "2022-10-16T14:12:28.070Z"
   },
   {
    "duration": 209,
    "start_time": "2022-10-16T14:12:28.277Z"
   },
   {
    "duration": 192,
    "start_time": "2022-10-16T14:12:28.487Z"
   },
   {
    "duration": 206,
    "start_time": "2022-10-16T14:12:28.683Z"
   },
   {
    "duration": 218,
    "start_time": "2022-10-16T14:12:28.891Z"
   },
   {
    "duration": 218,
    "start_time": "2022-10-16T14:12:29.110Z"
   },
   {
    "duration": 223,
    "start_time": "2022-10-16T14:12:29.331Z"
   },
   {
    "duration": 217,
    "start_time": "2022-10-16T14:12:29.556Z"
   },
   {
    "duration": 3,
    "start_time": "2022-10-16T14:12:29.775Z"
   },
   {
    "duration": 33,
    "start_time": "2022-10-16T14:12:29.780Z"
   },
   {
    "duration": 32,
    "start_time": "2022-10-16T14:12:29.816Z"
   },
   {
    "duration": 4,
    "start_time": "2022-10-16T14:12:29.850Z"
   },
   {
    "duration": 53,
    "start_time": "2022-10-16T14:12:29.856Z"
   },
   {
    "duration": 413,
    "start_time": "2022-10-16T19:59:25.587Z"
   },
   {
    "duration": 325,
    "start_time": "2022-10-16T19:59:26.012Z"
   },
   {
    "duration": 20,
    "start_time": "2022-10-16T19:59:26.339Z"
   },
   {
    "duration": 39,
    "start_time": "2022-10-16T19:59:26.360Z"
   },
   {
    "duration": 2621,
    "start_time": "2022-10-16T19:59:26.402Z"
   },
   {
    "duration": 20,
    "start_time": "2022-10-16T19:59:29.025Z"
   },
   {
    "duration": 13,
    "start_time": "2022-10-16T19:59:29.047Z"
   },
   {
    "duration": 8,
    "start_time": "2022-10-16T19:59:29.062Z"
   },
   {
    "duration": 12,
    "start_time": "2022-10-16T19:59:29.072Z"
   },
   {
    "duration": 37,
    "start_time": "2022-10-16T19:59:29.085Z"
   },
   {
    "duration": 53,
    "start_time": "2022-10-16T19:59:29.124Z"
   },
   {
    "duration": 6,
    "start_time": "2022-10-16T19:59:29.178Z"
   },
   {
    "duration": 31,
    "start_time": "2022-10-16T19:59:29.194Z"
   },
   {
    "duration": 2,
    "start_time": "2022-10-16T19:59:29.228Z"
   },
   {
    "duration": 8,
    "start_time": "2022-10-16T19:59:29.232Z"
   },
   {
    "duration": 7,
    "start_time": "2022-10-16T19:59:29.241Z"
   },
   {
    "duration": 9,
    "start_time": "2022-10-16T19:59:29.250Z"
   },
   {
    "duration": 9,
    "start_time": "2022-10-16T19:59:29.260Z"
   },
   {
    "duration": 328,
    "start_time": "2022-10-16T19:59:29.270Z"
   },
   {
    "duration": 6,
    "start_time": "2022-10-16T19:59:29.600Z"
   },
   {
    "duration": 31,
    "start_time": "2022-10-16T19:59:29.607Z"
   },
   {
    "duration": 291,
    "start_time": "2022-10-16T19:59:29.640Z"
   },
   {
    "duration": 434,
    "start_time": "2022-10-16T19:59:29.933Z"
   },
   {
    "duration": 314,
    "start_time": "2022-10-16T19:59:30.368Z"
   },
   {
    "duration": 332,
    "start_time": "2022-10-16T19:59:30.684Z"
   },
   {
    "duration": 304,
    "start_time": "2022-10-16T19:59:31.018Z"
   },
   {
    "duration": 228,
    "start_time": "2022-10-16T19:59:31.323Z"
   },
   {
    "duration": 3,
    "start_time": "2022-10-16T19:59:35.826Z"
   },
   {
    "duration": 91,
    "start_time": "2022-10-16T19:59:35.831Z"
   },
   {
    "duration": 16,
    "start_time": "2022-10-16T19:59:35.924Z"
   },
   {
    "duration": 23,
    "start_time": "2022-10-16T19:59:35.941Z"
   },
   {
    "duration": 2249,
    "start_time": "2022-10-16T19:59:35.967Z"
   },
   {
    "duration": 13,
    "start_time": "2022-10-16T19:59:38.217Z"
   },
   {
    "duration": 13,
    "start_time": "2022-10-16T19:59:38.231Z"
   },
   {
    "duration": 7,
    "start_time": "2022-10-16T19:59:38.246Z"
   },
   {
    "duration": 14,
    "start_time": "2022-10-16T19:59:38.254Z"
   },
   {
    "duration": 26,
    "start_time": "2022-10-16T19:59:38.297Z"
   },
   {
    "duration": 46,
    "start_time": "2022-10-16T19:59:38.325Z"
   },
   {
    "duration": 37,
    "start_time": "2022-10-16T19:59:38.373Z"
   },
   {
    "duration": 26,
    "start_time": "2022-10-16T19:59:38.414Z"
   },
   {
    "duration": 6,
    "start_time": "2022-10-16T19:59:38.442Z"
   },
   {
    "duration": 6,
    "start_time": "2022-10-16T19:59:38.449Z"
   },
   {
    "duration": 8,
    "start_time": "2022-10-16T19:59:38.457Z"
   },
   {
    "duration": 5,
    "start_time": "2022-10-16T19:59:38.466Z"
   },
   {
    "duration": 28,
    "start_time": "2022-10-16T19:59:38.473Z"
   },
   {
    "duration": 287,
    "start_time": "2022-10-16T19:59:38.507Z"
   },
   {
    "duration": 6,
    "start_time": "2022-10-16T19:59:38.795Z"
   },
   {
    "duration": 37,
    "start_time": "2022-10-16T19:59:38.802Z"
   },
   {
    "duration": 379,
    "start_time": "2022-10-16T19:59:38.840Z"
   },
   {
    "duration": 309,
    "start_time": "2022-10-16T19:59:39.221Z"
   },
   {
    "duration": 285,
    "start_time": "2022-10-16T19:59:39.545Z"
   },
   {
    "duration": 353,
    "start_time": "2022-10-16T19:59:39.833Z"
   },
   {
    "duration": 301,
    "start_time": "2022-10-16T19:59:40.187Z"
   },
   {
    "duration": 224,
    "start_time": "2022-10-16T19:59:40.490Z"
   },
   {
    "duration": 379,
    "start_time": "2022-10-16T19:59:40.717Z"
   },
   {
    "duration": 296,
    "start_time": "2022-10-16T19:59:41.098Z"
   },
   {
    "duration": 294,
    "start_time": "2022-10-16T19:59:41.396Z"
   },
   {
    "duration": 256,
    "start_time": "2022-10-16T19:59:41.695Z"
   },
   {
    "duration": 285,
    "start_time": "2022-10-16T19:59:41.953Z"
   },
   {
    "duration": 291,
    "start_time": "2022-10-16T19:59:42.240Z"
   },
   {
    "duration": 267,
    "start_time": "2022-10-16T19:59:42.533Z"
   },
   {
    "duration": 256,
    "start_time": "2022-10-16T19:59:42.802Z"
   },
   {
    "duration": 385,
    "start_time": "2022-10-16T19:59:43.060Z"
   },
   {
    "duration": 2,
    "start_time": "2022-10-16T19:59:43.447Z"
   },
   {
    "duration": 190,
    "start_time": "2022-10-16T19:59:43.451Z"
   },
   {
    "duration": 210,
    "start_time": "2022-10-16T19:59:43.642Z"
   },
   {
    "duration": 193,
    "start_time": "2022-10-16T19:59:43.853Z"
   },
   {
    "duration": 205,
    "start_time": "2022-10-16T19:59:44.047Z"
   },
   {
    "duration": 216,
    "start_time": "2022-10-16T19:59:44.254Z"
   },
   {
    "duration": 200,
    "start_time": "2022-10-16T19:59:44.472Z"
   },
   {
    "duration": 222,
    "start_time": "2022-10-16T19:59:44.674Z"
   },
   {
    "duration": 199,
    "start_time": "2022-10-16T19:59:44.898Z"
   },
   {
    "duration": 4,
    "start_time": "2022-10-16T19:59:45.099Z"
   },
   {
    "duration": 24,
    "start_time": "2022-10-16T19:59:45.106Z"
   },
   {
    "duration": 16,
    "start_time": "2022-10-16T19:59:45.132Z"
   },
   {
    "duration": 3,
    "start_time": "2022-10-16T19:59:45.149Z"
   },
   {
    "duration": 29,
    "start_time": "2022-10-16T19:59:45.153Z"
   },
   {
    "duration": 69,
    "start_time": "2022-10-16T20:05:32.423Z"
   },
   {
    "duration": 12,
    "start_time": "2022-10-16T20:05:38.488Z"
   },
   {
    "duration": 373,
    "start_time": "2022-10-16T20:06:16.377Z"
   },
   {
    "duration": 6,
    "start_time": "2022-10-16T20:06:41.761Z"
   },
   {
    "duration": 9,
    "start_time": "2022-10-16T20:07:08.847Z"
   },
   {
    "duration": 356,
    "start_time": "2022-10-16T20:07:16.475Z"
   },
   {
    "duration": 166,
    "start_time": "2022-10-16T20:07:37.086Z"
   },
   {
    "duration": 164,
    "start_time": "2022-10-16T20:07:42.938Z"
   },
   {
    "duration": 294,
    "start_time": "2022-10-16T20:08:19.761Z"
   },
   {
    "duration": 353,
    "start_time": "2022-10-16T20:08:26.767Z"
   },
   {
    "duration": 22,
    "start_time": "2022-10-16T20:08:38.506Z"
   },
   {
    "duration": 502,
    "start_time": "2022-10-16T20:08:54.628Z"
   },
   {
    "duration": 333,
    "start_time": "2022-10-16T20:09:16.538Z"
   },
   {
    "duration": 317,
    "start_time": "2022-10-16T20:09:40.388Z"
   },
   {
    "duration": 310,
    "start_time": "2022-10-16T20:09:46.220Z"
   },
   {
    "duration": 37,
    "start_time": "2022-10-16T20:10:02.892Z"
   },
   {
    "duration": 275,
    "start_time": "2022-10-16T20:10:27.493Z"
   },
   {
    "duration": 33,
    "start_time": "2022-10-16T20:10:27.978Z"
   },
   {
    "duration": 298,
    "start_time": "2022-10-16T20:11:06.737Z"
   },
   {
    "duration": 301,
    "start_time": "2022-10-16T20:11:07.036Z"
   },
   {
    "duration": 307,
    "start_time": "2022-10-16T20:11:07.339Z"
   },
   {
    "duration": 480,
    "start_time": "2022-10-16T20:11:07.647Z"
   },
   {
    "duration": 22,
    "start_time": "2022-10-16T20:11:08.129Z"
   },
   {
    "duration": 307,
    "start_time": "2022-10-16T20:11:08.153Z"
   },
   {
    "duration": 213,
    "start_time": "2022-10-16T20:11:08.461Z"
   },
   {
    "duration": 251,
    "start_time": "2022-10-16T20:11:08.676Z"
   },
   {
    "duration": 263,
    "start_time": "2022-10-16T20:11:08.928Z"
   },
   {
    "duration": 247,
    "start_time": "2022-10-16T20:11:09.195Z"
   },
   {
    "duration": 263,
    "start_time": "2022-10-16T20:11:09.443Z"
   },
   {
    "duration": 247,
    "start_time": "2022-10-16T20:11:09.710Z"
   },
   {
    "duration": 252,
    "start_time": "2022-10-16T20:11:09.959Z"
   },
   {
    "duration": 256,
    "start_time": "2022-10-16T20:11:10.215Z"
   },
   {
    "duration": 263,
    "start_time": "2022-10-16T20:11:10.473Z"
   },
   {
    "duration": 252,
    "start_time": "2022-10-16T20:11:10.738Z"
   },
   {
    "duration": 4,
    "start_time": "2022-10-16T20:11:10.995Z"
   },
   {
    "duration": 437,
    "start_time": "2022-10-16T20:11:11.004Z"
   },
   {
    "duration": 208,
    "start_time": "2022-10-16T20:11:11.443Z"
   },
   {
    "duration": 221,
    "start_time": "2022-10-16T20:11:11.653Z"
   },
   {
    "duration": 204,
    "start_time": "2022-10-16T20:11:11.875Z"
   },
   {
    "duration": 218,
    "start_time": "2022-10-16T20:11:12.081Z"
   },
   {
    "duration": 219,
    "start_time": "2022-10-16T20:11:12.303Z"
   },
   {
    "duration": 199,
    "start_time": "2022-10-16T20:11:12.524Z"
   },
   {
    "duration": 206,
    "start_time": "2022-10-16T20:11:12.727Z"
   },
   {
    "duration": 2,
    "start_time": "2022-10-16T20:11:12.934Z"
   },
   {
    "duration": 18,
    "start_time": "2022-10-16T20:11:12.938Z"
   },
   {
    "duration": 15,
    "start_time": "2022-10-16T20:11:12.959Z"
   },
   {
    "duration": 2,
    "start_time": "2022-10-16T20:11:12.976Z"
   },
   {
    "duration": 25,
    "start_time": "2022-10-16T20:11:12.999Z"
   },
   {
    "duration": 25,
    "start_time": "2022-10-16T20:11:21.868Z"
   },
   {
    "duration": 386,
    "start_time": "2022-10-16T20:12:01.968Z"
   },
   {
    "duration": 101,
    "start_time": "2022-10-16T20:12:02.355Z"
   },
   {
    "duration": 14,
    "start_time": "2022-10-16T20:12:02.458Z"
   },
   {
    "duration": 41,
    "start_time": "2022-10-16T20:12:02.473Z"
   },
   {
    "duration": 2350,
    "start_time": "2022-10-16T20:12:02.516Z"
   },
   {
    "duration": 18,
    "start_time": "2022-10-16T20:12:04.868Z"
   },
   {
    "duration": 16,
    "start_time": "2022-10-16T20:12:04.887Z"
   },
   {
    "duration": 27,
    "start_time": "2022-10-16T20:12:04.905Z"
   },
   {
    "duration": 11,
    "start_time": "2022-10-16T20:12:04.934Z"
   },
   {
    "duration": 16,
    "start_time": "2022-10-16T20:12:04.947Z"
   },
   {
    "duration": 62,
    "start_time": "2022-10-16T20:12:04.964Z"
   },
   {
    "duration": 7,
    "start_time": "2022-10-16T20:12:05.027Z"
   },
   {
    "duration": 21,
    "start_time": "2022-10-16T20:12:05.035Z"
   },
   {
    "duration": 2,
    "start_time": "2022-10-16T20:12:05.058Z"
   },
   {
    "duration": 6,
    "start_time": "2022-10-16T20:12:05.062Z"
   },
   {
    "duration": 10,
    "start_time": "2022-10-16T20:12:05.069Z"
   },
   {
    "duration": 8,
    "start_time": "2022-10-16T20:12:05.094Z"
   },
   {
    "duration": 27,
    "start_time": "2022-10-16T20:12:05.103Z"
   },
   {
    "duration": 291,
    "start_time": "2022-10-16T20:12:05.131Z"
   },
   {
    "duration": 5,
    "start_time": "2022-10-16T20:12:05.424Z"
   },
   {
    "duration": 30,
    "start_time": "2022-10-16T20:12:05.430Z"
   },
   {
    "duration": 254,
    "start_time": "2022-10-16T20:12:05.461Z"
   },
   {
    "duration": 386,
    "start_time": "2022-10-16T20:12:05.721Z"
   },
   {
    "duration": 312,
    "start_time": "2022-10-16T20:12:06.109Z"
   },
   {
    "duration": 329,
    "start_time": "2022-10-16T20:12:06.423Z"
   },
   {
    "duration": 28,
    "start_time": "2022-10-16T20:12:06.754Z"
   },
   {
    "duration": 346,
    "start_time": "2022-10-16T20:12:06.800Z"
   },
   {
    "duration": 216,
    "start_time": "2022-10-16T20:12:07.147Z"
   },
   {
    "duration": 247,
    "start_time": "2022-10-16T20:12:07.365Z"
   },
   {
    "duration": 340,
    "start_time": "2022-10-16T20:12:07.613Z"
   },
   {
    "duration": 271,
    "start_time": "2022-10-16T20:12:07.956Z"
   },
   {
    "duration": 249,
    "start_time": "2022-10-16T20:12:08.230Z"
   },
   {
    "duration": 276,
    "start_time": "2022-10-16T20:12:08.480Z"
   },
   {
    "duration": 268,
    "start_time": "2022-10-16T20:12:08.758Z"
   },
   {
    "duration": 261,
    "start_time": "2022-10-16T20:12:09.027Z"
   },
   {
    "duration": 369,
    "start_time": "2022-10-16T20:12:09.294Z"
   },
   {
    "duration": 263,
    "start_time": "2022-10-16T20:12:09.664Z"
   },
   {
    "duration": 3,
    "start_time": "2022-10-16T20:12:09.929Z"
   },
   {
    "duration": 208,
    "start_time": "2022-10-16T20:12:09.933Z"
   },
   {
    "duration": 198,
    "start_time": "2022-10-16T20:12:10.143Z"
   },
   {
    "duration": 201,
    "start_time": "2022-10-16T20:12:10.344Z"
   },
   {
    "duration": 211,
    "start_time": "2022-10-16T20:12:10.546Z"
   },
   {
    "duration": 205,
    "start_time": "2022-10-16T20:12:10.759Z"
   },
   {
    "duration": 201,
    "start_time": "2022-10-16T20:12:10.965Z"
   },
   {
    "duration": 206,
    "start_time": "2022-10-16T20:12:11.168Z"
   },
   {
    "duration": 224,
    "start_time": "2022-10-16T20:12:11.376Z"
   },
   {
    "duration": 11,
    "start_time": "2022-10-16T20:12:11.605Z"
   },
   {
    "duration": 31,
    "start_time": "2022-10-16T20:12:11.618Z"
   },
   {
    "duration": 27,
    "start_time": "2022-10-16T20:12:11.651Z"
   },
   {
    "duration": 2,
    "start_time": "2022-10-16T20:12:11.680Z"
   },
   {
    "duration": 29,
    "start_time": "2022-10-16T20:12:11.685Z"
   },
   {
    "duration": 29,
    "start_time": "2022-10-16T20:13:02.213Z"
   },
   {
    "duration": 25,
    "start_time": "2022-10-16T20:13:18.837Z"
   },
   {
    "duration": 25,
    "start_time": "2022-10-16T20:13:24.967Z"
   },
   {
    "duration": 30,
    "start_time": "2022-10-16T20:13:36.695Z"
   },
   {
    "duration": 369,
    "start_time": "2022-10-16T20:13:59.670Z"
   },
   {
    "duration": 2,
    "start_time": "2022-10-16T20:14:08.414Z"
   },
   {
    "duration": 93,
    "start_time": "2022-10-16T20:14:08.418Z"
   },
   {
    "duration": 15,
    "start_time": "2022-10-16T20:14:08.514Z"
   },
   {
    "duration": 20,
    "start_time": "2022-10-16T20:14:08.531Z"
   },
   {
    "duration": 1812,
    "start_time": "2022-10-16T20:14:08.554Z"
   },
   {
    "duration": 11,
    "start_time": "2022-10-16T20:14:10.368Z"
   },
   {
    "duration": 22,
    "start_time": "2022-10-16T20:14:10.380Z"
   },
   {
    "duration": 7,
    "start_time": "2022-10-16T20:14:10.403Z"
   },
   {
    "duration": 12,
    "start_time": "2022-10-16T20:14:10.412Z"
   },
   {
    "duration": 16,
    "start_time": "2022-10-16T20:14:10.426Z"
   },
   {
    "duration": 67,
    "start_time": "2022-10-16T20:14:10.443Z"
   },
   {
    "duration": 6,
    "start_time": "2022-10-16T20:14:10.511Z"
   },
   {
    "duration": 22,
    "start_time": "2022-10-16T20:14:10.519Z"
   },
   {
    "duration": 4,
    "start_time": "2022-10-16T20:14:10.543Z"
   },
   {
    "duration": 10,
    "start_time": "2022-10-16T20:14:10.548Z"
   },
   {
    "duration": 7,
    "start_time": "2022-10-16T20:14:10.559Z"
   },
   {
    "duration": 26,
    "start_time": "2022-10-16T20:14:10.568Z"
   },
   {
    "duration": 5,
    "start_time": "2022-10-16T20:14:10.596Z"
   },
   {
    "duration": 376,
    "start_time": "2022-10-16T20:14:10.603Z"
   },
   {
    "duration": 5,
    "start_time": "2022-10-16T20:14:10.980Z"
   },
   {
    "duration": 27,
    "start_time": "2022-10-16T20:14:10.986Z"
   },
   {
    "duration": 227,
    "start_time": "2022-10-16T20:14:11.014Z"
   },
   {
    "duration": 312,
    "start_time": "2022-10-16T20:14:11.243Z"
   },
   {
    "duration": 272,
    "start_time": "2022-10-16T20:14:11.557Z"
   },
   {
    "duration": 275,
    "start_time": "2022-10-16T20:14:11.831Z"
   },
   {
    "duration": 268,
    "start_time": "2022-10-16T20:14:12.108Z"
   },
   {
    "duration": 290,
    "start_time": "2022-10-16T20:14:12.378Z"
   },
   {
    "duration": 236,
    "start_time": "2022-10-16T20:14:12.670Z"
   },
   {
    "duration": 247,
    "start_time": "2022-10-16T20:14:12.907Z"
   },
   {
    "duration": 246,
    "start_time": "2022-10-16T20:14:13.156Z"
   },
   {
    "duration": 223,
    "start_time": "2022-10-16T20:14:13.403Z"
   },
   {
    "duration": 236,
    "start_time": "2022-10-16T20:14:13.627Z"
   },
   {
    "duration": 230,
    "start_time": "2022-10-16T20:14:13.865Z"
   },
   {
    "duration": 224,
    "start_time": "2022-10-16T20:14:14.096Z"
   },
   {
    "duration": 364,
    "start_time": "2022-10-16T20:14:14.322Z"
   },
   {
    "duration": 225,
    "start_time": "2022-10-16T20:14:14.688Z"
   },
   {
    "duration": 2,
    "start_time": "2022-10-16T20:14:14.915Z"
   },
   {
    "duration": 189,
    "start_time": "2022-10-16T20:14:14.919Z"
   },
   {
    "duration": 178,
    "start_time": "2022-10-16T20:14:15.110Z"
   },
   {
    "duration": 166,
    "start_time": "2022-10-16T20:14:15.294Z"
   },
   {
    "duration": 181,
    "start_time": "2022-10-16T20:14:15.463Z"
   },
   {
    "duration": 188,
    "start_time": "2022-10-16T20:14:15.646Z"
   },
   {
    "duration": 182,
    "start_time": "2022-10-16T20:14:15.835Z"
   },
   {
    "duration": 189,
    "start_time": "2022-10-16T20:14:16.019Z"
   },
   {
    "duration": 200,
    "start_time": "2022-10-16T20:14:16.210Z"
   },
   {
    "duration": 3,
    "start_time": "2022-10-16T20:14:16.412Z"
   },
   {
    "duration": 14,
    "start_time": "2022-10-16T20:14:16.417Z"
   },
   {
    "duration": 17,
    "start_time": "2022-10-16T20:14:16.433Z"
   },
   {
    "duration": 3,
    "start_time": "2022-10-16T20:14:16.452Z"
   },
   {
    "duration": 46,
    "start_time": "2022-10-16T20:14:16.457Z"
   },
   {
    "duration": 311,
    "start_time": "2022-10-16T20:14:36.276Z"
   },
   {
    "duration": 307,
    "start_time": "2022-10-16T20:14:45.127Z"
   },
   {
    "duration": 254,
    "start_time": "2022-10-16T20:15:25.402Z"
   },
   {
    "duration": 397,
    "start_time": "2022-10-16T20:15:41.603Z"
   },
   {
    "duration": 93,
    "start_time": "2022-10-16T20:15:42.001Z"
   },
   {
    "duration": 16,
    "start_time": "2022-10-16T20:15:42.095Z"
   },
   {
    "duration": 28,
    "start_time": "2022-10-16T20:15:42.114Z"
   },
   {
    "duration": 2063,
    "start_time": "2022-10-16T20:15:42.143Z"
   },
   {
    "duration": 17,
    "start_time": "2022-10-16T20:15:44.208Z"
   },
   {
    "duration": 13,
    "start_time": "2022-10-16T20:15:44.227Z"
   },
   {
    "duration": 8,
    "start_time": "2022-10-16T20:15:44.242Z"
   },
   {
    "duration": 13,
    "start_time": "2022-10-16T20:15:44.252Z"
   },
   {
    "duration": 34,
    "start_time": "2022-10-16T20:15:44.269Z"
   },
   {
    "duration": 46,
    "start_time": "2022-10-16T20:15:44.305Z"
   },
   {
    "duration": 6,
    "start_time": "2022-10-16T20:15:44.353Z"
   },
   {
    "duration": 37,
    "start_time": "2022-10-16T20:15:44.361Z"
   },
   {
    "duration": 4,
    "start_time": "2022-10-16T20:15:44.400Z"
   },
   {
    "duration": 6,
    "start_time": "2022-10-16T20:15:44.406Z"
   },
   {
    "duration": 9,
    "start_time": "2022-10-16T20:15:44.413Z"
   },
   {
    "duration": 5,
    "start_time": "2022-10-16T20:15:44.424Z"
   },
   {
    "duration": 7,
    "start_time": "2022-10-16T20:15:44.431Z"
   },
   {
    "duration": 288,
    "start_time": "2022-10-16T20:15:44.440Z"
   },
   {
    "duration": 5,
    "start_time": "2022-10-16T20:15:44.730Z"
   },
   {
    "duration": 24,
    "start_time": "2022-10-16T20:15:44.736Z"
   },
   {
    "duration": 251,
    "start_time": "2022-10-16T20:15:44.761Z"
   },
   {
    "duration": 363,
    "start_time": "2022-10-16T20:15:45.014Z"
   },
   {
    "duration": 267,
    "start_time": "2022-10-16T20:15:45.378Z"
   },
   {
    "duration": 266,
    "start_time": "2022-10-16T20:15:45.646Z"
   },
   {
    "duration": 285,
    "start_time": "2022-10-16T20:15:45.914Z"
   },
   {
    "duration": 207,
    "start_time": "2022-10-16T20:15:46.201Z"
   },
   {
    "duration": 231,
    "start_time": "2022-10-16T20:15:46.411Z"
   },
   {
    "duration": 363,
    "start_time": "2022-10-16T20:15:46.644Z"
   },
   {
    "duration": 222,
    "start_time": "2022-10-16T20:15:47.008Z"
   },
   {
    "duration": 219,
    "start_time": "2022-10-16T20:15:47.232Z"
   },
   {
    "duration": 237,
    "start_time": "2022-10-16T20:15:47.453Z"
   },
   {
    "duration": 223,
    "start_time": "2022-10-16T20:15:47.691Z"
   },
   {
    "duration": 234,
    "start_time": "2022-10-16T20:15:47.915Z"
   },
   {
    "duration": 313,
    "start_time": "2022-10-16T20:15:48.150Z"
   },
   {
    "duration": 248,
    "start_time": "2022-10-16T20:15:48.465Z"
   },
   {
    "duration": 2,
    "start_time": "2022-10-16T20:15:48.715Z"
   },
   {
    "duration": 200,
    "start_time": "2022-10-16T20:15:48.718Z"
   },
   {
    "duration": 192,
    "start_time": "2022-10-16T20:15:48.920Z"
   },
   {
    "duration": 169,
    "start_time": "2022-10-16T20:15:49.113Z"
   },
   {
    "duration": 191,
    "start_time": "2022-10-16T20:15:49.284Z"
   },
   {
    "duration": 199,
    "start_time": "2022-10-16T20:15:49.477Z"
   },
   {
    "duration": 184,
    "start_time": "2022-10-16T20:15:49.678Z"
   },
   {
    "duration": 187,
    "start_time": "2022-10-16T20:15:49.864Z"
   },
   {
    "duration": 197,
    "start_time": "2022-10-16T20:15:50.052Z"
   },
   {
    "duration": 2,
    "start_time": "2022-10-16T20:15:50.251Z"
   },
   {
    "duration": 15,
    "start_time": "2022-10-16T20:15:50.254Z"
   },
   {
    "duration": 25,
    "start_time": "2022-10-16T20:15:50.271Z"
   },
   {
    "duration": 3,
    "start_time": "2022-10-16T20:15:50.297Z"
   },
   {
    "duration": 20,
    "start_time": "2022-10-16T20:15:50.301Z"
   },
   {
    "duration": 22,
    "start_time": "2022-10-16T20:16:02.630Z"
   },
   {
    "duration": 366,
    "start_time": "2022-10-16T20:16:23.358Z"
   },
   {
    "duration": 405,
    "start_time": "2022-10-16T20:16:36.867Z"
   },
   {
    "duration": 89,
    "start_time": "2022-10-16T20:16:37.274Z"
   },
   {
    "duration": 15,
    "start_time": "2022-10-16T20:16:37.364Z"
   },
   {
    "duration": 30,
    "start_time": "2022-10-16T20:16:37.381Z"
   },
   {
    "duration": 2201,
    "start_time": "2022-10-16T20:16:37.413Z"
   },
   {
    "duration": 18,
    "start_time": "2022-10-16T20:16:39.617Z"
   },
   {
    "duration": 12,
    "start_time": "2022-10-16T20:16:39.636Z"
   },
   {
    "duration": 8,
    "start_time": "2022-10-16T20:16:39.649Z"
   },
   {
    "duration": 13,
    "start_time": "2022-10-16T20:16:39.659Z"
   },
   {
    "duration": 27,
    "start_time": "2022-10-16T20:16:39.674Z"
   },
   {
    "duration": 60,
    "start_time": "2022-10-16T20:16:39.702Z"
   },
   {
    "duration": 6,
    "start_time": "2022-10-16T20:16:39.763Z"
   },
   {
    "duration": 38,
    "start_time": "2022-10-16T20:16:39.770Z"
   },
   {
    "duration": 3,
    "start_time": "2022-10-16T20:16:39.811Z"
   },
   {
    "duration": 6,
    "start_time": "2022-10-16T20:16:39.815Z"
   },
   {
    "duration": 7,
    "start_time": "2022-10-16T20:16:39.822Z"
   },
   {
    "duration": 7,
    "start_time": "2022-10-16T20:16:39.830Z"
   },
   {
    "duration": 5,
    "start_time": "2022-10-16T20:16:39.838Z"
   },
   {
    "duration": 304,
    "start_time": "2022-10-16T20:16:39.844Z"
   },
   {
    "duration": 6,
    "start_time": "2022-10-16T20:16:40.151Z"
   },
   {
    "duration": 22,
    "start_time": "2022-10-16T20:16:40.158Z"
   },
   {
    "duration": 240,
    "start_time": "2022-10-16T20:16:40.194Z"
   },
   {
    "duration": 377,
    "start_time": "2022-10-16T20:16:40.436Z"
   },
   {
    "duration": 275,
    "start_time": "2022-10-16T20:16:40.815Z"
   },
   {
    "duration": 316,
    "start_time": "2022-10-16T20:16:41.094Z"
   },
   {
    "duration": 27,
    "start_time": "2022-10-16T20:16:41.412Z"
   },
   {
    "duration": 331,
    "start_time": "2022-10-16T20:16:41.440Z"
   },
   {
    "duration": 206,
    "start_time": "2022-10-16T20:16:41.773Z"
   },
   {
    "duration": 240,
    "start_time": "2022-10-16T20:16:41.981Z"
   },
   {
    "duration": 341,
    "start_time": "2022-10-16T20:16:42.223Z"
   },
   {
    "duration": 241,
    "start_time": "2022-10-16T20:16:42.566Z"
   },
   {
    "duration": 248,
    "start_time": "2022-10-16T20:16:42.809Z"
   },
   {
    "duration": 257,
    "start_time": "2022-10-16T20:16:43.059Z"
   },
   {
    "duration": 261,
    "start_time": "2022-10-16T20:16:43.317Z"
   },
   {
    "duration": 265,
    "start_time": "2022-10-16T20:16:43.580Z"
   },
   {
    "duration": 354,
    "start_time": "2022-10-16T20:16:43.847Z"
   },
   {
    "duration": 227,
    "start_time": "2022-10-16T20:16:44.210Z"
   },
   {
    "duration": 2,
    "start_time": "2022-10-16T20:16:44.439Z"
   },
   {
    "duration": 195,
    "start_time": "2022-10-16T20:16:44.443Z"
   },
   {
    "duration": 189,
    "start_time": "2022-10-16T20:16:44.640Z"
   },
   {
    "duration": 192,
    "start_time": "2022-10-16T20:16:44.834Z"
   },
   {
    "duration": 194,
    "start_time": "2022-10-16T20:16:45.028Z"
   },
   {
    "duration": 193,
    "start_time": "2022-10-16T20:16:45.223Z"
   },
   {
    "duration": 192,
    "start_time": "2022-10-16T20:16:45.419Z"
   },
   {
    "duration": 194,
    "start_time": "2022-10-16T20:16:45.613Z"
   },
   {
    "duration": 188,
    "start_time": "2022-10-16T20:16:45.809Z"
   },
   {
    "duration": 3,
    "start_time": "2022-10-16T20:16:45.999Z"
   },
   {
    "duration": 14,
    "start_time": "2022-10-16T20:16:46.003Z"
   },
   {
    "duration": 13,
    "start_time": "2022-10-16T20:16:46.018Z"
   },
   {
    "duration": 2,
    "start_time": "2022-10-16T20:16:46.033Z"
   },
   {
    "duration": 21,
    "start_time": "2022-10-16T20:16:46.037Z"
   },
   {
    "duration": 375,
    "start_time": "2022-10-16T21:23:05.614Z"
   },
   {
    "duration": 90,
    "start_time": "2022-10-16T21:23:05.990Z"
   },
   {
    "duration": 15,
    "start_time": "2022-10-16T21:23:06.081Z"
   },
   {
    "duration": 33,
    "start_time": "2022-10-16T21:23:06.097Z"
   },
   {
    "duration": 2121,
    "start_time": "2022-10-16T21:23:06.133Z"
   },
   {
    "duration": 17,
    "start_time": "2022-10-16T21:23:08.256Z"
   },
   {
    "duration": 12,
    "start_time": "2022-10-16T21:23:08.275Z"
   },
   {
    "duration": 18,
    "start_time": "2022-10-16T21:23:08.289Z"
   },
   {
    "duration": 12,
    "start_time": "2022-10-16T21:23:08.308Z"
   },
   {
    "duration": 17,
    "start_time": "2022-10-16T21:23:08.321Z"
   },
   {
    "duration": 57,
    "start_time": "2022-10-16T21:23:08.339Z"
   },
   {
    "duration": 5,
    "start_time": "2022-10-16T21:23:08.398Z"
   },
   {
    "duration": 21,
    "start_time": "2022-10-16T21:23:08.404Z"
   },
   {
    "duration": 4,
    "start_time": "2022-10-16T21:23:08.428Z"
   },
   {
    "duration": 7,
    "start_time": "2022-10-16T21:23:08.434Z"
   },
   {
    "duration": 7,
    "start_time": "2022-10-16T21:23:08.442Z"
   },
   {
    "duration": 5,
    "start_time": "2022-10-16T21:23:08.450Z"
   },
   {
    "duration": 5,
    "start_time": "2022-10-16T21:23:08.456Z"
   },
   {
    "duration": 296,
    "start_time": "2022-10-16T21:23:08.462Z"
   },
   {
    "duration": 5,
    "start_time": "2022-10-16T21:23:08.760Z"
   },
   {
    "duration": 29,
    "start_time": "2022-10-16T21:23:08.766Z"
   },
   {
    "duration": 225,
    "start_time": "2022-10-16T21:23:08.797Z"
   },
   {
    "duration": 355,
    "start_time": "2022-10-16T21:23:09.024Z"
   },
   {
    "duration": 288,
    "start_time": "2022-10-16T21:23:09.381Z"
   },
   {
    "duration": 277,
    "start_time": "2022-10-16T21:23:09.671Z"
   },
   {
    "duration": 272,
    "start_time": "2022-10-16T21:23:09.950Z"
   },
   {
    "duration": 185,
    "start_time": "2022-10-16T21:23:10.223Z"
   },
   {
    "duration": 217,
    "start_time": "2022-10-16T21:23:10.410Z"
   },
   {
    "duration": 313,
    "start_time": "2022-10-16T21:23:10.629Z"
   },
   {
    "duration": 220,
    "start_time": "2022-10-16T21:23:10.944Z"
   },
   {
    "duration": 211,
    "start_time": "2022-10-16T21:23:11.166Z"
   },
   {
    "duration": 256,
    "start_time": "2022-10-16T21:23:11.379Z"
   },
   {
    "duration": 238,
    "start_time": "2022-10-16T21:23:11.637Z"
   },
   {
    "duration": 276,
    "start_time": "2022-10-16T21:23:11.877Z"
   },
   {
    "duration": 337,
    "start_time": "2022-10-16T21:23:12.155Z"
   },
   {
    "duration": 235,
    "start_time": "2022-10-16T21:23:12.495Z"
   },
   {
    "duration": 2,
    "start_time": "2022-10-16T21:23:12.731Z"
   },
   {
    "duration": 185,
    "start_time": "2022-10-16T21:23:12.735Z"
   },
   {
    "duration": 177,
    "start_time": "2022-10-16T21:23:12.922Z"
   },
   {
    "duration": 177,
    "start_time": "2022-10-16T21:23:13.100Z"
   },
   {
    "duration": 195,
    "start_time": "2022-10-16T21:23:13.281Z"
   },
   {
    "duration": 195,
    "start_time": "2022-10-16T21:23:13.478Z"
   },
   {
    "duration": 184,
    "start_time": "2022-10-16T21:23:13.675Z"
   },
   {
    "duration": 186,
    "start_time": "2022-10-16T21:23:13.860Z"
   },
   {
    "duration": 185,
    "start_time": "2022-10-16T21:23:14.048Z"
   },
   {
    "duration": 2,
    "start_time": "2022-10-16T21:23:14.235Z"
   },
   {
    "duration": 16,
    "start_time": "2022-10-16T21:23:14.238Z"
   },
   {
    "duration": 16,
    "start_time": "2022-10-16T21:23:14.256Z"
   },
   {
    "duration": 3,
    "start_time": "2022-10-16T21:23:14.273Z"
   },
   {
    "duration": 19,
    "start_time": "2022-10-16T21:23:14.294Z"
   },
   {
    "duration": 3281,
    "start_time": "2022-10-16T21:51:40.702Z"
   },
   {
    "duration": 2588,
    "start_time": "2022-10-16T21:57:30.457Z"
   },
   {
    "duration": 4,
    "start_time": "2022-10-16T21:58:37.037Z"
   },
   {
    "duration": 6,
    "start_time": "2022-10-16T21:58:55.142Z"
   },
   {
    "duration": 5,
    "start_time": "2022-10-16T21:59:19.445Z"
   },
   {
    "duration": 395,
    "start_time": "2022-10-16T22:02:34.293Z"
   },
   {
    "duration": 88,
    "start_time": "2022-10-16T22:02:34.690Z"
   },
   {
    "duration": 14,
    "start_time": "2022-10-16T22:02:34.779Z"
   },
   {
    "duration": 25,
    "start_time": "2022-10-16T22:02:34.794Z"
   },
   {
    "duration": 2089,
    "start_time": "2022-10-16T22:02:34.821Z"
   },
   {
    "duration": 16,
    "start_time": "2022-10-16T22:02:36.912Z"
   },
   {
    "duration": 11,
    "start_time": "2022-10-16T22:02:36.930Z"
   },
   {
    "duration": 10,
    "start_time": "2022-10-16T22:02:36.943Z"
   },
   {
    "duration": 11,
    "start_time": "2022-10-16T22:02:36.955Z"
   },
   {
    "duration": 16,
    "start_time": "2022-10-16T22:02:36.968Z"
   },
   {
    "duration": 52,
    "start_time": "2022-10-16T22:02:36.986Z"
   },
   {
    "duration": 6,
    "start_time": "2022-10-16T22:02:37.040Z"
   },
   {
    "duration": 22,
    "start_time": "2022-10-16T22:02:37.048Z"
   },
   {
    "duration": 2,
    "start_time": "2022-10-16T22:02:37.095Z"
   },
   {
    "duration": 6,
    "start_time": "2022-10-16T22:02:37.098Z"
   },
   {
    "duration": 6,
    "start_time": "2022-10-16T22:02:37.105Z"
   },
   {
    "duration": 4,
    "start_time": "2022-10-16T22:02:37.113Z"
   },
   {
    "duration": 4,
    "start_time": "2022-10-16T22:02:37.119Z"
   },
   {
    "duration": 273,
    "start_time": "2022-10-16T22:02:37.125Z"
   },
   {
    "duration": 5,
    "start_time": "2022-10-16T22:02:37.399Z"
   },
   {
    "duration": 21,
    "start_time": "2022-10-16T22:02:37.405Z"
   },
   {
    "duration": 225,
    "start_time": "2022-10-16T22:02:37.427Z"
   },
   {
    "duration": 353,
    "start_time": "2022-10-16T22:02:37.653Z"
   },
   {
    "duration": 269,
    "start_time": "2022-10-16T22:02:38.007Z"
   },
   {
    "duration": 292,
    "start_time": "2022-10-16T22:02:38.277Z"
   },
   {
    "duration": 266,
    "start_time": "2022-10-16T22:02:38.570Z"
   },
   {
    "duration": 183,
    "start_time": "2022-10-16T22:02:38.838Z"
   },
   {
    "duration": 205,
    "start_time": "2022-10-16T22:02:39.022Z"
   },
   {
    "duration": 316,
    "start_time": "2022-10-16T22:02:39.228Z"
   },
   {
    "duration": 236,
    "start_time": "2022-10-16T22:02:39.545Z"
   },
   {
    "duration": 231,
    "start_time": "2022-10-16T22:02:39.783Z"
   },
   {
    "duration": 241,
    "start_time": "2022-10-16T22:02:40.016Z"
   },
   {
    "duration": 238,
    "start_time": "2022-10-16T22:02:40.258Z"
   },
   {
    "duration": 230,
    "start_time": "2022-10-16T22:02:40.497Z"
   },
   {
    "duration": 340,
    "start_time": "2022-10-16T22:02:40.728Z"
   },
   {
    "duration": 223,
    "start_time": "2022-10-16T22:02:41.070Z"
   },
   {
    "duration": 2,
    "start_time": "2022-10-16T22:02:41.295Z"
   },
   {
    "duration": 199,
    "start_time": "2022-10-16T22:02:41.299Z"
   },
   {
    "duration": 203,
    "start_time": "2022-10-16T22:02:41.499Z"
   },
   {
    "duration": 176,
    "start_time": "2022-10-16T22:02:41.704Z"
   },
   {
    "duration": 187,
    "start_time": "2022-10-16T22:02:41.884Z"
   },
   {
    "duration": 193,
    "start_time": "2022-10-16T22:02:42.072Z"
   },
   {
    "duration": 185,
    "start_time": "2022-10-16T22:02:42.266Z"
   },
   {
    "duration": 189,
    "start_time": "2022-10-16T22:02:42.453Z"
   },
   {
    "duration": 175,
    "start_time": "2022-10-16T22:02:42.644Z"
   },
   {
    "duration": 3,
    "start_time": "2022-10-16T22:02:42.820Z"
   },
   {
    "duration": 13,
    "start_time": "2022-10-16T22:02:42.824Z"
   },
   {
    "duration": 13,
    "start_time": "2022-10-16T22:02:42.839Z"
   },
   {
    "duration": 2,
    "start_time": "2022-10-16T22:02:42.854Z"
   },
   {
    "duration": 41,
    "start_time": "2022-10-16T22:02:42.857Z"
   },
   {
    "duration": 68,
    "start_time": "2022-10-16T22:04:19.963Z"
   },
   {
    "duration": 5,
    "start_time": "2022-10-16T22:04:23.736Z"
   },
   {
    "duration": 1806,
    "start_time": "2022-10-16T22:05:16.228Z"
   },
   {
    "duration": 251,
    "start_time": "2022-10-16T22:05:28.320Z"
   },
   {
    "duration": 388,
    "start_time": "2022-10-16T22:05:48.791Z"
   },
   {
    "duration": 89,
    "start_time": "2022-10-16T22:05:49.180Z"
   },
   {
    "duration": 13,
    "start_time": "2022-10-16T22:05:49.271Z"
   },
   {
    "duration": 27,
    "start_time": "2022-10-16T22:05:49.286Z"
   },
   {
    "duration": 2155,
    "start_time": "2022-10-16T22:05:49.315Z"
   },
   {
    "duration": 18,
    "start_time": "2022-10-16T22:05:51.472Z"
   },
   {
    "duration": 13,
    "start_time": "2022-10-16T22:05:51.492Z"
   },
   {
    "duration": 8,
    "start_time": "2022-10-16T22:05:51.506Z"
   },
   {
    "duration": 12,
    "start_time": "2022-10-16T22:05:51.516Z"
   },
   {
    "duration": 18,
    "start_time": "2022-10-16T22:05:51.529Z"
   },
   {
    "duration": 67,
    "start_time": "2022-10-16T22:05:51.549Z"
   },
   {
    "duration": 6,
    "start_time": "2022-10-16T22:05:51.617Z"
   },
   {
    "duration": 23,
    "start_time": "2022-10-16T22:05:51.624Z"
   },
   {
    "duration": 8,
    "start_time": "2022-10-16T22:05:51.650Z"
   },
   {
    "duration": 6,
    "start_time": "2022-10-16T22:05:51.659Z"
   },
   {
    "duration": 7,
    "start_time": "2022-10-16T22:05:51.666Z"
   },
   {
    "duration": 20,
    "start_time": "2022-10-16T22:05:51.675Z"
   },
   {
    "duration": 6,
    "start_time": "2022-10-16T22:05:51.697Z"
   },
   {
    "duration": 272,
    "start_time": "2022-10-16T22:05:51.705Z"
   },
   {
    "duration": 5,
    "start_time": "2022-10-16T22:05:51.979Z"
   },
   {
    "duration": 57,
    "start_time": "2022-10-16T22:05:51.986Z"
   },
   {
    "duration": 232,
    "start_time": "2022-10-16T22:05:52.045Z"
   },
   {
    "duration": 376,
    "start_time": "2022-10-16T22:05:52.278Z"
   },
   {
    "duration": 281,
    "start_time": "2022-10-16T22:05:52.655Z"
   },
   {
    "duration": 1706,
    "start_time": "2022-10-16T22:05:52.937Z"
   },
   {
    "duration": 292,
    "start_time": "2022-10-16T22:05:54.645Z"
   },
   {
    "duration": 190,
    "start_time": "2022-10-16T22:05:54.939Z"
   },
   {
    "duration": 231,
    "start_time": "2022-10-16T22:05:55.131Z"
   },
   {
    "duration": 363,
    "start_time": "2022-10-16T22:05:55.364Z"
   },
   {
    "duration": 235,
    "start_time": "2022-10-16T22:05:55.729Z"
   },
   {
    "duration": 248,
    "start_time": "2022-10-16T22:05:55.965Z"
   },
   {
    "duration": 246,
    "start_time": "2022-10-16T22:05:56.215Z"
   },
   {
    "duration": 246,
    "start_time": "2022-10-16T22:05:56.462Z"
   },
   {
    "duration": 286,
    "start_time": "2022-10-16T22:05:56.710Z"
   },
   {
    "duration": 342,
    "start_time": "2022-10-16T22:05:56.998Z"
   },
   {
    "duration": 232,
    "start_time": "2022-10-16T22:05:57.342Z"
   },
   {
    "duration": 2,
    "start_time": "2022-10-16T22:05:57.576Z"
   },
   {
    "duration": 180,
    "start_time": "2022-10-16T22:05:57.580Z"
   },
   {
    "duration": 176,
    "start_time": "2022-10-16T22:05:57.761Z"
   },
   {
    "duration": 165,
    "start_time": "2022-10-16T22:05:57.939Z"
   },
   {
    "duration": 188,
    "start_time": "2022-10-16T22:05:58.108Z"
   },
   {
    "duration": 182,
    "start_time": "2022-10-16T22:05:58.297Z"
   },
   {
    "duration": 179,
    "start_time": "2022-10-16T22:05:58.481Z"
   },
   {
    "duration": 186,
    "start_time": "2022-10-16T22:05:58.661Z"
   },
   {
    "duration": 180,
    "start_time": "2022-10-16T22:05:58.849Z"
   },
   {
    "duration": 2,
    "start_time": "2022-10-16T22:05:59.030Z"
   },
   {
    "duration": 15,
    "start_time": "2022-10-16T22:05:59.034Z"
   },
   {
    "duration": 15,
    "start_time": "2022-10-16T22:05:59.051Z"
   },
   {
    "duration": 2,
    "start_time": "2022-10-16T22:05:59.067Z"
   },
   {
    "duration": 39,
    "start_time": "2022-10-16T22:05:59.070Z"
   },
   {
    "duration": 1662,
    "start_time": "2022-10-16T22:06:34.207Z"
   },
   {
    "duration": 357,
    "start_time": "2022-10-16T22:07:12.455Z"
   },
   {
    "duration": 85,
    "start_time": "2022-10-16T22:07:12.814Z"
   },
   {
    "duration": 14,
    "start_time": "2022-10-16T22:07:12.901Z"
   },
   {
    "duration": 26,
    "start_time": "2022-10-16T22:07:12.917Z"
   },
   {
    "duration": 2040,
    "start_time": "2022-10-16T22:07:12.946Z"
   },
   {
    "duration": 19,
    "start_time": "2022-10-16T22:07:14.988Z"
   },
   {
    "duration": 14,
    "start_time": "2022-10-16T22:07:15.009Z"
   },
   {
    "duration": 9,
    "start_time": "2022-10-16T22:07:15.024Z"
   },
   {
    "duration": 13,
    "start_time": "2022-10-16T22:07:15.035Z"
   },
   {
    "duration": 17,
    "start_time": "2022-10-16T22:07:15.049Z"
   },
   {
    "duration": 71,
    "start_time": "2022-10-16T22:07:15.068Z"
   },
   {
    "duration": 6,
    "start_time": "2022-10-16T22:07:15.141Z"
   },
   {
    "duration": 20,
    "start_time": "2022-10-16T22:07:15.148Z"
   },
   {
    "duration": 24,
    "start_time": "2022-10-16T22:07:15.170Z"
   },
   {
    "duration": 4,
    "start_time": "2022-10-16T22:07:15.196Z"
   },
   {
    "duration": 8,
    "start_time": "2022-10-16T22:07:15.201Z"
   },
   {
    "duration": 6,
    "start_time": "2022-10-16T22:07:15.211Z"
   },
   {
    "duration": 5,
    "start_time": "2022-10-16T22:07:15.218Z"
   },
   {
    "duration": 262,
    "start_time": "2022-10-16T22:07:15.224Z"
   },
   {
    "duration": 9,
    "start_time": "2022-10-16T22:07:15.487Z"
   },
   {
    "duration": 21,
    "start_time": "2022-10-16T22:07:15.498Z"
   },
   {
    "duration": 222,
    "start_time": "2022-10-16T22:07:15.521Z"
   },
   {
    "duration": 353,
    "start_time": "2022-10-16T22:07:15.745Z"
   },
   {
    "duration": 288,
    "start_time": "2022-10-16T22:07:16.100Z"
   },
   {
    "duration": 1662,
    "start_time": "2022-10-16T22:07:16.394Z"
   },
   {
    "duration": 274,
    "start_time": "2022-10-16T22:07:18.059Z"
   },
   {
    "duration": 172,
    "start_time": "2022-10-16T22:07:18.334Z"
   },
   {
    "duration": 220,
    "start_time": "2022-10-16T22:07:18.507Z"
   },
   {
    "duration": 328,
    "start_time": "2022-10-16T22:07:18.729Z"
   },
   {
    "duration": 220,
    "start_time": "2022-10-16T22:07:19.059Z"
   },
   {
    "duration": 224,
    "start_time": "2022-10-16T22:07:19.280Z"
   },
   {
    "duration": 239,
    "start_time": "2022-10-16T22:07:19.506Z"
   },
   {
    "duration": 224,
    "start_time": "2022-10-16T22:07:19.747Z"
   },
   {
    "duration": 241,
    "start_time": "2022-10-16T22:07:19.973Z"
   },
   {
    "duration": 341,
    "start_time": "2022-10-16T22:07:20.215Z"
   },
   {
    "duration": 212,
    "start_time": "2022-10-16T22:07:20.558Z"
   },
   {
    "duration": 3,
    "start_time": "2022-10-16T22:07:20.771Z"
   },
   {
    "duration": 189,
    "start_time": "2022-10-16T22:07:20.775Z"
   },
   {
    "duration": 175,
    "start_time": "2022-10-16T22:07:20.966Z"
   },
   {
    "duration": 171,
    "start_time": "2022-10-16T22:07:21.143Z"
   },
   {
    "duration": 210,
    "start_time": "2022-10-16T22:07:21.318Z"
   },
   {
    "duration": 190,
    "start_time": "2022-10-16T22:07:21.530Z"
   },
   {
    "duration": 190,
    "start_time": "2022-10-16T22:07:21.722Z"
   },
   {
    "duration": 220,
    "start_time": "2022-10-16T22:07:21.914Z"
   },
   {
    "duration": 172,
    "start_time": "2022-10-16T22:07:22.135Z"
   },
   {
    "duration": 3,
    "start_time": "2022-10-16T22:07:22.308Z"
   },
   {
    "duration": 16,
    "start_time": "2022-10-16T22:07:22.312Z"
   },
   {
    "duration": 14,
    "start_time": "2022-10-16T22:07:22.329Z"
   },
   {
    "duration": 2,
    "start_time": "2022-10-16T22:07:22.344Z"
   },
   {
    "duration": 20,
    "start_time": "2022-10-16T22:07:22.348Z"
   },
   {
    "duration": 159,
    "start_time": "2022-10-16T22:08:28.601Z"
   },
   {
    "duration": 132,
    "start_time": "2022-10-16T22:08:53.914Z"
   },
   {
    "duration": 225,
    "start_time": "2022-10-16T22:09:08.349Z"
   },
   {
    "duration": 369,
    "start_time": "2022-10-16T22:09:18.942Z"
   },
   {
    "duration": 1649,
    "start_time": "2022-10-16T22:09:57.461Z"
   },
   {
    "duration": 1717,
    "start_time": "2022-10-16T22:10:06.354Z"
   },
   {
    "duration": 1725,
    "start_time": "2022-10-16T22:10:21.326Z"
   },
   {
    "duration": 6,
    "start_time": "2022-10-16T22:13:07.656Z"
   },
   {
    "duration": 12,
    "start_time": "2022-10-16T22:13:14.052Z"
   },
   {
    "duration": 12,
    "start_time": "2022-10-16T22:13:24.002Z"
   },
   {
    "duration": 12,
    "start_time": "2022-10-16T22:13:26.534Z"
   },
   {
    "duration": 42,
    "start_time": "2022-10-16T22:13:38.697Z"
   },
   {
    "duration": 47,
    "start_time": "2022-10-16T22:13:48.178Z"
   },
   {
    "duration": 82,
    "start_time": "2022-10-16T22:14:16.772Z"
   },
   {
    "duration": 10,
    "start_time": "2022-10-16T22:14:26.984Z"
   },
   {
    "duration": 42,
    "start_time": "2022-10-16T22:14:44.211Z"
   },
   {
    "duration": 41,
    "start_time": "2022-10-16T22:17:54.265Z"
   },
   {
    "duration": 39,
    "start_time": "2022-10-16T22:21:36.856Z"
   },
   {
    "duration": 13,
    "start_time": "2022-10-16T22:22:02.534Z"
   },
   {
    "duration": 39,
    "start_time": "2022-10-16T22:22:06.997Z"
   },
   {
    "duration": 13,
    "start_time": "2022-10-16T22:23:25.973Z"
   },
   {
    "duration": 6,
    "start_time": "2022-10-16T22:23:39.041Z"
   },
   {
    "duration": 35,
    "start_time": "2022-10-16T22:23:46.203Z"
   },
   {
    "duration": 39,
    "start_time": "2022-10-16T22:26:47.125Z"
   },
   {
    "duration": 11,
    "start_time": "2022-10-16T22:27:10.797Z"
   },
   {
    "duration": 39,
    "start_time": "2022-10-16T22:27:20.428Z"
   },
   {
    "duration": 41,
    "start_time": "2022-10-16T22:27:45.635Z"
   },
   {
    "duration": 5,
    "start_time": "2022-10-16T22:32:33.244Z"
   },
   {
    "duration": 222,
    "start_time": "2022-10-16T22:32:42.863Z"
   },
   {
    "duration": 3,
    "start_time": "2022-10-16T22:34:46.669Z"
   },
   {
    "duration": 178,
    "start_time": "2022-10-16T23:04:37.850Z"
   },
   {
    "duration": 386,
    "start_time": "2022-10-16T23:05:01.334Z"
   },
   {
    "duration": 174,
    "start_time": "2022-10-16T23:05:04.166Z"
   },
   {
    "duration": 174,
    "start_time": "2022-10-16T23:05:06.318Z"
   },
   {
    "duration": 9,
    "start_time": "2022-10-16T23:06:25.167Z"
   },
   {
    "duration": 149,
    "start_time": "2022-10-16T23:06:33.492Z"
   },
   {
    "duration": 154,
    "start_time": "2022-10-16T23:07:00.809Z"
   },
   {
    "duration": 166,
    "start_time": "2022-10-16T23:08:15.095Z"
   },
   {
    "duration": 439,
    "start_time": "2022-10-17T17:53:41.977Z"
   },
   {
    "duration": 96,
    "start_time": "2022-10-17T17:53:42.418Z"
   },
   {
    "duration": 15,
    "start_time": "2022-10-17T17:53:42.516Z"
   },
   {
    "duration": 29,
    "start_time": "2022-10-17T17:53:42.532Z"
   },
   {
    "duration": 2235,
    "start_time": "2022-10-17T17:53:42.563Z"
   },
   {
    "duration": 18,
    "start_time": "2022-10-17T17:53:44.800Z"
   },
   {
    "duration": 21,
    "start_time": "2022-10-17T17:53:44.819Z"
   },
   {
    "duration": 11,
    "start_time": "2022-10-17T17:53:44.841Z"
   },
   {
    "duration": 13,
    "start_time": "2022-10-17T17:53:44.853Z"
   },
   {
    "duration": 40,
    "start_time": "2022-10-17T17:53:44.867Z"
   },
   {
    "duration": 52,
    "start_time": "2022-10-17T17:53:44.908Z"
   },
   {
    "duration": 7,
    "start_time": "2022-10-17T17:53:44.962Z"
   },
   {
    "duration": 41,
    "start_time": "2022-10-17T17:53:44.970Z"
   },
   {
    "duration": 9,
    "start_time": "2022-10-17T17:53:45.014Z"
   },
   {
    "duration": 13,
    "start_time": "2022-10-17T17:53:45.024Z"
   },
   {
    "duration": 9,
    "start_time": "2022-10-17T17:53:45.039Z"
   },
   {
    "duration": 5,
    "start_time": "2022-10-17T17:53:45.050Z"
   },
   {
    "duration": 5,
    "start_time": "2022-10-17T17:53:45.057Z"
   },
   {
    "duration": 303,
    "start_time": "2022-10-17T17:53:45.064Z"
   },
   {
    "duration": 5,
    "start_time": "2022-10-17T17:53:45.369Z"
   },
   {
    "duration": 31,
    "start_time": "2022-10-17T17:53:45.376Z"
   },
   {
    "duration": 241,
    "start_time": "2022-10-17T17:53:45.409Z"
   },
   {
    "duration": 377,
    "start_time": "2022-10-17T17:53:45.651Z"
   },
   {
    "duration": 286,
    "start_time": "2022-10-17T17:53:46.029Z"
   },
   {
    "duration": 1645,
    "start_time": "2022-10-17T17:53:46.316Z"
   },
   {
    "duration": 326,
    "start_time": "2022-10-17T17:53:47.963Z"
   },
   {
    "duration": 230,
    "start_time": "2022-10-17T17:53:48.297Z"
   },
   {
    "duration": 254,
    "start_time": "2022-10-17T17:53:48.529Z"
   },
   {
    "duration": 349,
    "start_time": "2022-10-17T17:53:48.785Z"
   },
   {
    "duration": 243,
    "start_time": "2022-10-17T17:53:49.136Z"
   },
   {
    "duration": 249,
    "start_time": "2022-10-17T17:53:49.382Z"
   },
   {
    "duration": 261,
    "start_time": "2022-10-17T17:53:49.632Z"
   },
   {
    "duration": 255,
    "start_time": "2022-10-17T17:53:49.896Z"
   },
   {
    "duration": 234,
    "start_time": "2022-10-17T17:53:50.152Z"
   },
   {
    "duration": 367,
    "start_time": "2022-10-17T17:53:50.388Z"
   },
   {
    "duration": 241,
    "start_time": "2022-10-17T17:53:50.757Z"
   },
   {
    "duration": 3,
    "start_time": "2022-10-17T17:53:51.000Z"
   },
   {
    "duration": 199,
    "start_time": "2022-10-17T17:53:51.004Z"
   },
   {
    "duration": 197,
    "start_time": "2022-10-17T17:53:51.205Z"
   },
   {
    "duration": 186,
    "start_time": "2022-10-17T17:53:51.403Z"
   },
   {
    "duration": 204,
    "start_time": "2022-10-17T17:53:51.598Z"
   },
   {
    "duration": 210,
    "start_time": "2022-10-17T17:53:51.804Z"
   },
   {
    "duration": 192,
    "start_time": "2022-10-17T17:53:52.016Z"
   },
   {
    "duration": 190,
    "start_time": "2022-10-17T17:53:52.210Z"
   },
   {
    "duration": 185,
    "start_time": "2022-10-17T17:53:52.402Z"
   },
   {
    "duration": 9,
    "start_time": "2022-10-17T17:53:52.588Z"
   },
   {
    "duration": 11,
    "start_time": "2022-10-17T17:53:52.599Z"
   },
   {
    "duration": 15,
    "start_time": "2022-10-17T17:53:52.612Z"
   },
   {
    "duration": 2,
    "start_time": "2022-10-17T17:53:52.629Z"
   },
   {
    "duration": 27,
    "start_time": "2022-10-17T17:53:52.633Z"
   },
   {
    "duration": 14,
    "start_time": "2022-10-17T17:56:04.136Z"
   },
   {
    "duration": 87,
    "start_time": "2022-10-17T17:56:07.290Z"
   },
   {
    "duration": 705,
    "start_time": "2023-07-06T20:01:03.493Z"
   },
   {
    "duration": 1183,
    "start_time": "2023-07-06T20:01:04.200Z"
   },
   {
    "duration": 17,
    "start_time": "2023-07-06T20:01:05.385Z"
   },
   {
    "duration": 33,
    "start_time": "2023-07-06T20:01:05.404Z"
   },
   {
    "duration": 2923,
    "start_time": "2023-07-06T20:01:05.440Z"
   },
   {
    "duration": 22,
    "start_time": "2023-07-06T20:01:08.365Z"
   },
   {
    "duration": 17,
    "start_time": "2023-07-06T20:01:08.392Z"
   },
   {
    "duration": 9,
    "start_time": "2023-07-06T20:01:08.411Z"
   },
   {
    "duration": 57,
    "start_time": "2023-07-06T20:01:08.421Z"
   },
   {
    "duration": 83,
    "start_time": "2023-07-06T20:01:08.480Z"
   },
   {
    "duration": 52,
    "start_time": "2023-07-06T20:01:08.565Z"
   },
   {
    "duration": 7,
    "start_time": "2023-07-06T20:01:08.619Z"
   },
   {
    "duration": 24,
    "start_time": "2023-07-06T20:01:08.627Z"
   },
   {
    "duration": 3,
    "start_time": "2023-07-06T20:01:08.655Z"
   },
   {
    "duration": 8,
    "start_time": "2023-07-06T20:01:08.659Z"
   },
   {
    "duration": 7,
    "start_time": "2023-07-06T20:01:08.669Z"
   },
   {
    "duration": 26,
    "start_time": "2023-07-06T20:01:08.677Z"
   },
   {
    "duration": 5,
    "start_time": "2023-07-06T20:01:08.705Z"
   },
   {
    "duration": 432,
    "start_time": "2023-07-06T20:01:08.712Z"
   },
   {
    "duration": 6,
    "start_time": "2023-07-06T20:01:09.146Z"
   },
   {
    "duration": 32,
    "start_time": "2023-07-06T20:01:09.153Z"
   },
   {
    "duration": 245,
    "start_time": "2023-07-06T20:01:09.186Z"
   },
   {
    "duration": 384,
    "start_time": "2023-07-06T20:01:09.433Z"
   },
   {
    "duration": 291,
    "start_time": "2023-07-06T20:01:09.819Z"
   },
   {
    "duration": 1789,
    "start_time": "2023-07-06T20:01:10.112Z"
   },
   {
    "duration": 305,
    "start_time": "2023-07-06T20:01:11.903Z"
   },
   {
    "duration": 208,
    "start_time": "2023-07-06T20:01:12.210Z"
   },
   {
    "duration": 366,
    "start_time": "2023-07-06T20:01:12.419Z"
   },
   {
    "duration": 283,
    "start_time": "2023-07-06T20:01:12.787Z"
   },
   {
    "duration": 266,
    "start_time": "2023-07-06T20:01:13.072Z"
   },
   {
    "duration": 252,
    "start_time": "2023-07-06T20:01:13.340Z"
   },
   {
    "duration": 293,
    "start_time": "2023-07-06T20:01:13.594Z"
   },
   {
    "duration": 295,
    "start_time": "2023-07-06T20:01:13.888Z"
   },
   {
    "duration": 246,
    "start_time": "2023-07-06T20:01:14.185Z"
   },
   {
    "duration": 396,
    "start_time": "2023-07-06T20:01:14.432Z"
   },
   {
    "duration": 255,
    "start_time": "2023-07-06T20:01:14.830Z"
   },
   {
    "duration": 16,
    "start_time": "2023-07-06T20:01:15.086Z"
   },
   {
    "duration": 335,
    "start_time": "2023-07-06T20:01:15.103Z"
   },
   {
    "duration": 228,
    "start_time": "2023-07-06T20:01:15.440Z"
   },
   {
    "duration": 208,
    "start_time": "2023-07-06T20:01:15.670Z"
   },
   {
    "duration": 235,
    "start_time": "2023-07-06T20:01:15.883Z"
   },
   {
    "duration": 232,
    "start_time": "2023-07-06T20:01:16.120Z"
   },
   {
    "duration": 219,
    "start_time": "2023-07-06T20:01:16.354Z"
   },
   {
    "duration": 212,
    "start_time": "2023-07-06T20:01:16.575Z"
   },
   {
    "duration": 219,
    "start_time": "2023-07-06T20:01:16.790Z"
   },
   {
    "duration": 3,
    "start_time": "2023-07-06T20:01:17.011Z"
   },
   {
    "duration": 15,
    "start_time": "2023-07-06T20:01:17.016Z"
   },
   {
    "duration": 22,
    "start_time": "2023-07-06T20:01:17.033Z"
   },
   {
    "duration": 3,
    "start_time": "2023-07-06T20:01:17.057Z"
   },
   {
    "duration": 44,
    "start_time": "2023-07-06T20:01:17.061Z"
   }
  ],
  "kernelspec": {
   "display_name": "Python 3 (ipykernel)",
   "language": "python",
   "name": "python3"
  },
  "language_info": {
   "codemirror_mode": {
    "name": "ipython",
    "version": 3
   },
   "file_extension": ".py",
   "mimetype": "text/x-python",
   "name": "python",
   "nbconvert_exporter": "python",
   "pygments_lexer": "ipython3",
   "version": "3.9.13"
  },
  "toc": {
   "base_numbering": 1,
   "nav_menu": {},
   "number_sections": true,
   "sideBar": true,
   "skip_h1_title": true,
   "title_cell": "Table of Contents",
   "title_sidebar": "Contents",
   "toc_cell": false,
   "toc_position": {},
   "toc_section_display": true,
   "toc_window_display": false
  }
 },
 "nbformat": 4,
 "nbformat_minor": 2
}
